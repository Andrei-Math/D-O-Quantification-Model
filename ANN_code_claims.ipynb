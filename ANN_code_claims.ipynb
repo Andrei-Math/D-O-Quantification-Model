{
 "cells": [
  {
   "cell_type": "markdown",
   "metadata": {},
   "source": [
    "# Import libraries"
   ]
  },
  {
   "cell_type": "code",
   "execution_count": 2,
   "metadata": {
    "id": "WgrKHgHm5Wp3"
   },
   "outputs": [],
   "source": [
    "import tensorflow as tf\n",
    "import pandas as pd\n",
    "import numpy as np\n",
    "import seaborn as sns\n",
    "import matplotlib.pyplot as plt\n",
    "import os"
   ]
  },
  {
   "cell_type": "markdown",
   "metadata": {},
   "source": [
    "# Read and prepare the dataset"
   ]
  },
  {
   "cell_type": "code",
   "execution_count": 3,
   "metadata": {
    "colab": {
     "base_uri": "https://localhost:8080/",
     "height": 223
    },
    "id": "bNBki3HPvpBG",
    "outputId": "39eeed05-5fd4-4119-c6e0-59b609bf8a56"
   },
   "outputs": [
    {
     "name": "stdout",
     "output_type": "stream",
     "text": [
      "(11752, 7)\n"
     ]
    },
    {
     "data": {
      "text/html": [
       "<div>\n",
       "<style scoped>\n",
       "    .dataframe tbody tr th:only-of-type {\n",
       "        vertical-align: middle;\n",
       "    }\n",
       "\n",
       "    .dataframe tbody tr th {\n",
       "        vertical-align: top;\n",
       "    }\n",
       "\n",
       "    .dataframe thead th {\n",
       "        text-align: right;\n",
       "    }\n",
       "</style>\n",
       "<table border=\"1\" class=\"dataframe\">\n",
       "  <thead>\n",
       "    <tr style=\"text-align: right;\">\n",
       "      <th></th>\n",
       "      <th>approx_loss_year</th>\n",
       "      <th>COMPANY_ID</th>\n",
       "      <th>ADR Flag</th>\n",
       "      <th>ClaimNb</th>\n",
       "      <th>SUB_REGION</th>\n",
       "      <th>Sector</th>\n",
       "      <th>RECENT_IPO</th>\n",
       "    </tr>\n",
       "  </thead>\n",
       "  <tbody>\n",
       "    <tr>\n",
       "      <th>0</th>\n",
       "      <td>1990.0</td>\n",
       "      <td>1003820</td>\n",
       "      <td>False</td>\n",
       "      <td>1</td>\n",
       "      <td>United States</td>\n",
       "      <td>Industrials</td>\n",
       "      <td>False</td>\n",
       "    </tr>\n",
       "    <tr>\n",
       "      <th>1</th>\n",
       "      <td>1990.0</td>\n",
       "      <td>1079296</td>\n",
       "      <td>False</td>\n",
       "      <td>1</td>\n",
       "      <td>United States</td>\n",
       "      <td>Industrials</td>\n",
       "      <td>False</td>\n",
       "    </tr>\n",
       "    <tr>\n",
       "      <th>2</th>\n",
       "      <td>1990.0</td>\n",
       "      <td>1084455</td>\n",
       "      <td>False</td>\n",
       "      <td>1</td>\n",
       "      <td>United States</td>\n",
       "      <td>Communication Services</td>\n",
       "      <td>False</td>\n",
       "    </tr>\n",
       "    <tr>\n",
       "      <th>3</th>\n",
       "      <td>1991.0</td>\n",
       "      <td>1081494</td>\n",
       "      <td>False</td>\n",
       "      <td>1</td>\n",
       "      <td>United States</td>\n",
       "      <td>Consumer Discretionary</td>\n",
       "      <td>False</td>\n",
       "    </tr>\n",
       "    <tr>\n",
       "      <th>4</th>\n",
       "      <td>1992.0</td>\n",
       "      <td>1000676</td>\n",
       "      <td>False</td>\n",
       "      <td>1</td>\n",
       "      <td>United States</td>\n",
       "      <td>Industrials</td>\n",
       "      <td>False</td>\n",
       "    </tr>\n",
       "  </tbody>\n",
       "</table>\n",
       "</div>"
      ],
      "text/plain": [
       "   approx_loss_year  COMPANY_ID  ADR Flag  ClaimNb     SUB_REGION  \\\n",
       "0            1990.0     1003820     False        1  United States   \n",
       "1            1990.0     1079296     False        1  United States   \n",
       "2            1990.0     1084455     False        1  United States   \n",
       "3            1991.0     1081494     False        1  United States   \n",
       "4            1992.0     1000676     False        1  United States   \n",
       "\n",
       "                   Sector  RECENT_IPO  \n",
       "0             Industrials       False  \n",
       "1             Industrials       False  \n",
       "2  Communication Services       False  \n",
       "3  Consumer Discretionary       False  \n",
       "4             Industrials       False  "
      ]
     },
     "execution_count": 3,
     "metadata": {},
     "output_type": "execute_result"
    }
   ],
   "source": [
    "cdata = pd.read_csv('cdata.csv')\n",
    "cdata = cdata.iloc[:,1:] # drop the first column which are indexes\n",
    "cdata = cdata.dropna()\n",
    "print(cdata.shape)\n",
    "cdata.head()"
   ]
  },
  {
   "cell_type": "code",
   "execution_count": 4,
   "metadata": {
    "colab": {
     "base_uri": "https://localhost:8080/"
    },
    "id": "ZbsUl7pfxP5q",
    "outputId": "2a891553-a16e-4a5a-c441-349a1eb24418"
   },
   "outputs": [
    {
     "name": "stdout",
     "output_type": "stream",
     "text": [
      "<class 'pandas.core.frame.DataFrame'>\n",
      "Int64Index: 11752 entries, 0 to 11762\n",
      "Data columns (total 7 columns):\n",
      " #   Column            Non-Null Count  Dtype  \n",
      "---  ------            --------------  -----  \n",
      " 0   approx_loss_year  11752 non-null  float64\n",
      " 1   COMPANY_ID        11752 non-null  int64  \n",
      " 2   ADR Flag          11752 non-null  bool   \n",
      " 3   ClaimNb           11752 non-null  int64  \n",
      " 4   SUB_REGION        11752 non-null  object \n",
      " 5   Sector            11752 non-null  object \n",
      " 6   RECENT_IPO        11752 non-null  bool   \n",
      "dtypes: bool(2), float64(1), int64(2), object(2)\n",
      "memory usage: 573.8+ KB\n"
     ]
    }
   ],
   "source": [
    "cdata.info()"
   ]
  },
  {
   "cell_type": "code",
   "execution_count": 5,
   "metadata": {
    "colab": {
     "base_uri": "https://localhost:8080/",
     "height": 317
    },
    "id": "rzjiAn6Qv12F",
    "outputId": "629a98f7-a173-4a9c-e314-8084455f9cd2"
   },
   "outputs": [
    {
     "data": {
      "text/html": [
       "<div>\n",
       "<style scoped>\n",
       "    .dataframe tbody tr th:only-of-type {\n",
       "        vertical-align: middle;\n",
       "    }\n",
       "\n",
       "    .dataframe tbody tr th {\n",
       "        vertical-align: top;\n",
       "    }\n",
       "\n",
       "    .dataframe thead th {\n",
       "        text-align: right;\n",
       "    }\n",
       "</style>\n",
       "<table border=\"1\" class=\"dataframe\">\n",
       "  <thead>\n",
       "    <tr style=\"text-align: right;\">\n",
       "      <th></th>\n",
       "      <th>ADR Flag</th>\n",
       "      <th>RECENT_IPO</th>\n",
       "      <th>SUB_REGION_Africa</th>\n",
       "      <th>SUB_REGION_Canada</th>\n",
       "      <th>SUB_REGION_France</th>\n",
       "      <th>SUB_REGION_Germany</th>\n",
       "      <th>SUB_REGION_Greater Middle East</th>\n",
       "      <th>SUB_REGION_Hong Kong</th>\n",
       "      <th>SUB_REGION_Israel</th>\n",
       "      <th>SUB_REGION_Japan</th>\n",
       "      <th>...</th>\n",
       "      <th>Sector_Consumer Discretionary</th>\n",
       "      <th>Sector_Consumer Staples</th>\n",
       "      <th>Sector_Energy</th>\n",
       "      <th>Sector_Financials</th>\n",
       "      <th>Sector_Health Care</th>\n",
       "      <th>Sector_Industrials</th>\n",
       "      <th>Sector_Information Technology</th>\n",
       "      <th>Sector_Materials</th>\n",
       "      <th>Sector_Real Estate</th>\n",
       "      <th>Sector_Utilities</th>\n",
       "    </tr>\n",
       "  </thead>\n",
       "  <tbody>\n",
       "    <tr>\n",
       "      <th>0</th>\n",
       "      <td>0</td>\n",
       "      <td>0</td>\n",
       "      <td>0</td>\n",
       "      <td>0</td>\n",
       "      <td>0</td>\n",
       "      <td>0</td>\n",
       "      <td>0</td>\n",
       "      <td>0</td>\n",
       "      <td>0</td>\n",
       "      <td>0</td>\n",
       "      <td>...</td>\n",
       "      <td>0</td>\n",
       "      <td>0</td>\n",
       "      <td>0</td>\n",
       "      <td>0</td>\n",
       "      <td>0</td>\n",
       "      <td>1</td>\n",
       "      <td>0</td>\n",
       "      <td>0</td>\n",
       "      <td>0</td>\n",
       "      <td>0</td>\n",
       "    </tr>\n",
       "    <tr>\n",
       "      <th>1</th>\n",
       "      <td>0</td>\n",
       "      <td>0</td>\n",
       "      <td>0</td>\n",
       "      <td>0</td>\n",
       "      <td>0</td>\n",
       "      <td>0</td>\n",
       "      <td>0</td>\n",
       "      <td>0</td>\n",
       "      <td>0</td>\n",
       "      <td>0</td>\n",
       "      <td>...</td>\n",
       "      <td>0</td>\n",
       "      <td>0</td>\n",
       "      <td>0</td>\n",
       "      <td>0</td>\n",
       "      <td>0</td>\n",
       "      <td>1</td>\n",
       "      <td>0</td>\n",
       "      <td>0</td>\n",
       "      <td>0</td>\n",
       "      <td>0</td>\n",
       "    </tr>\n",
       "    <tr>\n",
       "      <th>2</th>\n",
       "      <td>0</td>\n",
       "      <td>0</td>\n",
       "      <td>0</td>\n",
       "      <td>0</td>\n",
       "      <td>0</td>\n",
       "      <td>0</td>\n",
       "      <td>0</td>\n",
       "      <td>0</td>\n",
       "      <td>0</td>\n",
       "      <td>0</td>\n",
       "      <td>...</td>\n",
       "      <td>0</td>\n",
       "      <td>0</td>\n",
       "      <td>0</td>\n",
       "      <td>0</td>\n",
       "      <td>0</td>\n",
       "      <td>0</td>\n",
       "      <td>0</td>\n",
       "      <td>0</td>\n",
       "      <td>0</td>\n",
       "      <td>0</td>\n",
       "    </tr>\n",
       "    <tr>\n",
       "      <th>3</th>\n",
       "      <td>0</td>\n",
       "      <td>0</td>\n",
       "      <td>0</td>\n",
       "      <td>0</td>\n",
       "      <td>0</td>\n",
       "      <td>0</td>\n",
       "      <td>0</td>\n",
       "      <td>0</td>\n",
       "      <td>0</td>\n",
       "      <td>0</td>\n",
       "      <td>...</td>\n",
       "      <td>1</td>\n",
       "      <td>0</td>\n",
       "      <td>0</td>\n",
       "      <td>0</td>\n",
       "      <td>0</td>\n",
       "      <td>0</td>\n",
       "      <td>0</td>\n",
       "      <td>0</td>\n",
       "      <td>0</td>\n",
       "      <td>0</td>\n",
       "    </tr>\n",
       "    <tr>\n",
       "      <th>4</th>\n",
       "      <td>0</td>\n",
       "      <td>0</td>\n",
       "      <td>0</td>\n",
       "      <td>0</td>\n",
       "      <td>0</td>\n",
       "      <td>0</td>\n",
       "      <td>0</td>\n",
       "      <td>0</td>\n",
       "      <td>0</td>\n",
       "      <td>0</td>\n",
       "      <td>...</td>\n",
       "      <td>0</td>\n",
       "      <td>0</td>\n",
       "      <td>0</td>\n",
       "      <td>0</td>\n",
       "      <td>0</td>\n",
       "      <td>1</td>\n",
       "      <td>0</td>\n",
       "      <td>0</td>\n",
       "      <td>0</td>\n",
       "      <td>0</td>\n",
       "    </tr>\n",
       "  </tbody>\n",
       "</table>\n",
       "<p>5 rows × 31 columns</p>\n",
       "</div>"
      ],
      "text/plain": [
       "   ADR Flag  RECENT_IPO  SUB_REGION_Africa  SUB_REGION_Canada  \\\n",
       "0         0           0                  0                  0   \n",
       "1         0           0                  0                  0   \n",
       "2         0           0                  0                  0   \n",
       "3         0           0                  0                  0   \n",
       "4         0           0                  0                  0   \n",
       "\n",
       "   SUB_REGION_France  SUB_REGION_Germany  SUB_REGION_Greater Middle East  \\\n",
       "0                  0                   0                               0   \n",
       "1                  0                   0                               0   \n",
       "2                  0                   0                               0   \n",
       "3                  0                   0                               0   \n",
       "4                  0                   0                               0   \n",
       "\n",
       "   SUB_REGION_Hong Kong  SUB_REGION_Israel  SUB_REGION_Japan  ...  \\\n",
       "0                     0                  0                 0  ...   \n",
       "1                     0                  0                 0  ...   \n",
       "2                     0                  0                 0  ...   \n",
       "3                     0                  0                 0  ...   \n",
       "4                     0                  0                 0  ...   \n",
       "\n",
       "   Sector_Consumer Discretionary  Sector_Consumer Staples  Sector_Energy  \\\n",
       "0                              0                        0              0   \n",
       "1                              0                        0              0   \n",
       "2                              0                        0              0   \n",
       "3                              1                        0              0   \n",
       "4                              0                        0              0   \n",
       "\n",
       "   Sector_Financials  Sector_Health Care  Sector_Industrials  \\\n",
       "0                  0                   0                   1   \n",
       "1                  0                   0                   1   \n",
       "2                  0                   0                   0   \n",
       "3                  0                   0                   0   \n",
       "4                  0                   0                   1   \n",
       "\n",
       "   Sector_Information Technology  Sector_Materials  Sector_Real Estate  \\\n",
       "0                              0                 0                   0   \n",
       "1                              0                 0                   0   \n",
       "2                              0                 0                   0   \n",
       "3                              0                 0                   0   \n",
       "4                              0                 0                   0   \n",
       "\n",
       "   Sector_Utilities  \n",
       "0                 0  \n",
       "1                 0  \n",
       "2                 0  \n",
       "3                 0  \n",
       "4                 0  \n",
       "\n",
       "[5 rows x 31 columns]"
      ]
     },
     "execution_count": 5,
     "metadata": {},
     "output_type": "execute_result"
    }
   ],
   "source": [
    "cat_columns = ['SUB_REGION', 'ADR Flag', 'Sector', 'RECENT_IPO']\n",
    "X = pd.get_dummies(cdata[cat_columns])\n",
    "X['ADR Flag'] = X['ADR Flag'].astype(int)\n",
    "X['RECENT_IPO'] = X['RECENT_IPO'].astype(int)\n",
    "X.head()"
   ]
  },
  {
   "cell_type": "code",
   "execution_count": 6,
   "metadata": {
    "colab": {
     "base_uri": "https://localhost:8080/"
    },
    "id": "W4NHUCnCwpYa",
    "outputId": "f877f2f3-3942-4c86-913d-248c26ecb113"
   },
   "outputs": [
    {
     "data": {
      "text/plain": [
       "0    1\n",
       "1    1\n",
       "2    1\n",
       "3    1\n",
       "4    1\n",
       "Name: ClaimNb, dtype: int64"
      ]
     },
     "execution_count": 6,
     "metadata": {},
     "output_type": "execute_result"
    }
   ],
   "source": [
    "y = cdata['ClaimNb']\n",
    "y.head()"
   ]
  },
  {
   "cell_type": "code",
   "execution_count": 7,
   "metadata": {
    "colab": {
     "base_uri": "https://localhost:8080/"
    },
    "id": "onEdRIbhwxF_",
    "outputId": "756ae05c-9aec-40ba-afa7-22106656c1e7"
   },
   "outputs": [
    {
     "name": "stdout",
     "output_type": "stream",
     "text": [
      "(7873, 31)\n",
      "(3879, 31)\n"
     ]
    }
   ],
   "source": [
    "from sklearn.model_selection import train_test_split\n",
    "\n",
    "Xtrain, Xtest, ytrain, ytest = train_test_split(X, y, test_size=0.33, random_state=42)\n",
    "print(Xtrain.shape)\n",
    "print(Xtest.shape)"
   ]
  },
  {
   "cell_type": "code",
   "execution_count": 8,
   "metadata": {
    "id": "rmtP-3Nu6mWo"
   },
   "outputs": [],
   "source": [
    "def poisson_deviance(y_true, y_pred):\n",
    "  return 2*( np.sum( y_pred ) - np.sum( y_true ) + np.sum( np.log(( y_true / y_pred )**(y_true))))/len(y_true)"
   ]
  },
  {
   "cell_type": "code",
   "execution_count": 10,
   "metadata": {
    "id": "8SNh2QYBApiD"
   },
   "outputs": [],
   "source": [
    "# store results for each model\n",
    "# store predictions for each model\n",
    "train = pd.DataFrame()\n",
    "test = pd.DataFrame()\n",
    "train['ClaimNb'] = ytrain\n",
    "test['ClaimNb'] = ytest\n",
    "\n",
    "train_results = pd.DataFrame(index=['poisson deviance'])\n",
    "test_results = pd.DataFrame(index=['poisson deviance'])"
   ]
  },
  {
   "cell_type": "markdown",
   "metadata": {
    "id": "rCLgUBrjLQUq"
   },
   "source": [
    "# Exploratory Data Analysis"
   ]
  },
  {
   "cell_type": "code",
   "execution_count": 11,
   "metadata": {
    "id": "Yxev17Q8ScQ5"
   },
   "outputs": [],
   "source": [
    "PLOT_DIRECTORY = 'plots'\n",
    "def save_figure(title):\n",
    "  \n",
    "  if PLOT_DIRECTORY not in os.listdir():\n",
    "    os.mkdir(PLOT_DIRECTORY)\n",
    "  else:\n",
    "    print('Directory already exists')\n",
    "  fname = title + '.png'\n",
    "  path = os.path.join(PLOT_DIRECTORY, fname)\n",
    "  if fname not in os.listdir(PLOT_DIRECTORY):\n",
    "    plt.savefig(path)\n",
    "    print('Saved!')\n",
    "  else:\n",
    "    print('File with same name already exists!')"
   ]
  },
  {
   "cell_type": "code",
   "execution_count": 12,
   "metadata": {
    "colab": {
     "base_uri": "https://localhost:8080/",
     "height": 312
    },
    "id": "Y1P5utOVO0OV",
    "outputId": "e55d29cc-bd28-465b-a52a-b7003cfab6a4"
   },
   "outputs": [
    {
     "name": "stdout",
     "output_type": "stream",
     "text": [
      "Saved!\n"
     ]
    },
    {
     "data": {
      "image/png": "[encoded data removed]",
      "text/plain": [
       "<Figure size 432x288 with 1 Axes>"
      ]
     },
     "metadata": {
      "needs_background": "light"
     },
     "output_type": "display_data"
    }
   ],
   "source": [
    "cdata['ClaimNb'].hist(bins=10, grid=False)\n",
    "plt.ylabel('Frequency')\n",
    "plt.xlabel('Number of Claims')\n",
    "title = 'Histogram of claim numbers'\n",
    "plt.title(title)\n",
    "plt.ylim([0, 1e4])\n",
    "plt.xlim([0, 8])\n",
    "save_figure(title)\n",
    "plt.show()"
   ]
  },
  {
   "cell_type": "code",
   "execution_count": 13,
   "metadata": {
    "colab": {
     "base_uri": "https://localhost:8080/",
     "height": 845
    },
    "id": "3vY1OSM1Pv8A",
    "outputId": "db9314b0-57ba-4f79-8e3d-0a3175e4c1ac"
   },
   "outputs": [
    {
     "name": "stdout",
     "output_type": "stream",
     "text": [
      "Directory already exists\n",
      "Saved!\n"
     ]
    },
    {
     "data": {
      "image/png": "[encoded data removed]",
      "text/plain": [
       "<Figure size 432x288 with 1 Axes>"
      ]
     },
     "metadata": {
      "needs_background": "light"
     },
     "output_type": "display_data"
    },
    {
     "name": "stdout",
     "output_type": "stream",
     "text": [
      "Directory already exists\n",
      "Saved!\n"
     ]
    },
    {
     "data": {
      "image/png": "[encoded data removed]",
      "text/plain": [
       "<Figure size 432x288 with 1 Axes>"
      ]
     },
     "metadata": {
      "needs_background": "light"
     },
     "output_type": "display_data"
    }
   ],
   "source": [
    "# Count of regions and sectors\n",
    "cdata_agg_region = cdata.groupby(by='SUB_REGION').agg({'ClaimNb':['count','mean', 'sum', 'max', 'min']}).sort_values(by=[('ClaimNb','sum')], ascending=False)\n",
    "cdata_agg_sector = cdata.groupby(by='Sector').agg({'ClaimNb':['count', 'mean', 'sum', 'max', 'min']}).sort_values(by=[('ClaimNb','sum')], ascending=False)\n",
    "cdata_agg_adr = cdata.groupby(by='ADR Flag').agg({'ClaimNb':['count', 'mean', 'sum', 'max', 'min']}).sort_values(by=[('ClaimNb','sum')], ascending=False)\n",
    "cdata_agg_ipo = cdata.groupby(by='RECENT_IPO').agg({'ClaimNb':['count', 'mean', 'sum', 'max', 'min']}).sort_values(by=[('ClaimNb','sum')], ascending=False)\n",
    "\n",
    "cdata_agg_region.plot.bar(y=('ClaimNb','count'), legend=False)\n",
    "title = 'Frequency of regions in the data'\n",
    "plt.title(title)\n",
    "plt.ylabel('Frequency')\n",
    "plt.xlabel('Region')\n",
    "plt.yscale('log')\n",
    "plt.ylim([0.1, 1e5])\n",
    "save_figure(title)\n",
    "plt.show()\n",
    "\n",
    "cdata_agg_sector.plot.bar(y=('ClaimNb','count'), legend=False)\n",
    "title = 'Frequency of sectors in the data'\n",
    "plt.title(title)\n",
    "plt.ylabel('Frequency')\n",
    "plt.xlabel('Sector')\n",
    "plt.ylim([0, 2500])\n",
    "save_figure(title)\n",
    "plt.show()"
   ]
  },
  {
   "cell_type": "code",
   "execution_count": 14,
   "metadata": {
    "colab": {
     "base_uri": "https://localhost:8080/",
     "height": 845
    },
    "id": "lsg0lYEdLWF7",
    "outputId": "c97b0433-d046-4897-e4f5-208affcd0bad"
   },
   "outputs": [
    {
     "name": "stdout",
     "output_type": "stream",
     "text": [
      "Directory already exists\n",
      "Saved!\n"
     ]
    },
    {
     "data": {
      "image/png": "[encoded data removed]",
      "text/plain": [
       "<Figure size 432x288 with 1 Axes>"
      ]
     },
     "metadata": {
      "needs_background": "light"
     },
     "output_type": "display_data"
    },
    {
     "name": "stdout",
     "output_type": "stream",
     "text": [
      "Directory already exists\n",
      "Saved!\n"
     ]
    },
    {
     "data": {
      "image/png": "[encoded data removed]",
      "text/plain": [
       "<Figure size 432x288 with 1 Axes>"
      ]
     },
     "metadata": {
      "needs_background": "light"
     },
     "output_type": "display_data"
    }
   ],
   "source": [
    "# TOtal number of claimns plot\n",
    "# Claims per region\n",
    "\n",
    "cdata_agg_region.plot.bar(y=('ClaimNb','sum'), legend=False)\n",
    "title = 'Total number of claims per region'\n",
    "plt.title(title)\n",
    "plt.ylabel('Number of claims')\n",
    "plt.xlabel('Region')\n",
    "plt.yscale('log')\n",
    "plt.ylim([0.1,1e5])\n",
    "save_figure(title)\n",
    "plt.show()\n",
    "\n",
    "# Claims per sector\n",
    "\n",
    "cdata_agg_sector.plot.bar(y=('ClaimNb','sum'), legend=False)\n",
    "title = 'Total number of claims per sector'\n",
    "plt.title(title)\n",
    "plt.ylabel('Number of claims')\n",
    "plt.xlabel('Sector')\n",
    "plt.ylim([0, 3e3])\n",
    "save_figure(title)\n",
    "plt.show()"
   ]
  },
  {
   "cell_type": "code",
   "execution_count": null,
   "metadata": {
    "colab": {
     "base_uri": "https://localhost:8080/",
     "height": 845
    },
    "id": "q1vGignvN_ws",
    "outputId": "6f5992df-ffa0-4600-a200-8392f9fe77ef"
   },
   "outputs": [
    {
     "name": "stdout",
     "output_type": "stream",
     "text": [
      "Directory already exists\n",
      "Saved!\n"
     ]
    },
    {
     "data": {
      "image/png": "[encoded data removed]",
      "text/plain": [
       "<Figure size 432x288 with 1 Axes>"
      ]
     },
     "metadata": {
      "needs_background": "light"
     },
     "output_type": "display_data"
    },
    {
     "name": "stdout",
     "output_type": "stream",
     "text": [
      "Directory already exists\n",
      "Saved!\n"
     ]
    },
    {
     "data": {
      "image/png": "[encoded data removed]",
      "text/plain": [
       "<Figure size 432x288 with 1 Axes>"
      ]
     },
     "metadata": {
      "needs_background": "light"
     },
     "output_type": "display_data"
    }
   ],
   "source": [
    "num_years = cdata['approx_loss_year'].max() - cdata['approx_loss_year'].min()\n",
    "(cdata_agg_region/num_years).plot.bar(y=('ClaimNb','sum'), legend=False)\n",
    "title = 'Average number of claims per year per region'\n",
    "plt.title(title)\n",
    "plt.ylabel('Number of claims (log)')\n",
    "\n",
    "plt.xlabel('Region')\n",
    "plt.yscale('log')\n",
    "plt.ylim([0.1, 1000])\n",
    "save_figure(title)\n",
    "\n",
    "plt.show()\n",
    "\n",
    "(cdata_agg_sector/num_years).plot.bar(y=('ClaimNb','sum'), legend=False)\n",
    "title ='Average number of claims per year per sector'\n",
    "plt.title(title)\n",
    "plt.ylabel('Number of claims')\n",
    "plt.xlabel('Sector')\n",
    "plt.ylim([0, 100])\n",
    "save_figure(title)\n",
    "plt.show()"
   ]
  },
  {
   "cell_type": "code",
   "execution_count": null,
   "metadata": {
    "colab": {
     "base_uri": "https://localhost:8080/",
     "height": 327
    },
    "id": "03j-povZQml2",
    "outputId": "720504e8-c2a3-4762-c557-cb11a4ea6cb8"
   },
   "outputs": [
    {
     "name": "stdout",
     "output_type": "stream",
     "text": [
      "Directory already exists\n",
      "Saved!\n"
     ]
    },
    {
     "data": {
      "image/png": "[encoded data removed]",
      "text/plain": [
       "<Figure size 432x288 with 1 Axes>"
      ]
     },
     "metadata": {
      "needs_background": "light"
     },
     "output_type": "display_data"
    }
   ],
   "source": [
    "(cdata.groupby('ClaimNb').count().iloc[:,0]).plot.bar()\n",
    "plt.ylabel('Frequency (log)')\n",
    "plt.xlabel('Number of Claims')\n",
    "title = 'Frequency of claims in data'\n",
    "plt.title(title)\n",
    "plt.yscale('log')\n",
    "plt.ylim([0.1, 1e5])\n",
    "save_figure(title)\n",
    "plt.show()"
   ]
  },
  {
   "cell_type": "code",
   "execution_count": null,
   "metadata": {
    "colab": {
     "base_uri": "https://localhost:8080/",
     "height": 346
    },
    "id": "kWwZN9RETlN1",
    "outputId": "104b2858-7411-4f23-8954-9e81bcad5275"
   },
   "outputs": [
    {
     "name": "stdout",
     "output_type": "stream",
     "text": [
      "Directory already exists\n",
      "Saved!\n"
     ]
    },
    {
     "data": {
      "image/png": "[encoded data removed]",
      "text/plain": [
       "<Figure size 432x288 with 1 Axes>"
      ]
     },
     "metadata": {
      "needs_background": "light"
     },
     "output_type": "display_data"
    }
   ],
   "source": [
    "# Average Number of claimns per year  for Recent IPO and ADR Flag\n",
    "(cdata_agg_adr/num_years).plot.bar(y=('ClaimNb','sum'), legend=False)\n",
    "title = 'Average number of claims per year for ADR Flag'\n",
    "plt.title(title)\n",
    "plt.ylabel('Number of claims')\n",
    "plt.xlabel('ADR Flag')\n",
    "plt.ylim([0, 500])\n",
    "save_figure(title)\n",
    "plt.show()\n"
   ]
  },
  {
   "cell_type": "code",
   "execution_count": null,
   "metadata": {
    "colab": {
     "base_uri": "https://localhost:8080/",
     "height": 346
    },
    "id": "2QrYHzywVGZF",
    "outputId": "1de7e2fa-3781-42a7-e8ab-86079d320f5c"
   },
   "outputs": [
    {
     "name": "stdout",
     "output_type": "stream",
     "text": [
      "Directory already exists\n",
      "Saved!\n"
     ]
    },
    {
     "data": {
      "image/png": "[encoded data removed]",
      "text/plain": [
       "<Figure size 432x288 with 1 Axes>"
      ]
     },
     "metadata": {
      "needs_background": "light"
     },
     "output_type": "display_data"
    }
   ],
   "source": [
    "(cdata_agg_ipo/num_years).plot.bar(y=('ClaimNb','sum'), legend=False)\n",
    "title = 'Average number of claims per year for Recent IPO'\n",
    "plt.title(title)\n",
    "plt.ylabel('Number of claims')\n",
    "plt.xlabel('Recent IPO')\n",
    "plt.ylim([0, 500])\n",
    "save_figure(title)\n",
    "plt.show()"
   ]
  },
  {
   "cell_type": "markdown",
   "metadata": {
    "id": "fWYlzNF4ZnGu"
   },
   "source": [
    "# Correlation analysis"
   ]
  },
  {
   "cell_type": "code",
   "execution_count": null,
   "metadata": {
    "colab": {
     "base_uri": "https://localhost:8080/"
    },
    "id": "LejN86zOjCkL",
    "outputId": "7912721a-0e82-47d7-92d0-51f0d7ecafba"
   },
   "outputs": [
    {
     "name": "stdout",
     "output_type": "stream",
     "text": [
      "<class 'pandas.core.frame.DataFrame'>\n",
      "Int64Index: 7873 entries, 6659 to 7281\n",
      "Data columns (total 31 columns):\n",
      " #   Column                          Non-Null Count  Dtype\n",
      "---  ------                          --------------  -----\n",
      " 0   ADR Flag                        7873 non-null   int64\n",
      " 1   RECENT_IPO                      7873 non-null   int64\n",
      " 2   SUB_REGION_Africa               7873 non-null   uint8\n",
      " 3   SUB_REGION_Canada               7873 non-null   uint8\n",
      " 4   SUB_REGION_France               7873 non-null   uint8\n",
      " 5   SUB_REGION_Germany              7873 non-null   uint8\n",
      " 6   SUB_REGION_Greater Middle East  7873 non-null   uint8\n",
      " 7   SUB_REGION_Hong Kong            7873 non-null   uint8\n",
      " 8   SUB_REGION_Israel               7873 non-null   uint8\n",
      " 9   SUB_REGION_Japan                7873 non-null   uint8\n",
      " 10  SUB_REGION_Latin America        7873 non-null   uint8\n",
      " 11  SUB_REGION_Netherlands          7873 non-null   uint8\n",
      " 12  SUB_REGION_Oceania              7873 non-null   uint8\n",
      " 13  SUB_REGION_Rest of Asia         7873 non-null   uint8\n",
      " 14  SUB_REGION_Rest of Europe       7873 non-null   uint8\n",
      " 15  SUB_REGION_Spain                7873 non-null   uint8\n",
      " 16  SUB_REGION_Switzerland          7873 non-null   uint8\n",
      " 17  SUB_REGION_United Kingdom       7873 non-null   uint8\n",
      " 18  SUB_REGION_United States        7873 non-null   uint8\n",
      " 19  SUB_REGION_Western Europe       7873 non-null   uint8\n",
      " 20  Sector_Communication Services   7873 non-null   uint8\n",
      " 21  Sector_Consumer Discretionary   7873 non-null   uint8\n",
      " 22  Sector_Consumer Staples         7873 non-null   uint8\n",
      " 23  Sector_Energy                   7873 non-null   uint8\n",
      " 24  Sector_Financials               7873 non-null   uint8\n",
      " 25  Sector_Health Care              7873 non-null   uint8\n",
      " 26  Sector_Industrials              7873 non-null   uint8\n",
      " 27  Sector_Information Technology   7873 non-null   uint8\n",
      " 28  Sector_Materials                7873 non-null   uint8\n",
      " 29  Sector_Real Estate              7873 non-null   uint8\n",
      " 30  Sector_Utilities                7873 non-null   uint8\n",
      "dtypes: int64(2), uint8(29)\n",
      "memory usage: 407.5 KB\n"
     ]
    }
   ],
   "source": [
    "Xtrain.info()"
   ]
  },
  {
   "cell_type": "code",
   "execution_count": null,
   "metadata": {
    "colab": {
     "base_uri": "https://localhost:8080/",
     "height": 1000
    },
    "id": "4c0HQHxY09Tm",
    "outputId": "02f00325-fdc1-490d-f64a-ecf326a4ea7e"
   },
   "outputs": [
    {
     "data": {
      "text/html": [
       "\n",
       "  <div id=\"df-c0182b82-896e-4e1f-9d23-b5bebfba9a63\">\n",
       "    <div class=\"colab-df-container\">\n",
       "      <div>\n",
       "<style scoped>\n",
       "    .dataframe tbody tr th:only-of-type {\n",
       "        vertical-align: middle;\n",
       "    }\n",
       "\n",
       "    .dataframe tbody tr th {\n",
       "        vertical-align: top;\n",
       "    }\n",
       "\n",
       "    .dataframe thead th {\n",
       "        text-align: right;\n",
       "    }\n",
       "</style>\n",
       "<table border=\"1\" class=\"dataframe\">\n",
       "  <thead>\n",
       "    <tr style=\"text-align: right;\">\n",
       "      <th></th>\n",
       "      <th>ADR Flag</th>\n",
       "      <th>RECENT_IPO</th>\n",
       "      <th>SUB_REGION_Africa</th>\n",
       "      <th>SUB_REGION_Canada</th>\n",
       "      <th>SUB_REGION_France</th>\n",
       "      <th>SUB_REGION_Germany</th>\n",
       "      <th>SUB_REGION_Greater Middle East</th>\n",
       "      <th>SUB_REGION_Hong Kong</th>\n",
       "      <th>SUB_REGION_Israel</th>\n",
       "      <th>SUB_REGION_Japan</th>\n",
       "      <th>...</th>\n",
       "      <th>Sector_Consumer Staples</th>\n",
       "      <th>Sector_Energy</th>\n",
       "      <th>Sector_Financials</th>\n",
       "      <th>Sector_Health Care</th>\n",
       "      <th>Sector_Industrials</th>\n",
       "      <th>Sector_Information Technology</th>\n",
       "      <th>Sector_Materials</th>\n",
       "      <th>Sector_Real Estate</th>\n",
       "      <th>Sector_Utilities</th>\n",
       "      <th>ClaimNb</th>\n",
       "    </tr>\n",
       "  </thead>\n",
       "  <tbody>\n",
       "    <tr>\n",
       "      <th>ADR Flag</th>\n",
       "      <td>1.000000</td>\n",
       "      <td>0.081670</td>\n",
       "      <td>0.066310</td>\n",
       "      <td>-0.040773</td>\n",
       "      <td>0.179629</td>\n",
       "      <td>0.214886</td>\n",
       "      <td>-0.005140</td>\n",
       "      <td>0.016701</td>\n",
       "      <td>0.102244</td>\n",
       "      <td>0.217654</td>\n",
       "      <td>...</td>\n",
       "      <td>-0.016883</td>\n",
       "      <td>-0.001256</td>\n",
       "      <td>0.009235</td>\n",
       "      <td>-0.025637</td>\n",
       "      <td>0.021300</td>\n",
       "      <td>-0.040412</td>\n",
       "      <td>0.024933</td>\n",
       "      <td>-0.030511</td>\n",
       "      <td>0.008932</td>\n",
       "      <td>-0.025164</td>\n",
       "    </tr>\n",
       "    <tr>\n",
       "      <th>RECENT_IPO</th>\n",
       "      <td>0.081670</td>\n",
       "      <td>1.000000</td>\n",
       "      <td>0.009513</td>\n",
       "      <td>0.019944</td>\n",
       "      <td>0.021548</td>\n",
       "      <td>0.029727</td>\n",
       "      <td>-0.005505</td>\n",
       "      <td>0.004533</td>\n",
       "      <td>0.011690</td>\n",
       "      <td>0.006324</td>\n",
       "      <td>...</td>\n",
       "      <td>-0.021975</td>\n",
       "      <td>-0.008013</td>\n",
       "      <td>-0.003438</td>\n",
       "      <td>-0.000308</td>\n",
       "      <td>0.013272</td>\n",
       "      <td>-0.023736</td>\n",
       "      <td>0.000970</td>\n",
       "      <td>0.015275</td>\n",
       "      <td>-0.019383</td>\n",
       "      <td>0.009619</td>\n",
       "    </tr>\n",
       "    <tr>\n",
       "      <th>SUB_REGION_Africa</th>\n",
       "      <td>0.066310</td>\n",
       "      <td>0.009513</td>\n",
       "      <td>1.000000</td>\n",
       "      <td>-0.005704</td>\n",
       "      <td>-0.001939</td>\n",
       "      <td>-0.003252</td>\n",
       "      <td>-0.000719</td>\n",
       "      <td>-0.001871</td>\n",
       "      <td>-0.003042</td>\n",
       "      <td>-0.002250</td>\n",
       "      <td>...</td>\n",
       "      <td>-0.006532</td>\n",
       "      <td>-0.007320</td>\n",
       "      <td>-0.003999</td>\n",
       "      <td>-0.014768</td>\n",
       "      <td>-0.011059</td>\n",
       "      <td>-0.004887</td>\n",
       "      <td>0.070607</td>\n",
       "      <td>-0.004823</td>\n",
       "      <td>-0.004579</td>\n",
       "      <td>-0.005619</td>\n",
       "    </tr>\n",
       "    <tr>\n",
       "      <th>SUB_REGION_Canada</th>\n",
       "      <td>-0.040773</td>\n",
       "      <td>0.019944</td>\n",
       "      <td>-0.005704</td>\n",
       "      <td>1.000000</td>\n",
       "      <td>-0.010874</td>\n",
       "      <td>-0.018234</td>\n",
       "      <td>-0.004032</td>\n",
       "      <td>-0.010491</td>\n",
       "      <td>-0.017060</td>\n",
       "      <td>-0.012618</td>\n",
       "      <td>...</td>\n",
       "      <td>-0.003074</td>\n",
       "      <td>0.029545</td>\n",
       "      <td>0.005713</td>\n",
       "      <td>-0.009763</td>\n",
       "      <td>-0.033597</td>\n",
       "      <td>-0.037798</td>\n",
       "      <td>0.182267</td>\n",
       "      <td>-0.017127</td>\n",
       "      <td>-0.010044</td>\n",
       "      <td>-0.033467</td>\n",
       "    </tr>\n",
       "    <tr>\n",
       "      <th>SUB_REGION_France</th>\n",
       "      <td>0.179629</td>\n",
       "      <td>0.021548</td>\n",
       "      <td>-0.001939</td>\n",
       "      <td>-0.010874</td>\n",
       "      <td>1.000000</td>\n",
       "      <td>-0.006199</td>\n",
       "      <td>-0.001371</td>\n",
       "      <td>-0.003567</td>\n",
       "      <td>-0.005800</td>\n",
       "      <td>-0.004290</td>\n",
       "      <td>...</td>\n",
       "      <td>-0.012454</td>\n",
       "      <td>-0.013956</td>\n",
       "      <td>0.000008</td>\n",
       "      <td>0.004839</td>\n",
       "      <td>0.012785</td>\n",
       "      <td>0.003523</td>\n",
       "      <td>-0.002909</td>\n",
       "      <td>-0.009194</td>\n",
       "      <td>0.021081</td>\n",
       "      <td>-0.016781</td>\n",
       "    </tr>\n",
       "    <tr>\n",
       "      <th>SUB_REGION_Germany</th>\n",
       "      <td>0.214886</td>\n",
       "      <td>0.029727</td>\n",
       "      <td>-0.003252</td>\n",
       "      <td>-0.018234</td>\n",
       "      <td>-0.006199</td>\n",
       "      <td>1.000000</td>\n",
       "      <td>-0.002299</td>\n",
       "      <td>-0.005981</td>\n",
       "      <td>-0.009726</td>\n",
       "      <td>-0.007194</td>\n",
       "      <td>...</td>\n",
       "      <td>-0.014480</td>\n",
       "      <td>-0.023402</td>\n",
       "      <td>0.050119</td>\n",
       "      <td>-0.037307</td>\n",
       "      <td>0.005312</td>\n",
       "      <td>-0.029011</td>\n",
       "      <td>-0.021959</td>\n",
       "      <td>-0.015417</td>\n",
       "      <td>0.021155</td>\n",
       "      <td>-0.000310</td>\n",
       "    </tr>\n",
       "    <tr>\n",
       "      <th>SUB_REGION_Greater Middle East</th>\n",
       "      <td>-0.005140</td>\n",
       "      <td>-0.005505</td>\n",
       "      <td>-0.000719</td>\n",
       "      <td>-0.004032</td>\n",
       "      <td>-0.001371</td>\n",
       "      <td>-0.002299</td>\n",
       "      <td>1.000000</td>\n",
       "      <td>-0.001323</td>\n",
       "      <td>-0.002151</td>\n",
       "      <td>-0.001591</td>\n",
       "      <td>...</td>\n",
       "      <td>0.024055</td>\n",
       "      <td>-0.005175</td>\n",
       "      <td>0.004635</td>\n",
       "      <td>-0.010440</td>\n",
       "      <td>-0.007818</td>\n",
       "      <td>-0.010721</td>\n",
       "      <td>-0.004856</td>\n",
       "      <td>-0.003409</td>\n",
       "      <td>-0.003237</td>\n",
       "      <td>0.001047</td>\n",
       "    </tr>\n",
       "    <tr>\n",
       "      <th>SUB_REGION_Hong Kong</th>\n",
       "      <td>0.016701</td>\n",
       "      <td>0.004533</td>\n",
       "      <td>-0.001871</td>\n",
       "      <td>-0.010491</td>\n",
       "      <td>-0.003567</td>\n",
       "      <td>-0.005981</td>\n",
       "      <td>-0.001323</td>\n",
       "      <td>1.000000</td>\n",
       "      <td>-0.005596</td>\n",
       "      <td>-0.004139</td>\n",
       "      <td>...</td>\n",
       "      <td>0.021142</td>\n",
       "      <td>0.016430</td>\n",
       "      <td>-0.021018</td>\n",
       "      <td>-0.021465</td>\n",
       "      <td>-0.013322</td>\n",
       "      <td>-0.005488</td>\n",
       "      <td>0.029590</td>\n",
       "      <td>-0.008871</td>\n",
       "      <td>0.007023</td>\n",
       "      <td>-0.004048</td>\n",
       "    </tr>\n",
       "    <tr>\n",
       "      <th>SUB_REGION_Israel</th>\n",
       "      <td>0.102244</td>\n",
       "      <td>0.011690</td>\n",
       "      <td>-0.003042</td>\n",
       "      <td>-0.017060</td>\n",
       "      <td>-0.005800</td>\n",
       "      <td>-0.009726</td>\n",
       "      <td>-0.002151</td>\n",
       "      <td>-0.005596</td>\n",
       "      <td>1.000000</td>\n",
       "      <td>-0.006731</td>\n",
       "      <td>...</td>\n",
       "      <td>-0.005870</td>\n",
       "      <td>-0.003409</td>\n",
       "      <td>-0.025747</td>\n",
       "      <td>0.015733</td>\n",
       "      <td>-0.007034</td>\n",
       "      <td>0.034317</td>\n",
       "      <td>-0.000962</td>\n",
       "      <td>0.003752</td>\n",
       "      <td>-0.013696</td>\n",
       "      <td>0.005027</td>\n",
       "    </tr>\n",
       "    <tr>\n",
       "      <th>SUB_REGION_Japan</th>\n",
       "      <td>0.217654</td>\n",
       "      <td>0.006324</td>\n",
       "      <td>-0.002250</td>\n",
       "      <td>-0.012618</td>\n",
       "      <td>-0.004290</td>\n",
       "      <td>-0.007194</td>\n",
       "      <td>-0.001591</td>\n",
       "      <td>-0.004139</td>\n",
       "      <td>-0.006731</td>\n",
       "      <td>1.000000</td>\n",
       "      <td>...</td>\n",
       "      <td>-0.005249</td>\n",
       "      <td>-0.016194</td>\n",
       "      <td>0.001331</td>\n",
       "      <td>-0.013691</td>\n",
       "      <td>0.016448</td>\n",
       "      <td>-0.019558</td>\n",
       "      <td>-0.006406</td>\n",
       "      <td>0.001568</td>\n",
       "      <td>0.015592</td>\n",
       "      <td>-0.008807</td>\n",
       "    </tr>\n",
       "    <tr>\n",
       "      <th>SUB_REGION_Latin America</th>\n",
       "      <td>0.072630</td>\n",
       "      <td>0.003738</td>\n",
       "      <td>-0.003170</td>\n",
       "      <td>-0.017773</td>\n",
       "      <td>-0.006043</td>\n",
       "      <td>-0.010133</td>\n",
       "      <td>-0.002241</td>\n",
       "      <td>-0.005830</td>\n",
       "      <td>-0.009481</td>\n",
       "      <td>-0.007012</td>\n",
       "      <td>...</td>\n",
       "      <td>-0.007225</td>\n",
       "      <td>0.024546</td>\n",
       "      <td>0.053747</td>\n",
       "      <td>-0.042633</td>\n",
       "      <td>0.007237</td>\n",
       "      <td>-0.047260</td>\n",
       "      <td>0.041304</td>\n",
       "      <td>0.002433</td>\n",
       "      <td>-0.005093</td>\n",
       "      <td>-0.014349</td>\n",
       "    </tr>\n",
       "    <tr>\n",
       "      <th>SUB_REGION_Netherlands</th>\n",
       "      <td>0.106167</td>\n",
       "      <td>-0.016549</td>\n",
       "      <td>-0.002162</td>\n",
       "      <td>-0.012121</td>\n",
       "      <td>-0.004121</td>\n",
       "      <td>-0.006910</td>\n",
       "      <td>-0.001528</td>\n",
       "      <td>-0.003976</td>\n",
       "      <td>-0.006466</td>\n",
       "      <td>-0.004782</td>\n",
       "      <td>...</td>\n",
       "      <td>0.043581</td>\n",
       "      <td>0.053521</td>\n",
       "      <td>-0.001022</td>\n",
       "      <td>-0.006695</td>\n",
       "      <td>0.006911</td>\n",
       "      <td>-0.022521</td>\n",
       "      <td>-0.005450</td>\n",
       "      <td>-0.010249</td>\n",
       "      <td>-0.009730</td>\n",
       "      <td>-0.020324</td>\n",
       "    </tr>\n",
       "    <tr>\n",
       "      <th>SUB_REGION_Oceania</th>\n",
       "      <td>0.239875</td>\n",
       "      <td>0.008236</td>\n",
       "      <td>-0.003231</td>\n",
       "      <td>-0.018120</td>\n",
       "      <td>-0.006161</td>\n",
       "      <td>-0.010330</td>\n",
       "      <td>-0.002284</td>\n",
       "      <td>-0.005944</td>\n",
       "      <td>-0.009665</td>\n",
       "      <td>-0.007149</td>\n",
       "      <td>...</td>\n",
       "      <td>0.011461</td>\n",
       "      <td>-0.000021</td>\n",
       "      <td>0.027534</td>\n",
       "      <td>-0.030307</td>\n",
       "      <td>0.001693</td>\n",
       "      <td>-0.035119</td>\n",
       "      <td>0.070478</td>\n",
       "      <td>0.010380</td>\n",
       "      <td>-0.014546</td>\n",
       "      <td>-0.035896</td>\n",
       "    </tr>\n",
       "    <tr>\n",
       "      <th>SUB_REGION_Rest of Asia</th>\n",
       "      <td>0.196037</td>\n",
       "      <td>0.067626</td>\n",
       "      <td>-0.006068</td>\n",
       "      <td>-0.034023</td>\n",
       "      <td>-0.011568</td>\n",
       "      <td>-0.019397</td>\n",
       "      <td>-0.004289</td>\n",
       "      <td>-0.011160</td>\n",
       "      <td>-0.018149</td>\n",
       "      <td>-0.013423</td>\n",
       "      <td>...</td>\n",
       "      <td>0.034937</td>\n",
       "      <td>-0.005591</td>\n",
       "      <td>-0.031870</td>\n",
       "      <td>-0.069948</td>\n",
       "      <td>0.039078</td>\n",
       "      <td>0.005855</td>\n",
       "      <td>0.022888</td>\n",
       "      <td>-0.000691</td>\n",
       "      <td>0.007112</td>\n",
       "      <td>-0.027821</td>\n",
       "    </tr>\n",
       "    <tr>\n",
       "      <th>SUB_REGION_Rest of Europe</th>\n",
       "      <td>0.078816</td>\n",
       "      <td>0.005159</td>\n",
       "      <td>-0.001836</td>\n",
       "      <td>-0.010294</td>\n",
       "      <td>-0.003500</td>\n",
       "      <td>-0.005869</td>\n",
       "      <td>-0.001298</td>\n",
       "      <td>-0.003377</td>\n",
       "      <td>-0.005491</td>\n",
       "      <td>-0.004061</td>\n",
       "      <td>...</td>\n",
       "      <td>-0.000528</td>\n",
       "      <td>0.027404</td>\n",
       "      <td>-0.014545</td>\n",
       "      <td>-0.026653</td>\n",
       "      <td>0.008651</td>\n",
       "      <td>-0.021664</td>\n",
       "      <td>0.030628</td>\n",
       "      <td>-0.008704</td>\n",
       "      <td>0.007474</td>\n",
       "      <td>-0.011127</td>\n",
       "    </tr>\n",
       "    <tr>\n",
       "      <th>SUB_REGION_Spain</th>\n",
       "      <td>0.054234</td>\n",
       "      <td>-0.009134</td>\n",
       "      <td>-0.001193</td>\n",
       "      <td>-0.006689</td>\n",
       "      <td>-0.002274</td>\n",
       "      <td>-0.003814</td>\n",
       "      <td>-0.000843</td>\n",
       "      <td>-0.002194</td>\n",
       "      <td>-0.003568</td>\n",
       "      <td>-0.002639</td>\n",
       "      <td>...</td>\n",
       "      <td>-0.007661</td>\n",
       "      <td>0.007010</td>\n",
       "      <td>0.045953</td>\n",
       "      <td>-0.017320</td>\n",
       "      <td>-0.001984</td>\n",
       "      <td>-0.017787</td>\n",
       "      <td>0.008465</td>\n",
       "      <td>-0.005656</td>\n",
       "      <td>0.018803</td>\n",
       "      <td>-0.014917</td>\n",
       "    </tr>\n",
       "    <tr>\n",
       "      <th>SUB_REGION_Switzerland</th>\n",
       "      <td>0.073368</td>\n",
       "      <td>0.013100</td>\n",
       "      <td>-0.002650</td>\n",
       "      <td>-0.014862</td>\n",
       "      <td>-0.005053</td>\n",
       "      <td>-0.008473</td>\n",
       "      <td>-0.001874</td>\n",
       "      <td>-0.004875</td>\n",
       "      <td>-0.007928</td>\n",
       "      <td>-0.005864</td>\n",
       "      <td>...</td>\n",
       "      <td>-0.009193</td>\n",
       "      <td>0.023275</td>\n",
       "      <td>0.068016</td>\n",
       "      <td>-0.002155</td>\n",
       "      <td>0.010959</td>\n",
       "      <td>-0.027614</td>\n",
       "      <td>-0.010421</td>\n",
       "      <td>-0.012567</td>\n",
       "      <td>-0.011931</td>\n",
       "      <td>0.002488</td>\n",
       "    </tr>\n",
       "    <tr>\n",
       "      <th>SUB_REGION_United Kingdom</th>\n",
       "      <td>0.236985</td>\n",
       "      <td>0.009352</td>\n",
       "      <td>-0.003468</td>\n",
       "      <td>-0.019446</td>\n",
       "      <td>-0.006612</td>\n",
       "      <td>-0.011086</td>\n",
       "      <td>-0.002452</td>\n",
       "      <td>-0.006379</td>\n",
       "      <td>-0.010373</td>\n",
       "      <td>-0.007672</td>\n",
       "      <td>...</td>\n",
       "      <td>-0.010247</td>\n",
       "      <td>0.023829</td>\n",
       "      <td>0.053645</td>\n",
       "      <td>-0.016252</td>\n",
       "      <td>0.004299</td>\n",
       "      <td>-0.030376</td>\n",
       "      <td>0.011035</td>\n",
       "      <td>-0.016443</td>\n",
       "      <td>-0.015611</td>\n",
       "      <td>0.005049</td>\n",
       "    </tr>\n",
       "    <tr>\n",
       "      <th>SUB_REGION_United States</th>\n",
       "      <td>-0.499445</td>\n",
       "      <td>-0.064587</td>\n",
       "      <td>-0.072996</td>\n",
       "      <td>-0.409322</td>\n",
       "      <td>-0.139166</td>\n",
       "      <td>-0.233358</td>\n",
       "      <td>-0.051603</td>\n",
       "      <td>-0.134265</td>\n",
       "      <td>-0.218338</td>\n",
       "      <td>-0.161490</td>\n",
       "      <td>...</td>\n",
       "      <td>-0.012657</td>\n",
       "      <td>-0.034685</td>\n",
       "      <td>-0.041689</td>\n",
       "      <td>0.062479</td>\n",
       "      <td>-0.022986</td>\n",
       "      <td>0.076545</td>\n",
       "      <td>-0.129614</td>\n",
       "      <td>0.028598</td>\n",
       "      <td>0.008582</td>\n",
       "      <td>0.056478</td>\n",
       "    </tr>\n",
       "    <tr>\n",
       "      <th>SUB_REGION_Western Europe</th>\n",
       "      <td>0.149466</td>\n",
       "      <td>-0.005103</td>\n",
       "      <td>-0.003761</td>\n",
       "      <td>-0.021091</td>\n",
       "      <td>-0.007171</td>\n",
       "      <td>-0.012024</td>\n",
       "      <td>-0.002659</td>\n",
       "      <td>-0.006918</td>\n",
       "      <td>-0.011250</td>\n",
       "      <td>-0.008321</td>\n",
       "      <td>...</td>\n",
       "      <td>-0.007491</td>\n",
       "      <td>0.002981</td>\n",
       "      <td>-0.013343</td>\n",
       "      <td>0.071404</td>\n",
       "      <td>0.029664</td>\n",
       "      <td>-0.033557</td>\n",
       "      <td>-0.020094</td>\n",
       "      <td>-0.017834</td>\n",
       "      <td>-0.016932</td>\n",
       "      <td>-0.012027</td>\n",
       "    </tr>\n",
       "    <tr>\n",
       "      <th>Sector_Communication Services</th>\n",
       "      <td>0.035571</td>\n",
       "      <td>0.016660</td>\n",
       "      <td>-0.008234</td>\n",
       "      <td>-0.015892</td>\n",
       "      <td>0.018951</td>\n",
       "      <td>0.004879</td>\n",
       "      <td>0.017466</td>\n",
       "      <td>0.002807</td>\n",
       "      <td>0.008677</td>\n",
       "      <td>-0.003268</td>\n",
       "      <td>...</td>\n",
       "      <td>-0.052882</td>\n",
       "      <td>-0.059259</td>\n",
       "      <td>-0.117821</td>\n",
       "      <td>-0.119549</td>\n",
       "      <td>-0.089524</td>\n",
       "      <td>-0.122774</td>\n",
       "      <td>-0.055605</td>\n",
       "      <td>-0.039041</td>\n",
       "      <td>-0.037067</td>\n",
       "      <td>0.005445</td>\n",
       "    </tr>\n",
       "    <tr>\n",
       "      <th>Sector_Consumer Discretionary</th>\n",
       "      <td>0.026106</td>\n",
       "      <td>0.027165</td>\n",
       "      <td>0.012809</td>\n",
       "      <td>-0.027539</td>\n",
       "      <td>-0.022416</td>\n",
       "      <td>0.047737</td>\n",
       "      <td>0.009055</td>\n",
       "      <td>0.025234</td>\n",
       "      <td>-0.018609</td>\n",
       "      <td>0.035306</td>\n",
       "      <td>...</td>\n",
       "      <td>-0.075511</td>\n",
       "      <td>-0.084616</td>\n",
       "      <td>-0.168239</td>\n",
       "      <td>-0.170705</td>\n",
       "      <td>-0.127832</td>\n",
       "      <td>-0.175311</td>\n",
       "      <td>-0.079399</td>\n",
       "      <td>-0.055747</td>\n",
       "      <td>-0.052928</td>\n",
       "      <td>-0.016687</td>\n",
       "    </tr>\n",
       "    <tr>\n",
       "      <th>Sector_Consumer Staples</th>\n",
       "      <td>-0.016883</td>\n",
       "      <td>-0.021975</td>\n",
       "      <td>-0.006532</td>\n",
       "      <td>-0.003074</td>\n",
       "      <td>-0.012454</td>\n",
       "      <td>-0.014480</td>\n",
       "      <td>0.024055</td>\n",
       "      <td>0.021142</td>\n",
       "      <td>-0.005870</td>\n",
       "      <td>-0.005249</td>\n",
       "      <td>...</td>\n",
       "      <td>1.000000</td>\n",
       "      <td>-0.047012</td>\n",
       "      <td>-0.093472</td>\n",
       "      <td>-0.094843</td>\n",
       "      <td>-0.071023</td>\n",
       "      <td>-0.097401</td>\n",
       "      <td>-0.044114</td>\n",
       "      <td>-0.030973</td>\n",
       "      <td>-0.029406</td>\n",
       "      <td>-0.003436</td>\n",
       "    </tr>\n",
       "    <tr>\n",
       "      <th>Sector_Energy</th>\n",
       "      <td>-0.001256</td>\n",
       "      <td>-0.008013</td>\n",
       "      <td>-0.007320</td>\n",
       "      <td>0.029545</td>\n",
       "      <td>-0.013956</td>\n",
       "      <td>-0.023402</td>\n",
       "      <td>-0.005175</td>\n",
       "      <td>0.016430</td>\n",
       "      <td>-0.003409</td>\n",
       "      <td>-0.016194</td>\n",
       "      <td>...</td>\n",
       "      <td>-0.047012</td>\n",
       "      <td>1.000000</td>\n",
       "      <td>-0.104743</td>\n",
       "      <td>-0.106279</td>\n",
       "      <td>-0.079586</td>\n",
       "      <td>-0.109146</td>\n",
       "      <td>-0.049433</td>\n",
       "      <td>-0.034707</td>\n",
       "      <td>-0.032952</td>\n",
       "      <td>-0.011649</td>\n",
       "    </tr>\n",
       "    <tr>\n",
       "      <th>Sector_Financials</th>\n",
       "      <td>0.009235</td>\n",
       "      <td>-0.003438</td>\n",
       "      <td>-0.003999</td>\n",
       "      <td>0.005713</td>\n",
       "      <td>0.000008</td>\n",
       "      <td>0.050119</td>\n",
       "      <td>0.004635</td>\n",
       "      <td>-0.021018</td>\n",
       "      <td>-0.025747</td>\n",
       "      <td>0.001331</td>\n",
       "      <td>...</td>\n",
       "      <td>-0.093472</td>\n",
       "      <td>-0.104743</td>\n",
       "      <td>1.000000</td>\n",
       "      <td>-0.211309</td>\n",
       "      <td>-0.158238</td>\n",
       "      <td>-0.217011</td>\n",
       "      <td>-0.098285</td>\n",
       "      <td>-0.069007</td>\n",
       "      <td>-0.065518</td>\n",
       "      <td>-0.000523</td>\n",
       "    </tr>\n",
       "    <tr>\n",
       "      <th>Sector_Health Care</th>\n",
       "      <td>-0.025637</td>\n",
       "      <td>-0.000308</td>\n",
       "      <td>-0.014768</td>\n",
       "      <td>-0.009763</td>\n",
       "      <td>0.004839</td>\n",
       "      <td>-0.037307</td>\n",
       "      <td>-0.010440</td>\n",
       "      <td>-0.021465</td>\n",
       "      <td>0.015733</td>\n",
       "      <td>-0.013691</td>\n",
       "      <td>...</td>\n",
       "      <td>-0.094843</td>\n",
       "      <td>-0.106279</td>\n",
       "      <td>-0.211309</td>\n",
       "      <td>1.000000</td>\n",
       "      <td>-0.160558</td>\n",
       "      <td>-0.220192</td>\n",
       "      <td>-0.099726</td>\n",
       "      <td>-0.070019</td>\n",
       "      <td>-0.066478</td>\n",
       "      <td>0.030101</td>\n",
       "    </tr>\n",
       "    <tr>\n",
       "      <th>Sector_Industrials</th>\n",
       "      <td>0.021300</td>\n",
       "      <td>0.013272</td>\n",
       "      <td>-0.011059</td>\n",
       "      <td>-0.033597</td>\n",
       "      <td>0.012785</td>\n",
       "      <td>0.005312</td>\n",
       "      <td>-0.007818</td>\n",
       "      <td>-0.013322</td>\n",
       "      <td>-0.007034</td>\n",
       "      <td>0.016448</td>\n",
       "      <td>...</td>\n",
       "      <td>-0.071023</td>\n",
       "      <td>-0.079586</td>\n",
       "      <td>-0.158238</td>\n",
       "      <td>-0.160558</td>\n",
       "      <td>1.000000</td>\n",
       "      <td>-0.164890</td>\n",
       "      <td>-0.074679</td>\n",
       "      <td>-0.052433</td>\n",
       "      <td>-0.049782</td>\n",
       "      <td>0.011532</td>\n",
       "    </tr>\n",
       "    <tr>\n",
       "      <th>Sector_Information Technology</th>\n",
       "      <td>-0.040412</td>\n",
       "      <td>-0.023736</td>\n",
       "      <td>-0.004887</td>\n",
       "      <td>-0.037798</td>\n",
       "      <td>0.003523</td>\n",
       "      <td>-0.029011</td>\n",
       "      <td>-0.010721</td>\n",
       "      <td>-0.005488</td>\n",
       "      <td>0.034317</td>\n",
       "      <td>-0.019558</td>\n",
       "      <td>...</td>\n",
       "      <td>-0.097401</td>\n",
       "      <td>-0.109146</td>\n",
       "      <td>-0.217011</td>\n",
       "      <td>-0.220192</td>\n",
       "      <td>-0.164890</td>\n",
       "      <td>1.000000</td>\n",
       "      <td>-0.102417</td>\n",
       "      <td>-0.071908</td>\n",
       "      <td>-0.068272</td>\n",
       "      <td>-0.004751</td>\n",
       "    </tr>\n",
       "    <tr>\n",
       "      <th>Sector_Materials</th>\n",
       "      <td>0.024933</td>\n",
       "      <td>0.000970</td>\n",
       "      <td>0.070607</td>\n",
       "      <td>0.182267</td>\n",
       "      <td>-0.002909</td>\n",
       "      <td>-0.021959</td>\n",
       "      <td>-0.004856</td>\n",
       "      <td>0.029590</td>\n",
       "      <td>-0.000962</td>\n",
       "      <td>-0.006406</td>\n",
       "      <td>...</td>\n",
       "      <td>-0.044114</td>\n",
       "      <td>-0.049433</td>\n",
       "      <td>-0.098285</td>\n",
       "      <td>-0.099726</td>\n",
       "      <td>-0.074679</td>\n",
       "      <td>-0.102417</td>\n",
       "      <td>1.000000</td>\n",
       "      <td>-0.032567</td>\n",
       "      <td>-0.030921</td>\n",
       "      <td>-0.026544</td>\n",
       "    </tr>\n",
       "    <tr>\n",
       "      <th>Sector_Real Estate</th>\n",
       "      <td>-0.030511</td>\n",
       "      <td>0.015275</td>\n",
       "      <td>-0.004823</td>\n",
       "      <td>-0.017127</td>\n",
       "      <td>-0.009194</td>\n",
       "      <td>-0.015417</td>\n",
       "      <td>-0.003409</td>\n",
       "      <td>-0.008871</td>\n",
       "      <td>0.003752</td>\n",
       "      <td>0.001568</td>\n",
       "      <td>...</td>\n",
       "      <td>-0.030973</td>\n",
       "      <td>-0.034707</td>\n",
       "      <td>-0.069007</td>\n",
       "      <td>-0.070019</td>\n",
       "      <td>-0.052433</td>\n",
       "      <td>-0.071908</td>\n",
       "      <td>-0.032567</td>\n",
       "      <td>1.000000</td>\n",
       "      <td>-0.021710</td>\n",
       "      <td>-0.003690</td>\n",
       "    </tr>\n",
       "    <tr>\n",
       "      <th>Sector_Utilities</th>\n",
       "      <td>0.008932</td>\n",
       "      <td>-0.019383</td>\n",
       "      <td>-0.004579</td>\n",
       "      <td>-0.010044</td>\n",
       "      <td>0.021081</td>\n",
       "      <td>0.021155</td>\n",
       "      <td>-0.003237</td>\n",
       "      <td>0.007023</td>\n",
       "      <td>-0.013696</td>\n",
       "      <td>0.015592</td>\n",
       "      <td>...</td>\n",
       "      <td>-0.029406</td>\n",
       "      <td>-0.032952</td>\n",
       "      <td>-0.065518</td>\n",
       "      <td>-0.066478</td>\n",
       "      <td>-0.049782</td>\n",
       "      <td>-0.068272</td>\n",
       "      <td>-0.030921</td>\n",
       "      <td>-0.021710</td>\n",
       "      <td>1.000000</td>\n",
       "      <td>0.002244</td>\n",
       "    </tr>\n",
       "    <tr>\n",
       "      <th>ClaimNb</th>\n",
       "      <td>-0.025164</td>\n",
       "      <td>0.009619</td>\n",
       "      <td>-0.005619</td>\n",
       "      <td>-0.033467</td>\n",
       "      <td>-0.016781</td>\n",
       "      <td>-0.000310</td>\n",
       "      <td>0.001047</td>\n",
       "      <td>-0.004048</td>\n",
       "      <td>0.005027</td>\n",
       "      <td>-0.008807</td>\n",
       "      <td>...</td>\n",
       "      <td>-0.003436</td>\n",
       "      <td>-0.011649</td>\n",
       "      <td>-0.000523</td>\n",
       "      <td>0.030101</td>\n",
       "      <td>0.011532</td>\n",
       "      <td>-0.004751</td>\n",
       "      <td>-0.026544</td>\n",
       "      <td>-0.003690</td>\n",
       "      <td>0.002244</td>\n",
       "      <td>1.000000</td>\n",
       "    </tr>\n",
       "  </tbody>\n",
       "</table>\n",
       "<p>32 rows × 32 columns</p>\n",
       "</div>\n",
       "      <button class=\"colab-df-convert\" onclick=\"convertToInteractive('df-c0182b82-896e-4e1f-9d23-b5bebfba9a63')\"\n",
       "              title=\"Convert this dataframe to an interactive table.\"\n",
       "              style=\"display:none;\">\n",
       "        \n",
       "  <svg xmlns=\"http://www.w3.org/2000/svg\" height=\"24px\"viewBox=\"0 0 24 24\"\n",
       "       width=\"24px\">\n",
       "    <path d=\"M0 0h24v24H0V0z\" fill=\"none\"/>\n",
       "    <path d=\"M18.56 5.44l.94 2.06.94-2.06 2.06-.94-2.06-.94-.94-2.06-.94 2.06-2.06.94zm-11 1L8.5 8.5l.94-2.06 2.06-.94-2.06-.94L8.5 2.5l-.94 2.06-2.06.94zm10 10l.94 2.06.94-2.06 2.06-.94-2.06-.94-.94-2.06-.94 2.06-2.06.94z\"/><path d=\"M17.41 7.96l-1.37-1.37c-.4-.4-.92-.59-1.43-.59-.52 0-1.04.2-1.43.59L10.3 9.45l-7.72 7.72c-.78.78-.78 2.05 0 2.83L4 21.41c.39.39.9.59 1.41.59.51 0 1.02-.2 1.41-.59l7.78-7.78 2.81-2.81c.8-.78.8-2.07 0-2.86zM5.41 20L4 18.59l7.72-7.72 1.47 1.35L5.41 20z\"/>\n",
       "  </svg>\n",
       "      </button>\n",
       "      \n",
       "  <style>\n",
       "    .colab-df-container {\n",
       "      display:flex;\n",
       "      flex-wrap:wrap;\n",
       "      gap: 12px;\n",
       "    }\n",
       "\n",
       "    .colab-df-convert {\n",
       "      background-color: #E8F0FE;\n",
       "      border: none;\n",
       "      border-radius: 50%;\n",
       "      cursor: pointer;\n",
       "      display: none;\n",
       "      fill: #1967D2;\n",
       "      height: 32px;\n",
       "      padding: 0 0 0 0;\n",
       "      width: 32px;\n",
       "    }\n",
       "\n",
       "    .colab-df-convert:hover {\n",
       "      background-color: #E2EBFA;\n",
       "      box-shadow: 0px 1px 2px rgba(60, 64, 67, 0.3), 0px 1px 3px 1px rgba(60, 64, 67, 0.15);\n",
       "      fill: #174EA6;\n",
       "    }\n",
       "\n",
       "    [theme=dark] .colab-df-convert {\n",
       "      background-color: #3B4455;\n",
       "      fill: #D2E3FC;\n",
       "    }\n",
       "\n",
       "    [theme=dark] .colab-df-convert:hover {\n",
       "      background-color: #434B5C;\n",
       "      box-shadow: 0px 1px 3px 1px rgba(0, 0, 0, 0.15);\n",
       "      filter: drop-shadow(0px 1px 2px rgba(0, 0, 0, 0.3));\n",
       "      fill: #FFFFFF;\n",
       "    }\n",
       "  </style>\n",
       "\n",
       "      <script>\n",
       "        const buttonEl =\n",
       "          document.querySelector('#df-c0182b82-896e-4e1f-9d23-b5bebfba9a63 button.colab-df-convert');\n",
       "        buttonEl.style.display =\n",
       "          google.colab.kernel.accessAllowed ? 'block' : 'none';\n",
       "\n",
       "        async function convertToInteractive(key) {\n",
       "          const element = document.querySelector('#df-c0182b82-896e-4e1f-9d23-b5bebfba9a63');\n",
       "          const dataTable =\n",
       "            await google.colab.kernel.invokeFunction('convertToInteractive',\n",
       "                                                     [key], {});\n",
       "          if (!dataTable) return;\n",
       "\n",
       "          const docLinkHtml = 'Like what you see? Visit the ' +\n",
       "            '<a target=\"_blank\" href=https://colab.research.google.com/notebooks/data_table.ipynb>data table notebook</a>'\n",
       "            + ' to learn more about interactive tables.';\n",
       "          element.innerHTML = '';\n",
       "          dataTable['output_type'] = 'display_data';\n",
       "          await google.colab.output.renderOutput(dataTable, element);\n",
       "          const docLink = document.createElement('div');\n",
       "          docLink.innerHTML = docLinkHtml;\n",
       "          element.appendChild(docLink);\n",
       "        }\n",
       "      </script>\n",
       "    </div>\n",
       "  </div>\n",
       "  "
      ],
      "text/plain": [
       "                                ADR Flag  RECENT_IPO  SUB_REGION_Africa  \\\n",
       "ADR Flag                        1.000000    0.081670           0.066310   \n",
       "RECENT_IPO                      0.081670    1.000000           0.009513   \n",
       "SUB_REGION_Africa               0.066310    0.009513           1.000000   \n",
       "SUB_REGION_Canada              -0.040773    0.019944          -0.005704   \n",
       "SUB_REGION_France               0.179629    0.021548          -0.001939   \n",
       "SUB_REGION_Germany              0.214886    0.029727          -0.003252   \n",
       "SUB_REGION_Greater Middle East -0.005140   -0.005505          -0.000719   \n",
       "SUB_REGION_Hong Kong            0.016701    0.004533          -0.001871   \n",
       "SUB_REGION_Israel               0.102244    0.011690          -0.003042   \n",
       "SUB_REGION_Japan                0.217654    0.006324          -0.002250   \n",
       "SUB_REGION_Latin America        0.072630    0.003738          -0.003170   \n",
       "SUB_REGION_Netherlands          0.106167   -0.016549          -0.002162   \n",
       "SUB_REGION_Oceania              0.239875    0.008236          -0.003231   \n",
       "SUB_REGION_Rest of Asia         0.196037    0.067626          -0.006068   \n",
       "SUB_REGION_Rest of Europe       0.078816    0.005159          -0.001836   \n",
       "SUB_REGION_Spain                0.054234   -0.009134          -0.001193   \n",
       "SUB_REGION_Switzerland          0.073368    0.013100          -0.002650   \n",
       "SUB_REGION_United Kingdom       0.236985    0.009352          -0.003468   \n",
       "SUB_REGION_United States       -0.499445   -0.064587          -0.072996   \n",
       "SUB_REGION_Western Europe       0.149466   -0.005103          -0.003761   \n",
       "Sector_Communication Services   0.035571    0.016660          -0.008234   \n",
       "Sector_Consumer Discretionary   0.026106    0.027165           0.012809   \n",
       "Sector_Consumer Staples        -0.016883   -0.021975          -0.006532   \n",
       "Sector_Energy                  -0.001256   -0.008013          -0.007320   \n",
       "Sector_Financials               0.009235   -0.003438          -0.003999   \n",
       "Sector_Health Care             -0.025637   -0.000308          -0.014768   \n",
       "Sector_Industrials              0.021300    0.013272          -0.011059   \n",
       "Sector_Information Technology  -0.040412   -0.023736          -0.004887   \n",
       "Sector_Materials                0.024933    0.000970           0.070607   \n",
       "Sector_Real Estate             -0.030511    0.015275          -0.004823   \n",
       "Sector_Utilities                0.008932   -0.019383          -0.004579   \n",
       "ClaimNb                        -0.025164    0.009619          -0.005619   \n",
       "\n",
       "                                SUB_REGION_Canada  SUB_REGION_France  \\\n",
       "ADR Flag                                -0.040773           0.179629   \n",
       "RECENT_IPO                               0.019944           0.021548   \n",
       "SUB_REGION_Africa                       -0.005704          -0.001939   \n",
       "SUB_REGION_Canada                        1.000000          -0.010874   \n",
       "SUB_REGION_France                       -0.010874           1.000000   \n",
       "SUB_REGION_Germany                      -0.018234          -0.006199   \n",
       "SUB_REGION_Greater Middle East          -0.004032          -0.001371   \n",
       "SUB_REGION_Hong Kong                    -0.010491          -0.003567   \n",
       "SUB_REGION_Israel                       -0.017060          -0.005800   \n",
       "SUB_REGION_Japan                        -0.012618          -0.004290   \n",
       "SUB_REGION_Latin America                -0.017773          -0.006043   \n",
       "SUB_REGION_Netherlands                  -0.012121          -0.004121   \n",
       "SUB_REGION_Oceania                      -0.018120          -0.006161   \n",
       "SUB_REGION_Rest of Asia                 -0.034023          -0.011568   \n",
       "SUB_REGION_Rest of Europe               -0.010294          -0.003500   \n",
       "SUB_REGION_Spain                        -0.006689          -0.002274   \n",
       "SUB_REGION_Switzerland                  -0.014862          -0.005053   \n",
       "SUB_REGION_United Kingdom               -0.019446          -0.006612   \n",
       "SUB_REGION_United States                -0.409322          -0.139166   \n",
       "SUB_REGION_Western Europe               -0.021091          -0.007171   \n",
       "Sector_Communication Services           -0.015892           0.018951   \n",
       "Sector_Consumer Discretionary           -0.027539          -0.022416   \n",
       "Sector_Consumer Staples                 -0.003074          -0.012454   \n",
       "Sector_Energy                            0.029545          -0.013956   \n",
       "Sector_Financials                        0.005713           0.000008   \n",
       "Sector_Health Care                      -0.009763           0.004839   \n",
       "Sector_Industrials                      -0.033597           0.012785   \n",
       "Sector_Information Technology           -0.037798           0.003523   \n",
       "Sector_Materials                         0.182267          -0.002909   \n",
       "Sector_Real Estate                      -0.017127          -0.009194   \n",
       "Sector_Utilities                        -0.010044           0.021081   \n",
       "ClaimNb                                 -0.033467          -0.016781   \n",
       "\n",
       "                                SUB_REGION_Germany  \\\n",
       "ADR Flag                                  0.214886   \n",
       "RECENT_IPO                                0.029727   \n",
       "SUB_REGION_Africa                        -0.003252   \n",
       "SUB_REGION_Canada                        -0.018234   \n",
       "SUB_REGION_France                        -0.006199   \n",
       "SUB_REGION_Germany                        1.000000   \n",
       "SUB_REGION_Greater Middle East           -0.002299   \n",
       "SUB_REGION_Hong Kong                     -0.005981   \n",
       "SUB_REGION_Israel                        -0.009726   \n",
       "SUB_REGION_Japan                         -0.007194   \n",
       "SUB_REGION_Latin America                 -0.010133   \n",
       "SUB_REGION_Netherlands                   -0.006910   \n",
       "SUB_REGION_Oceania                       -0.010330   \n",
       "SUB_REGION_Rest of Asia                  -0.019397   \n",
       "SUB_REGION_Rest of Europe                -0.005869   \n",
       "SUB_REGION_Spain                         -0.003814   \n",
       "SUB_REGION_Switzerland                   -0.008473   \n",
       "SUB_REGION_United Kingdom                -0.011086   \n",
       "SUB_REGION_United States                 -0.233358   \n",
       "SUB_REGION_Western Europe                -0.012024   \n",
       "Sector_Communication Services             0.004879   \n",
       "Sector_Consumer Discretionary             0.047737   \n",
       "Sector_Consumer Staples                  -0.014480   \n",
       "Sector_Energy                            -0.023402   \n",
       "Sector_Financials                         0.050119   \n",
       "Sector_Health Care                       -0.037307   \n",
       "Sector_Industrials                        0.005312   \n",
       "Sector_Information Technology            -0.029011   \n",
       "Sector_Materials                         -0.021959   \n",
       "Sector_Real Estate                       -0.015417   \n",
       "Sector_Utilities                          0.021155   \n",
       "ClaimNb                                  -0.000310   \n",
       "\n",
       "                                SUB_REGION_Greater Middle East  \\\n",
       "ADR Flag                                             -0.005140   \n",
       "RECENT_IPO                                           -0.005505   \n",
       "SUB_REGION_Africa                                    -0.000719   \n",
       "SUB_REGION_Canada                                    -0.004032   \n",
       "SUB_REGION_France                                    -0.001371   \n",
       "SUB_REGION_Germany                                   -0.002299   \n",
       "SUB_REGION_Greater Middle East                        1.000000   \n",
       "SUB_REGION_Hong Kong                                 -0.001323   \n",
       "SUB_REGION_Israel                                    -0.002151   \n",
       "SUB_REGION_Japan                                     -0.001591   \n",
       "SUB_REGION_Latin America                             -0.002241   \n",
       "SUB_REGION_Netherlands                               -0.001528   \n",
       "SUB_REGION_Oceania                                   -0.002284   \n",
       "SUB_REGION_Rest of Asia                              -0.004289   \n",
       "SUB_REGION_Rest of Europe                            -0.001298   \n",
       "SUB_REGION_Spain                                     -0.000843   \n",
       "SUB_REGION_Switzerland                               -0.001874   \n",
       "SUB_REGION_United Kingdom                            -0.002452   \n",
       "SUB_REGION_United States                             -0.051603   \n",
       "SUB_REGION_Western Europe                            -0.002659   \n",
       "Sector_Communication Services                         0.017466   \n",
       "Sector_Consumer Discretionary                         0.009055   \n",
       "Sector_Consumer Staples                               0.024055   \n",
       "Sector_Energy                                        -0.005175   \n",
       "Sector_Financials                                     0.004635   \n",
       "Sector_Health Care                                   -0.010440   \n",
       "Sector_Industrials                                   -0.007818   \n",
       "Sector_Information Technology                        -0.010721   \n",
       "Sector_Materials                                     -0.004856   \n",
       "Sector_Real Estate                                   -0.003409   \n",
       "Sector_Utilities                                     -0.003237   \n",
       "ClaimNb                                               0.001047   \n",
       "\n",
       "                                SUB_REGION_Hong Kong  SUB_REGION_Israel  \\\n",
       "ADR Flag                                    0.016701           0.102244   \n",
       "RECENT_IPO                                  0.004533           0.011690   \n",
       "SUB_REGION_Africa                          -0.001871          -0.003042   \n",
       "SUB_REGION_Canada                          -0.010491          -0.017060   \n",
       "SUB_REGION_France                          -0.003567          -0.005800   \n",
       "SUB_REGION_Germany                         -0.005981          -0.009726   \n",
       "SUB_REGION_Greater Middle East             -0.001323          -0.002151   \n",
       "SUB_REGION_Hong Kong                        1.000000          -0.005596   \n",
       "SUB_REGION_Israel                          -0.005596           1.000000   \n",
       "SUB_REGION_Japan                           -0.004139          -0.006731   \n",
       "SUB_REGION_Latin America                   -0.005830          -0.009481   \n",
       "SUB_REGION_Netherlands                     -0.003976          -0.006466   \n",
       "SUB_REGION_Oceania                         -0.005944          -0.009665   \n",
       "SUB_REGION_Rest of Asia                    -0.011160          -0.018149   \n",
       "SUB_REGION_Rest of Europe                  -0.003377          -0.005491   \n",
       "SUB_REGION_Spain                           -0.002194          -0.003568   \n",
       "SUB_REGION_Switzerland                     -0.004875          -0.007928   \n",
       "SUB_REGION_United Kingdom                  -0.006379          -0.010373   \n",
       "SUB_REGION_United States                   -0.134265          -0.218338   \n",
       "SUB_REGION_Western Europe                  -0.006918          -0.011250   \n",
       "Sector_Communication Services               0.002807           0.008677   \n",
       "Sector_Consumer Discretionary               0.025234          -0.018609   \n",
       "Sector_Consumer Staples                     0.021142          -0.005870   \n",
       "Sector_Energy                               0.016430          -0.003409   \n",
       "Sector_Financials                          -0.021018          -0.025747   \n",
       "Sector_Health Care                         -0.021465           0.015733   \n",
       "Sector_Industrials                         -0.013322          -0.007034   \n",
       "Sector_Information Technology              -0.005488           0.034317   \n",
       "Sector_Materials                            0.029590          -0.000962   \n",
       "Sector_Real Estate                         -0.008871           0.003752   \n",
       "Sector_Utilities                            0.007023          -0.013696   \n",
       "ClaimNb                                    -0.004048           0.005027   \n",
       "\n",
       "                                SUB_REGION_Japan  ...  \\\n",
       "ADR Flag                                0.217654  ...   \n",
       "RECENT_IPO                              0.006324  ...   \n",
       "SUB_REGION_Africa                      -0.002250  ...   \n",
       "SUB_REGION_Canada                      -0.012618  ...   \n",
       "SUB_REGION_France                      -0.004290  ...   \n",
       "SUB_REGION_Germany                     -0.007194  ...   \n",
       "SUB_REGION_Greater Middle East         -0.001591  ...   \n",
       "SUB_REGION_Hong Kong                   -0.004139  ...   \n",
       "SUB_REGION_Israel                      -0.006731  ...   \n",
       "SUB_REGION_Japan                        1.000000  ...   \n",
       "SUB_REGION_Latin America               -0.007012  ...   \n",
       "SUB_REGION_Netherlands                 -0.004782  ...   \n",
       "SUB_REGION_Oceania                     -0.007149  ...   \n",
       "SUB_REGION_Rest of Asia                -0.013423  ...   \n",
       "SUB_REGION_Rest of Europe              -0.004061  ...   \n",
       "SUB_REGION_Spain                       -0.002639  ...   \n",
       "SUB_REGION_Switzerland                 -0.005864  ...   \n",
       "SUB_REGION_United Kingdom              -0.007672  ...   \n",
       "SUB_REGION_United States               -0.161490  ...   \n",
       "SUB_REGION_Western Europe              -0.008321  ...   \n",
       "Sector_Communication Services          -0.003268  ...   \n",
       "Sector_Consumer Discretionary           0.035306  ...   \n",
       "Sector_Consumer Staples                -0.005249  ...   \n",
       "Sector_Energy                          -0.016194  ...   \n",
       "Sector_Financials                       0.001331  ...   \n",
       "Sector_Health Care                     -0.013691  ...   \n",
       "Sector_Industrials                      0.016448  ...   \n",
       "Sector_Information Technology          -0.019558  ...   \n",
       "Sector_Materials                       -0.006406  ...   \n",
       "Sector_Real Estate                      0.001568  ...   \n",
       "Sector_Utilities                        0.015592  ...   \n",
       "ClaimNb                                -0.008807  ...   \n",
       "\n",
       "                                Sector_Consumer Staples  Sector_Energy  \\\n",
       "ADR Flag                                      -0.016883      -0.001256   \n",
       "RECENT_IPO                                    -0.021975      -0.008013   \n",
       "SUB_REGION_Africa                             -0.006532      -0.007320   \n",
       "SUB_REGION_Canada                             -0.003074       0.029545   \n",
       "SUB_REGION_France                             -0.012454      -0.013956   \n",
       "SUB_REGION_Germany                            -0.014480      -0.023402   \n",
       "SUB_REGION_Greater Middle East                 0.024055      -0.005175   \n",
       "SUB_REGION_Hong Kong                           0.021142       0.016430   \n",
       "SUB_REGION_Israel                             -0.005870      -0.003409   \n",
       "SUB_REGION_Japan                              -0.005249      -0.016194   \n",
       "SUB_REGION_Latin America                      -0.007225       0.024546   \n",
       "SUB_REGION_Netherlands                         0.043581       0.053521   \n",
       "SUB_REGION_Oceania                             0.011461      -0.000021   \n",
       "SUB_REGION_Rest of Asia                        0.034937      -0.005591   \n",
       "SUB_REGION_Rest of Europe                     -0.000528       0.027404   \n",
       "SUB_REGION_Spain                              -0.007661       0.007010   \n",
       "SUB_REGION_Switzerland                        -0.009193       0.023275   \n",
       "SUB_REGION_United Kingdom                     -0.010247       0.023829   \n",
       "SUB_REGION_United States                      -0.012657      -0.034685   \n",
       "SUB_REGION_Western Europe                     -0.007491       0.002981   \n",
       "Sector_Communication Services                 -0.052882      -0.059259   \n",
       "Sector_Consumer Discretionary                 -0.075511      -0.084616   \n",
       "Sector_Consumer Staples                        1.000000      -0.047012   \n",
       "Sector_Energy                                 -0.047012       1.000000   \n",
       "Sector_Financials                             -0.093472      -0.104743   \n",
       "Sector_Health Care                            -0.094843      -0.106279   \n",
       "Sector_Industrials                            -0.071023      -0.079586   \n",
       "Sector_Information Technology                 -0.097401      -0.109146   \n",
       "Sector_Materials                              -0.044114      -0.049433   \n",
       "Sector_Real Estate                            -0.030973      -0.034707   \n",
       "Sector_Utilities                              -0.029406      -0.032952   \n",
       "ClaimNb                                       -0.003436      -0.011649   \n",
       "\n",
       "                                Sector_Financials  Sector_Health Care  \\\n",
       "ADR Flag                                 0.009235           -0.025637   \n",
       "RECENT_IPO                              -0.003438           -0.000308   \n",
       "SUB_REGION_Africa                       -0.003999           -0.014768   \n",
       "SUB_REGION_Canada                        0.005713           -0.009763   \n",
       "SUB_REGION_France                        0.000008            0.004839   \n",
       "SUB_REGION_Germany                       0.050119           -0.037307   \n",
       "SUB_REGION_Greater Middle East           0.004635           -0.010440   \n",
       "SUB_REGION_Hong Kong                    -0.021018           -0.021465   \n",
       "SUB_REGION_Israel                       -0.025747            0.015733   \n",
       "SUB_REGION_Japan                         0.001331           -0.013691   \n",
       "SUB_REGION_Latin America                 0.053747           -0.042633   \n",
       "SUB_REGION_Netherlands                  -0.001022           -0.006695   \n",
       "SUB_REGION_Oceania                       0.027534           -0.030307   \n",
       "SUB_REGION_Rest of Asia                 -0.031870           -0.069948   \n",
       "SUB_REGION_Rest of Europe               -0.014545           -0.026653   \n",
       "SUB_REGION_Spain                         0.045953           -0.017320   \n",
       "SUB_REGION_Switzerland                   0.068016           -0.002155   \n",
       "SUB_REGION_United Kingdom                0.053645           -0.016252   \n",
       "SUB_REGION_United States                -0.041689            0.062479   \n",
       "SUB_REGION_Western Europe               -0.013343            0.071404   \n",
       "Sector_Communication Services           -0.117821           -0.119549   \n",
       "Sector_Consumer Discretionary           -0.168239           -0.170705   \n",
       "Sector_Consumer Staples                 -0.093472           -0.094843   \n",
       "Sector_Energy                           -0.104743           -0.106279   \n",
       "Sector_Financials                        1.000000           -0.211309   \n",
       "Sector_Health Care                      -0.211309            1.000000   \n",
       "Sector_Industrials                      -0.158238           -0.160558   \n",
       "Sector_Information Technology           -0.217011           -0.220192   \n",
       "Sector_Materials                        -0.098285           -0.099726   \n",
       "Sector_Real Estate                      -0.069007           -0.070019   \n",
       "Sector_Utilities                        -0.065518           -0.066478   \n",
       "ClaimNb                                 -0.000523            0.030101   \n",
       "\n",
       "                                Sector_Industrials  \\\n",
       "ADR Flag                                  0.021300   \n",
       "RECENT_IPO                                0.013272   \n",
       "SUB_REGION_Africa                        -0.011059   \n",
       "SUB_REGION_Canada                        -0.033597   \n",
       "SUB_REGION_France                         0.012785   \n",
       "SUB_REGION_Germany                        0.005312   \n",
       "SUB_REGION_Greater Middle East           -0.007818   \n",
       "SUB_REGION_Hong Kong                     -0.013322   \n",
       "SUB_REGION_Israel                        -0.007034   \n",
       "SUB_REGION_Japan                          0.016448   \n",
       "SUB_REGION_Latin America                  0.007237   \n",
       "SUB_REGION_Netherlands                    0.006911   \n",
       "SUB_REGION_Oceania                        0.001693   \n",
       "SUB_REGION_Rest of Asia                   0.039078   \n",
       "SUB_REGION_Rest of Europe                 0.008651   \n",
       "SUB_REGION_Spain                         -0.001984   \n",
       "SUB_REGION_Switzerland                    0.010959   \n",
       "SUB_REGION_United Kingdom                 0.004299   \n",
       "SUB_REGION_United States                 -0.022986   \n",
       "SUB_REGION_Western Europe                 0.029664   \n",
       "Sector_Communication Services            -0.089524   \n",
       "Sector_Consumer Discretionary            -0.127832   \n",
       "Sector_Consumer Staples                  -0.071023   \n",
       "Sector_Energy                            -0.079586   \n",
       "Sector_Financials                        -0.158238   \n",
       "Sector_Health Care                       -0.160558   \n",
       "Sector_Industrials                        1.000000   \n",
       "Sector_Information Technology            -0.164890   \n",
       "Sector_Materials                         -0.074679   \n",
       "Sector_Real Estate                       -0.052433   \n",
       "Sector_Utilities                         -0.049782   \n",
       "ClaimNb                                   0.011532   \n",
       "\n",
       "                                Sector_Information Technology  \\\n",
       "ADR Flag                                            -0.040412   \n",
       "RECENT_IPO                                          -0.023736   \n",
       "SUB_REGION_Africa                                   -0.004887   \n",
       "SUB_REGION_Canada                                   -0.037798   \n",
       "SUB_REGION_France                                    0.003523   \n",
       "SUB_REGION_Germany                                  -0.029011   \n",
       "SUB_REGION_Greater Middle East                      -0.010721   \n",
       "SUB_REGION_Hong Kong                                -0.005488   \n",
       "SUB_REGION_Israel                                    0.034317   \n",
       "SUB_REGION_Japan                                    -0.019558   \n",
       "SUB_REGION_Latin America                            -0.047260   \n",
       "SUB_REGION_Netherlands                              -0.022521   \n",
       "SUB_REGION_Oceania                                  -0.035119   \n",
       "SUB_REGION_Rest of Asia                              0.005855   \n",
       "SUB_REGION_Rest of Europe                           -0.021664   \n",
       "SUB_REGION_Spain                                    -0.017787   \n",
       "SUB_REGION_Switzerland                              -0.027614   \n",
       "SUB_REGION_United Kingdom                           -0.030376   \n",
       "SUB_REGION_United States                             0.076545   \n",
       "SUB_REGION_Western Europe                           -0.033557   \n",
       "Sector_Communication Services                       -0.122774   \n",
       "Sector_Consumer Discretionary                       -0.175311   \n",
       "Sector_Consumer Staples                             -0.097401   \n",
       "Sector_Energy                                       -0.109146   \n",
       "Sector_Financials                                   -0.217011   \n",
       "Sector_Health Care                                  -0.220192   \n",
       "Sector_Industrials                                  -0.164890   \n",
       "Sector_Information Technology                        1.000000   \n",
       "Sector_Materials                                    -0.102417   \n",
       "Sector_Real Estate                                  -0.071908   \n",
       "Sector_Utilities                                    -0.068272   \n",
       "ClaimNb                                             -0.004751   \n",
       "\n",
       "                                Sector_Materials  Sector_Real Estate  \\\n",
       "ADR Flag                                0.024933           -0.030511   \n",
       "RECENT_IPO                              0.000970            0.015275   \n",
       "SUB_REGION_Africa                       0.070607           -0.004823   \n",
       "SUB_REGION_Canada                       0.182267           -0.017127   \n",
       "SUB_REGION_France                      -0.002909           -0.009194   \n",
       "SUB_REGION_Germany                     -0.021959           -0.015417   \n",
       "SUB_REGION_Greater Middle East         -0.004856           -0.003409   \n",
       "SUB_REGION_Hong Kong                    0.029590           -0.008871   \n",
       "SUB_REGION_Israel                      -0.000962            0.003752   \n",
       "SUB_REGION_Japan                       -0.006406            0.001568   \n",
       "SUB_REGION_Latin America                0.041304            0.002433   \n",
       "SUB_REGION_Netherlands                 -0.005450           -0.010249   \n",
       "SUB_REGION_Oceania                      0.070478            0.010380   \n",
       "SUB_REGION_Rest of Asia                 0.022888           -0.000691   \n",
       "SUB_REGION_Rest of Europe               0.030628           -0.008704   \n",
       "SUB_REGION_Spain                        0.008465           -0.005656   \n",
       "SUB_REGION_Switzerland                 -0.010421           -0.012567   \n",
       "SUB_REGION_United Kingdom               0.011035           -0.016443   \n",
       "SUB_REGION_United States               -0.129614            0.028598   \n",
       "SUB_REGION_Western Europe              -0.020094           -0.017834   \n",
       "Sector_Communication Services          -0.055605           -0.039041   \n",
       "Sector_Consumer Discretionary          -0.079399           -0.055747   \n",
       "Sector_Consumer Staples                -0.044114           -0.030973   \n",
       "Sector_Energy                          -0.049433           -0.034707   \n",
       "Sector_Financials                      -0.098285           -0.069007   \n",
       "Sector_Health Care                     -0.099726           -0.070019   \n",
       "Sector_Industrials                     -0.074679           -0.052433   \n",
       "Sector_Information Technology          -0.102417           -0.071908   \n",
       "Sector_Materials                        1.000000           -0.032567   \n",
       "Sector_Real Estate                     -0.032567            1.000000   \n",
       "Sector_Utilities                       -0.030921           -0.021710   \n",
       "ClaimNb                                -0.026544           -0.003690   \n",
       "\n",
       "                                Sector_Utilities   ClaimNb  \n",
       "ADR Flag                                0.008932 -0.025164  \n",
       "RECENT_IPO                             -0.019383  0.009619  \n",
       "SUB_REGION_Africa                      -0.004579 -0.005619  \n",
       "SUB_REGION_Canada                      -0.010044 -0.033467  \n",
       "SUB_REGION_France                       0.021081 -0.016781  \n",
       "SUB_REGION_Germany                      0.021155 -0.000310  \n",
       "SUB_REGION_Greater Middle East         -0.003237  0.001047  \n",
       "SUB_REGION_Hong Kong                    0.007023 -0.004048  \n",
       "SUB_REGION_Israel                      -0.013696  0.005027  \n",
       "SUB_REGION_Japan                        0.015592 -0.008807  \n",
       "SUB_REGION_Latin America               -0.005093 -0.014349  \n",
       "SUB_REGION_Netherlands                 -0.009730 -0.020324  \n",
       "SUB_REGION_Oceania                     -0.014546 -0.035896  \n",
       "SUB_REGION_Rest of Asia                 0.007112 -0.027821  \n",
       "SUB_REGION_Rest of Europe               0.007474 -0.011127  \n",
       "SUB_REGION_Spain                        0.018803 -0.014917  \n",
       "SUB_REGION_Switzerland                 -0.011931  0.002488  \n",
       "SUB_REGION_United Kingdom              -0.015611  0.005049  \n",
       "SUB_REGION_United States                0.008582  0.056478  \n",
       "SUB_REGION_Western Europe              -0.016932 -0.012027  \n",
       "Sector_Communication Services          -0.037067  0.005445  \n",
       "Sector_Consumer Discretionary          -0.052928 -0.016687  \n",
       "Sector_Consumer Staples                -0.029406 -0.003436  \n",
       "Sector_Energy                          -0.032952 -0.011649  \n",
       "Sector_Financials                      -0.065518 -0.000523  \n",
       "Sector_Health Care                     -0.066478  0.030101  \n",
       "Sector_Industrials                     -0.049782  0.011532  \n",
       "Sector_Information Technology          -0.068272 -0.004751  \n",
       "Sector_Materials                       -0.030921 -0.026544  \n",
       "Sector_Real Estate                     -0.021710 -0.003690  \n",
       "Sector_Utilities                        1.000000  0.002244  \n",
       "ClaimNb                                 0.002244  1.000000  \n",
       "\n",
       "[32 rows x 32 columns]"
      ]
     },
     "metadata": {},
     "output_type": "display_data"
    }
   ],
   "source": [
    "from scipy.stats import pointbiserialr\n",
    "\n",
    "def corr(var1, var2):\n",
    "  return pointbiserialr(var1, var2).correlation\n",
    "\n",
    "df2 = Xtrain.copy()\n",
    "df2['ClaimNb'] = ytrain\n",
    "display(df2.corr(corr))\n"
   ]
  },
  {
   "cell_type": "code",
   "execution_count": null,
   "metadata": {
    "colab": {
     "base_uri": "https://localhost:8080/",
     "height": 660
    },
    "id": "dc6Qkgo64pV_",
    "outputId": "13fe3c35-0ceb-4bef-b42e-1cb894460d26"
   },
   "outputs": [
    {
     "name": "stderr",
     "output_type": "stream",
     "text": [
      "/usr/local/lib/python3.7/dist-packages/ipykernel_launcher.py:2: SettingWithCopyWarning: \n",
      "A value is trying to be set on a copy of a slice from a DataFrame.\n",
      "Try using .loc[row_indexer,col_indexer] = value instead\n",
      "\n",
      "See the caveats in the documentation: https://pandas.pydata.org/pandas-docs/stable/user_guide/indexing.html#returning-a-view-versus-a-copy\n",
      "  \n",
      "/usr/local/lib/python3.7/dist-packages/pandas/core/indexing.py:1884: SettingWithCopyWarning: \n",
      "A value is trying to be set on a copy of a slice from a DataFrame.\n",
      "Try using .loc[row_indexer,col_indexer] = value instead\n",
      "\n",
      "See the caveats in the documentation: https://pandas.pydata.org/pandas-docs/stable/user_guide/indexing.html#returning-a-view-versus-a-copy\n",
      "  self._setitem_single_column(loc, val, pi)\n"
     ]
    },
    {
     "data": {
      "image/png": "[encoded data removed]",
      "text/plain": [
       "<Figure size 432x288 with 2 Axes>"
      ]
     },
     "metadata": {
      "needs_background": "light"
     },
     "output_type": "display_data"
    }
   ],
   "source": [
    "df3 = df2.loc[:,df2.columns.str.startswith('Sector')]\n",
    "df3['ClaimNb'] = df2['ClaimNb']\n",
    "df3.loc[:,['ADR Flag','RECENT_IPO']] = df2.loc[:, ['ADR Flag','RECENT_IPO']]\n",
    "sns.heatmap(df3.corr(corr))\n",
    "plt.title('Correlation Heat Map for Sectors')\n",
    "plt.show();"
   ]
  },
  {
   "cell_type": "code",
   "execution_count": null,
   "metadata": {
    "colab": {
     "base_uri": "https://localhost:8080/",
     "height": 668
    },
    "id": "TdX4K45Z5wE7",
    "outputId": "65fc8e2b-2bed-48b3-a5c0-16b4972f7a0f"
   },
   "outputs": [
    {
     "name": "stderr",
     "output_type": "stream",
     "text": [
      "/usr/local/lib/python3.7/dist-packages/ipykernel_launcher.py:2: SettingWithCopyWarning: \n",
      "A value is trying to be set on a copy of a slice from a DataFrame.\n",
      "Try using .loc[row_indexer,col_indexer] = value instead\n",
      "\n",
      "See the caveats in the documentation: https://pandas.pydata.org/pandas-docs/stable/user_guide/indexing.html#returning-a-view-versus-a-copy\n",
      "  \n",
      "/usr/local/lib/python3.7/dist-packages/pandas/core/indexing.py:1884: SettingWithCopyWarning: \n",
      "A value is trying to be set on a copy of a slice from a DataFrame.\n",
      "Try using .loc[row_indexer,col_indexer] = value instead\n",
      "\n",
      "See the caveats in the documentation: https://pandas.pydata.org/pandas-docs/stable/user_guide/indexing.html#returning-a-view-versus-a-copy\n",
      "  self._setitem_single_column(loc, val, pi)\n"
     ]
    },
    {
     "data": {
      "image/png": "[encoded data removed]",
      "text/plain": [
       "<Figure size 432x288 with 2 Axes>"
      ]
     },
     "metadata": {
      "needs_background": "light"
     },
     "output_type": "display_data"
    }
   ],
   "source": [
    "df3 = df2.loc[:,df2.columns.str.startswith('SUB_REGION')]\n",
    "df3['ClaimNb'] = df2['ClaimNb']\n",
    "df3.loc[:,['ADR Flag','RECENT_IPO']] = df2.loc[:, ['ADR Flag','RECENT_IPO']]\n",
    "sns.heatmap(df3.corr(corr))\n",
    "plt.title('Correlation Heat Map for Sub Regions')\n",
    "plt.show();"
   ]
  },
  {
   "cell_type": "code",
   "execution_count": null,
   "metadata": {
    "colab": {
     "base_uri": "https://localhost:8080/"
    },
    "id": "cfrn0npG5-t8",
    "outputId": "665217fc-1158-4cd9-eaa3-abf3fdd67aaa"
   },
   "outputs": [
    {
     "data": {
      "text/plain": [
       "SUB_REGION_Oceania               -0.035896\n",
       "SUB_REGION_Canada                -0.033467\n",
       "SUB_REGION_Rest of Asia          -0.027821\n",
       "Sector_Materials                 -0.026544\n",
       "ADR Flag                         -0.025164\n",
       "SUB_REGION_Netherlands           -0.020324\n",
       "SUB_REGION_France                -0.016781\n",
       "Sector_Consumer Discretionary    -0.016687\n",
       "SUB_REGION_Spain                 -0.014917\n",
       "SUB_REGION_Latin America         -0.014349\n",
       "SUB_REGION_Western Europe        -0.012027\n",
       "Sector_Energy                    -0.011649\n",
       "SUB_REGION_Rest of Europe        -0.011127\n",
       "SUB_REGION_Japan                 -0.008807\n",
       "SUB_REGION_Africa                -0.005619\n",
       "Sector_Information Technology    -0.004751\n",
       "SUB_REGION_Hong Kong             -0.004048\n",
       "Sector_Real Estate               -0.003690\n",
       "Sector_Consumer Staples          -0.003436\n",
       "Sector_Financials                -0.000523\n",
       "SUB_REGION_Germany               -0.000310\n",
       "SUB_REGION_Greater Middle East    0.001047\n",
       "Sector_Utilities                  0.002244\n",
       "SUB_REGION_Switzerland            0.002488\n",
       "SUB_REGION_Israel                 0.005027\n",
       "SUB_REGION_United Kingdom         0.005049\n",
       "Sector_Communication Services     0.005445\n",
       "RECENT_IPO                        0.009619\n",
       "Sector_Industrials                0.011532\n",
       "Sector_Health Care                0.030101\n",
       "SUB_REGION_United States          0.056478\n",
       "ClaimNb                           1.000000\n",
       "dtype: float64"
      ]
     },
     "execution_count": 22,
     "metadata": {},
     "output_type": "execute_result"
    }
   ],
   "source": [
    "df2.corrwith(df2['ClaimNb']).sort_values()"
   ]
  },
  {
   "cell_type": "code",
   "execution_count": null,
   "metadata": {
    "colab": {
     "base_uri": "https://localhost:8080/",
     "height": 317
    },
    "id": "TYuAuwC76dEf",
    "outputId": "79dc9779-0a42-41c1-f585-2794dd8d914c"
   },
   "outputs": [
    {
     "data": {
      "text/plain": [
       "Text(0.5, 0, 'Number of Claims')"
      ]
     },
     "execution_count": 23,
     "metadata": {},
     "output_type": "execute_result"
    },
    {
     "data": {
      "image/png": "[encoded data removed]",
      "text/plain": [
       "<Figure size 432x288 with 2 Axes>"
      ]
     },
     "metadata": {
      "needs_background": "light"
     },
     "output_type": "display_data"
    }
   ],
   "source": [
    "axs = df2.hist('ClaimNb', by='ADR Flag');\n",
    "axs[0].set_ylabel('Frequency')\n",
    "axs[1].set_ylabel('Frequency')\n",
    "axs[0].set_xlabel('Number of Claims')\n",
    "axs[1].set_xlabel('Number of Claims')"
   ]
  },
  {
   "cell_type": "code",
   "execution_count": null,
   "metadata": {
    "colab": {
     "base_uri": "https://localhost:8080/"
    },
    "id": "Lo5UU2fG9ilD",
    "outputId": "2045361a-bfa2-49cb-b5e5-14e47ed2db20"
   },
   "outputs": [
    {
     "name": "stdout",
     "output_type": "stream",
     "text": [
      "Average claims with ADR Flag = 1.163\n",
      "Average claims without ADR Flag = 1.226\n"
     ]
    }
   ],
   "source": [
    "# Average number of claims for ADR Flag True and False\n",
    "print(f\"Average claims with ADR Flag = {cdata.loc[cdata['ADR Flag'], 'ClaimNb'].mean():.3f}\")\n",
    "print(f\"Average claims without ADR Flag = {cdata.loc[~cdata['ADR Flag'], 'ClaimNb'].mean():.3f}\")"
   ]
  },
  {
   "cell_type": "markdown",
   "metadata": {
    "id": "8WC8RB7PAToE"
   },
   "source": [
    "# GLM"
   ]
  },
  {
   "cell_type": "markdown",
   "metadata": {
    "id": "seG4yMOI_WJw"
   },
   "source": [
    "## GLM with all covariables"
   ]
  },
  {
   "cell_type": "code",
   "execution_count": null,
   "metadata": {
    "colab": {
     "base_uri": "https://localhost:8080/"
    },
    "id": "2xahCXy7AQtl",
    "outputId": "416a8891-8806-440e-c1d3-3ed3a2e03f32"
   },
   "outputs": [
    {
     "name": "stderr",
     "output_type": "stream",
     "text": [
      "/usr/local/lib/python3.7/dist-packages/statsmodels/tools/_testing.py:19: FutureWarning: pandas.util.testing is deprecated. Use the functions in the public API at pandas.testing instead.\n",
      "  import pandas.util.testing as tm\n",
      "/usr/local/lib/python3.7/dist-packages/statsmodels/tsa/tsatools.py:117: FutureWarning: In a future version of pandas all arguments of concat except for the argument 'objs' will be keyword-only\n",
      "  x = pd.concat(x[::order], 1)\n"
     ]
    },
    {
     "name": "stdout",
     "output_type": "stream",
     "text": [
      "                 Generalized Linear Model Regression Results                  \n",
      "==============================================================================\n",
      "Dep. Variable:                ClaimNb   No. Observations:                 7873\n",
      "Model:                            GLM   Df Residuals:                     7843\n",
      "Model Family:                 Poisson   Df Model:                           29\n",
      "Link Function:                    log   Scale:                          1.0000\n",
      "Method:                          IRLS   Log-Likelihood:                -9104.0\n",
      "Date:                Sun, 07 Aug 2022   Deviance:                       1485.1\n",
      "Time:                        11:07:05   Pearson chi2:                 2.00e+03\n",
      "No. Iterations:                   100                                         \n",
      "Covariance Type:            nonrobust                                         \n",
      "==================================================================================================\n",
      "                                     coef    std err          z      P>|z|      [0.025      0.975]\n",
      "--------------------------------------------------------------------------------------------------\n",
      "const                              0.1183      0.043      2.743      0.006       0.034       0.203\n",
      "ADR Flag                           0.0045      0.062      0.073      0.942      -0.116       0.126\n",
      "RECENT_IPO                         0.0252      0.044      0.571      0.568      -0.061       0.112\n",
      "SUB_REGION_Africa                  0.0040      0.318      0.012      0.990      -0.620       0.628\n",
      "SUB_REGION_Canada                 -0.0150      0.074     -0.203      0.839      -0.160       0.130\n",
      "SUB_REGION_France                 -0.0802      0.176     -0.455      0.649      -0.426       0.265\n",
      "SUB_REGION_Germany                 0.0647      0.105      0.619      0.536      -0.140       0.270\n",
      "SUB_REGION_Greater Middle East     0.0938      0.424      0.221      0.825      -0.738       0.925\n",
      "SUB_REGION_Hong Kong               0.0473      0.171      0.277      0.782      -0.287       0.382\n",
      "SUB_REGION_Israel                  0.0882      0.110      0.802      0.422      -0.127       0.304\n",
      "SUB_REGION_Japan                   0.0067      0.150      0.045      0.964      -0.287       0.301\n",
      "SUB_REGION_Latin America           0.0023      0.109      0.021      0.983      -0.211       0.216\n",
      "SUB_REGION_Netherlands            -0.0806      0.159     -0.505      0.613      -0.393       0.232\n",
      "SUB_REGION_Oceania                -0.1053      0.114     -0.924      0.355      -0.329       0.118\n",
      "SUB_REGION_Rest of Asia           -0.0009      0.068     -0.014      0.989      -0.134       0.133\n",
      "SUB_REGION_Rest of Europe         -0.0239      0.182     -0.132      0.895      -0.380       0.332\n",
      "SUB_REGION_Spain                  -0.1319      0.283     -0.465      0.642      -0.687       0.424\n",
      "SUB_REGION_Switzerland             0.0753      0.124      0.609      0.542      -0.167       0.318\n",
      "SUB_REGION_United Kingdom          0.0872      0.099      0.879      0.379      -0.107       0.282\n",
      "SUB_REGION_United States           0.0786      0.048      1.648      0.099      -0.015       0.172\n",
      "SUB_REGION_Western Europe          0.0079      0.095      0.083      0.934      -0.179       0.195\n",
      "Sector_Communication Services      0.0254      0.039      0.646      0.519      -0.052       0.102\n",
      "Sector_Consumer Discretionary     -0.0085      0.030     -0.279      0.780      -0.068       0.051\n",
      "Sector_Consumer Staples            0.0115      0.048      0.238      0.812      -0.083       0.106\n",
      "Sector_Energy                     -0.0039      0.044     -0.088      0.930      -0.091       0.083\n",
      "Sector_Financials                  0.0156      0.026      0.598      0.550      -0.036       0.067\n",
      "Sector_Health Care                 0.0400      0.026      1.547      0.122      -0.011       0.091\n",
      "Sector_Industrials                 0.0313      0.031      1.003      0.316      -0.030       0.092\n",
      "Sector_Information Technology      0.0056      0.026      0.217      0.828      -0.045       0.056\n",
      "Sector_Materials                  -0.0211      0.048     -0.437      0.662      -0.115       0.073\n",
      "Sector_Real Estate              8.177e-05      0.065      0.001      0.999      -0.128       0.128\n",
      "Sector_Utilities                   0.0223      0.067      0.331      0.740      -0.110       0.155\n",
      "==================================================================================================\n"
     ]
    }
   ],
   "source": [
    "import statsmodels.api as sm\n",
    "Xtrain2 = sm.add_constant(Xtrain)\n",
    "\n",
    "glm = sm.GLM(ytrain, Xtrain2, family=sm.families.Poisson())\n",
    "\n",
    "glm = glm.fit()\n",
    "\n",
    "print(glm.summary())"
   ]
  },
  {
   "cell_type": "code",
   "execution_count": null,
   "metadata": {
    "colab": {
     "base_uri": "https://localhost:8080/"
    },
    "id": "uQlR4BapENUo",
    "outputId": "c4caa54a-4597-4f89-eb29-f8d704184358"
   },
   "outputs": [
    {
     "name": "stdout",
     "output_type": "stream",
     "text": [
      "Poisson deviance GLM (train): 0.189\n",
      "Poisson deviance GLM (test): 0.191\n",
      "Average Observed number of claims in test data = 1.222\n",
      "Average GLM number of claims in test data = 1.224\n",
      "MAE = 0.367\n"
     ]
    },
    {
     "name": "stderr",
     "output_type": "stream",
     "text": [
      "/usr/local/lib/python3.7/dist-packages/statsmodels/tsa/tsatools.py:117: FutureWarning: In a future version of pandas all arguments of concat except for the argument 'objs' will be keyword-only\n",
      "  x = pd.concat(x[::order], 1)\n"
     ]
    }
   ],
   "source": [
    "from sklearn.metrics import mean_absolute_error\n",
    "Xtest2 = sm.add_constant(Xtest)\n",
    "\n",
    "\n",
    "PoissonDeviance = tf.keras.metrics.poisson\n",
    "train['GLM'] = glm.predict(Xtrain2)\n",
    "test['GLM'] = glm.predict(Xtest2)\n",
    "\n",
    "in_sample_loss = poisson_deviance(train['ClaimNb'], train['GLM'])\n",
    "out_sample_loss = poisson_deviance(test['ClaimNb'], test['GLM'])\n",
    "print(f\"Poisson deviance GLM (train): {in_sample_loss :.3f}\" )\n",
    "print(f\"Poisson deviance GLM (test): {out_sample_loss :.3f}\" )\n",
    "\n",
    "train_results['GLM'] = [in_sample_loss]\n",
    "test_results['GLM'] = [out_sample_loss]\n",
    "\n",
    "print(f\"Average Observed number of claims in test data = {ytest.mean():.3f}\")\n",
    "print(f\"Average GLM number of claims in test data = {test['GLM'].mean():.3f}\")\n",
    "\n",
    "print(f\"MAE = {mean_absolute_error(ytest, test['GLM']):.3f}\")"
   ]
  },
  {
   "cell_type": "markdown",
   "metadata": {
    "id": "OVOL-mssCpxF"
   },
   "source": [
    "## Test case"
   ]
  },
  {
   "cell_type": "code",
   "execution_count": null,
   "metadata": {
    "colab": {
     "base_uri": "https://localhost:8080/"
    },
    "id": "PKS6zHjiCsCm",
    "outputId": "b1072f4a-b7d1-4e3e-fcae-1af2558540fe"
   },
   "outputs": [
    {
     "data": {
      "text/plain": [
       "0    1.166608\n",
       "dtype: float64"
      ]
     },
     "execution_count": 45,
     "metadata": {},
     "output_type": "execute_result"
    }
   ],
   "source": [
    "# How often does a claim occur in a year for an airline company in the US, no recent IPO\n",
    "test_sample = pd.DataFrame([[0]*len(Xtrain.columns)],columns=Xtrain.columns)\n",
    "test_sample['const'] = 1\n",
    "test_sample['SUB_REGION_United States'] = 1\n",
    "test_sample['Sector_Industrials'] = 1\n",
    "test_sample['RECENT_IPO'] = 1\n",
    "glm.predict(test_sample)"
   ]
  },
  {
   "cell_type": "markdown",
   "metadata": {
    "id": "G-ZZFGCo_jCR"
   },
   "source": [
    "## GLM just with sectors"
   ]
  },
  {
   "cell_type": "code",
   "execution_count": null,
   "metadata": {
    "colab": {
     "base_uri": "https://localhost:8080/",
     "height": 322
    },
    "id": "eUeTUUuj_ncq",
    "outputId": "bdda4496-f4b3-4958-e97a-093f03054dfa"
   },
   "outputs": [
    {
     "name": "stderr",
     "output_type": "stream",
     "text": [
      "/usr/local/lib/python3.7/dist-packages/statsmodels/tsa/tsatools.py:117: FutureWarning: In a future version of pandas all arguments of concat except for the argument 'objs' will be keyword-only\n",
      "  x = pd.concat(x[::order], 1)\n"
     ]
    },
    {
     "data": {
      "text/html": [
       "\n",
       "  <div id=\"df-1185c467-a6e9-4358-b021-95e9cb0b1da2\">\n",
       "    <div class=\"colab-df-container\">\n",
       "      <div>\n",
       "<style scoped>\n",
       "    .dataframe tbody tr th:only-of-type {\n",
       "        vertical-align: middle;\n",
       "    }\n",
       "\n",
       "    .dataframe tbody tr th {\n",
       "        vertical-align: top;\n",
       "    }\n",
       "\n",
       "    .dataframe thead th {\n",
       "        text-align: right;\n",
       "    }\n",
       "</style>\n",
       "<table border=\"1\" class=\"dataframe\">\n",
       "  <thead>\n",
       "    <tr style=\"text-align: right;\">\n",
       "      <th></th>\n",
       "      <th>const</th>\n",
       "      <th>Sector_Communication Services</th>\n",
       "      <th>Sector_Consumer Discretionary</th>\n",
       "      <th>Sector_Consumer Staples</th>\n",
       "      <th>Sector_Energy</th>\n",
       "      <th>Sector_Financials</th>\n",
       "      <th>Sector_Health Care</th>\n",
       "      <th>Sector_Industrials</th>\n",
       "      <th>Sector_Information Technology</th>\n",
       "      <th>Sector_Materials</th>\n",
       "      <th>Sector_Real Estate</th>\n",
       "      <th>Sector_Utilities</th>\n",
       "    </tr>\n",
       "  </thead>\n",
       "  <tbody>\n",
       "    <tr>\n",
       "      <th>6659</th>\n",
       "      <td>1.0</td>\n",
       "      <td>0</td>\n",
       "      <td>0</td>\n",
       "      <td>0</td>\n",
       "      <td>0</td>\n",
       "      <td>0</td>\n",
       "      <td>0</td>\n",
       "      <td>0</td>\n",
       "      <td>1</td>\n",
       "      <td>0</td>\n",
       "      <td>0</td>\n",
       "      <td>0</td>\n",
       "    </tr>\n",
       "    <tr>\n",
       "      <th>9129</th>\n",
       "      <td>1.0</td>\n",
       "      <td>0</td>\n",
       "      <td>0</td>\n",
       "      <td>0</td>\n",
       "      <td>0</td>\n",
       "      <td>0</td>\n",
       "      <td>0</td>\n",
       "      <td>0</td>\n",
       "      <td>1</td>\n",
       "      <td>0</td>\n",
       "      <td>0</td>\n",
       "      <td>0</td>\n",
       "    </tr>\n",
       "    <tr>\n",
       "      <th>6724</th>\n",
       "      <td>1.0</td>\n",
       "      <td>0</td>\n",
       "      <td>0</td>\n",
       "      <td>0</td>\n",
       "      <td>0</td>\n",
       "      <td>1</td>\n",
       "      <td>0</td>\n",
       "      <td>0</td>\n",
       "      <td>0</td>\n",
       "      <td>0</td>\n",
       "      <td>0</td>\n",
       "      <td>0</td>\n",
       "    </tr>\n",
       "    <tr>\n",
       "      <th>1593</th>\n",
       "      <td>1.0</td>\n",
       "      <td>0</td>\n",
       "      <td>0</td>\n",
       "      <td>0</td>\n",
       "      <td>0</td>\n",
       "      <td>0</td>\n",
       "      <td>0</td>\n",
       "      <td>0</td>\n",
       "      <td>1</td>\n",
       "      <td>0</td>\n",
       "      <td>0</td>\n",
       "      <td>0</td>\n",
       "    </tr>\n",
       "    <tr>\n",
       "      <th>7292</th>\n",
       "      <td>1.0</td>\n",
       "      <td>0</td>\n",
       "      <td>0</td>\n",
       "      <td>0</td>\n",
       "      <td>0</td>\n",
       "      <td>0</td>\n",
       "      <td>0</td>\n",
       "      <td>1</td>\n",
       "      <td>0</td>\n",
       "      <td>0</td>\n",
       "      <td>0</td>\n",
       "      <td>0</td>\n",
       "    </tr>\n",
       "  </tbody>\n",
       "</table>\n",
       "</div>\n",
       "      <button class=\"colab-df-convert\" onclick=\"convertToInteractive('df-1185c467-a6e9-4358-b021-95e9cb0b1da2')\"\n",
       "              title=\"Convert this dataframe to an interactive table.\"\n",
       "              style=\"display:none;\">\n",
       "        \n",
       "  <svg xmlns=\"http://www.w3.org/2000/svg\" height=\"24px\"viewBox=\"0 0 24 24\"\n",
       "       width=\"24px\">\n",
       "    <path d=\"M0 0h24v24H0V0z\" fill=\"none\"/>\n",
       "    <path d=\"M18.56 5.44l.94 2.06.94-2.06 2.06-.94-2.06-.94-.94-2.06-.94 2.06-2.06.94zm-11 1L8.5 8.5l.94-2.06 2.06-.94-2.06-.94L8.5 2.5l-.94 2.06-2.06.94zm10 10l.94 2.06.94-2.06 2.06-.94-2.06-.94-.94-2.06-.94 2.06-2.06.94z\"/><path d=\"M17.41 7.96l-1.37-1.37c-.4-.4-.92-.59-1.43-.59-.52 0-1.04.2-1.43.59L10.3 9.45l-7.72 7.72c-.78.78-.78 2.05 0 2.83L4 21.41c.39.39.9.59 1.41.59.51 0 1.02-.2 1.41-.59l7.78-7.78 2.81-2.81c.8-.78.8-2.07 0-2.86zM5.41 20L4 18.59l7.72-7.72 1.47 1.35L5.41 20z\"/>\n",
       "  </svg>\n",
       "      </button>\n",
       "      \n",
       "  <style>\n",
       "    .colab-df-container {\n",
       "      display:flex;\n",
       "      flex-wrap:wrap;\n",
       "      gap: 12px;\n",
       "    }\n",
       "\n",
       "    .colab-df-convert {\n",
       "      background-color: #E8F0FE;\n",
       "      border: none;\n",
       "      border-radius: 50%;\n",
       "      cursor: pointer;\n",
       "      display: none;\n",
       "      fill: #1967D2;\n",
       "      height: 32px;\n",
       "      padding: 0 0 0 0;\n",
       "      width: 32px;\n",
       "    }\n",
       "\n",
       "    .colab-df-convert:hover {\n",
       "      background-color: #E2EBFA;\n",
       "      box-shadow: 0px 1px 2px rgba(60, 64, 67, 0.3), 0px 1px 3px 1px rgba(60, 64, 67, 0.15);\n",
       "      fill: #174EA6;\n",
       "    }\n",
       "\n",
       "    [theme=dark] .colab-df-convert {\n",
       "      background-color: #3B4455;\n",
       "      fill: #D2E3FC;\n",
       "    }\n",
       "\n",
       "    [theme=dark] .colab-df-convert:hover {\n",
       "      background-color: #434B5C;\n",
       "      box-shadow: 0px 1px 3px 1px rgba(0, 0, 0, 0.15);\n",
       "      filter: drop-shadow(0px 1px 2px rgba(0, 0, 0, 0.3));\n",
       "      fill: #FFFFFF;\n",
       "    }\n",
       "  </style>\n",
       "\n",
       "      <script>\n",
       "        const buttonEl =\n",
       "          document.querySelector('#df-1185c467-a6e9-4358-b021-95e9cb0b1da2 button.colab-df-convert');\n",
       "        buttonEl.style.display =\n",
       "          google.colab.kernel.accessAllowed ? 'block' : 'none';\n",
       "\n",
       "        async function convertToInteractive(key) {\n",
       "          const element = document.querySelector('#df-1185c467-a6e9-4358-b021-95e9cb0b1da2');\n",
       "          const dataTable =\n",
       "            await google.colab.kernel.invokeFunction('convertToInteractive',\n",
       "                                                     [key], {});\n",
       "          if (!dataTable) return;\n",
       "\n",
       "          const docLinkHtml = 'Like what you see? Visit the ' +\n",
       "            '<a target=\"_blank\" href=https://colab.research.google.com/notebooks/data_table.ipynb>data table notebook</a>'\n",
       "            + ' to learn more about interactive tables.';\n",
       "          element.innerHTML = '';\n",
       "          dataTable['output_type'] = 'display_data';\n",
       "          await google.colab.output.renderOutput(dataTable, element);\n",
       "          const docLink = document.createElement('div');\n",
       "          docLink.innerHTML = docLinkHtml;\n",
       "          element.appendChild(docLink);\n",
       "        }\n",
       "      </script>\n",
       "    </div>\n",
       "  </div>\n",
       "  "
      ],
      "text/plain": [
       "      const  Sector_Communication Services  Sector_Consumer Discretionary  \\\n",
       "6659    1.0                              0                              0   \n",
       "9129    1.0                              0                              0   \n",
       "6724    1.0                              0                              0   \n",
       "1593    1.0                              0                              0   \n",
       "7292    1.0                              0                              0   \n",
       "\n",
       "      Sector_Consumer Staples  Sector_Energy  Sector_Financials  \\\n",
       "6659                        0              0                  0   \n",
       "9129                        0              0                  0   \n",
       "6724                        0              0                  1   \n",
       "1593                        0              0                  0   \n",
       "7292                        0              0                  0   \n",
       "\n",
       "      Sector_Health Care  Sector_Industrials  Sector_Information Technology  \\\n",
       "6659                   0                   0                              1   \n",
       "9129                   0                   0                              1   \n",
       "6724                   0                   0                              0   \n",
       "1593                   0                   0                              1   \n",
       "7292                   0                   1                              0   \n",
       "\n",
       "      Sector_Materials  Sector_Real Estate  Sector_Utilities  \n",
       "6659                 0                   0                 0  \n",
       "9129                 0                   0                 0  \n",
       "6724                 0                   0                 0  \n",
       "1593                 0                   0                 0  \n",
       "7292                 0                   0                 0  "
      ]
     },
     "execution_count": 35,
     "metadata": {},
     "output_type": "execute_result"
    }
   ],
   "source": [
    "Xtrain3 = Xtrain.loc[:, Xtrain.columns.str.contains('Sector')]\n",
    "Xtest3 = Xtest.loc[:, Xtest.columns.str.contains('Sector')]\n",
    "if 'const' not in Xtrain3.columns:\n",
    "  Xtrain3 = sm.add_constant(Xtrain3)\n",
    "if 'const' not in Xtest3.columns:\n",
    "  Xtest3 = sm.add_constant(Xtest3)\n",
    "Xtrain3.head()"
   ]
  },
  {
   "cell_type": "code",
   "execution_count": null,
   "metadata": {
    "colab": {
     "base_uri": "https://localhost:8080/"
    },
    "id": "r0qeJVxB_rjd",
    "outputId": "2383bc79-a2b3-4d6e-8d61-10fcbf4d83ba"
   },
   "outputs": [
    {
     "name": "stderr",
     "output_type": "stream",
     "text": [
      "/usr/local/lib/python3.7/dist-packages/statsmodels/tsa/tsatools.py:117: FutureWarning: In a future version of pandas all arguments of concat except for the argument 'objs' will be keyword-only\n",
      "  x = pd.concat(x[::order], 1)\n"
     ]
    },
    {
     "name": "stdout",
     "output_type": "stream",
     "text": [
      "                 Generalized Linear Model Regression Results                  \n",
      "==============================================================================\n",
      "Dep. Variable:                ClaimNb   No. Observations:                 7873\n",
      "Model:                            GLM   Df Residuals:                     7862\n",
      "Model Family:                 Poisson   Df Model:                           10\n",
      "Link Function:                    log   Scale:                          1.0000\n",
      "Method:                          IRLS   Log-Likelihood:                -9109.0\n",
      "Date:                Sun, 07 Aug 2022   Deviance:                       1495.2\n",
      "Time:                        11:11:27   Pearson chi2:                 2.02e+03\n",
      "No. Iterations:                   100                                         \n",
      "Covariance Type:            nonrobust                                         \n",
      "=================================================================================================\n",
      "                                    coef    std err          z      P>|z|      [0.025      0.975]\n",
      "-------------------------------------------------------------------------------------------------\n",
      "const                             0.1798      0.012     14.486      0.000       0.155       0.204\n",
      "Sector_Communication Services     0.0319      0.039      0.816      0.414      -0.045       0.109\n",
      "Sector_Consumer Discretionary     0.0013      0.030      0.044      0.965      -0.057       0.060\n",
      "Sector_Consumer Staples           0.0146      0.048      0.303      0.762      -0.080       0.109\n",
      "Sector_Energy                    -0.0013      0.044     -0.029      0.977      -0.087       0.085\n",
      "Sector_Financials                 0.0218      0.026      0.850      0.396      -0.028       0.072\n",
      "Sector_Health Care                0.0517      0.025      2.060      0.039       0.003       0.101\n",
      "Sector_Industrials                0.0374      0.031      1.217      0.224      -0.023       0.098\n",
      "Sector_Information Technology     0.0177      0.025      0.709      0.478      -0.031       0.067\n",
      "Sector_Materials                 -0.0359      0.047     -0.763      0.445      -0.128       0.056\n",
      "Sector_Real Estate                0.0110      0.064      0.173      0.862      -0.114       0.136\n",
      "Sector_Utilities                  0.0295      0.066      0.445      0.657      -0.100       0.159\n",
      "=================================================================================================\n"
     ]
    }
   ],
   "source": [
    "import statsmodels.api as sm\n",
    "\n",
    "glm_sectors = sm.GLM(ytrain, Xtrain3, family=sm.families.Poisson())\n",
    "\n",
    "glm_sectors = glm_sectors.fit()\n",
    "\n",
    "print(glm_sectors.summary())"
   ]
  },
  {
   "cell_type": "code",
   "execution_count": null,
   "metadata": {
    "colab": {
     "base_uri": "https://localhost:8080/"
    },
    "id": "MZJDlIuy_rje",
    "outputId": "de82ccb6-c4ac-42f0-ee13-cc4b06f581a6"
   },
   "outputs": [
    {
     "name": "stdout",
     "output_type": "stream",
     "text": [
      "Poisson deviance GLM (train): 0.190\n",
      "Poisson deviance GLM (test): 0.192\n",
      "Average Observed number of claims in test data = 1.222\n",
      "Average GLM number of claims in test data = 1.224\n",
      "MAE = 0.368\n"
     ]
    }
   ],
   "source": [
    "from sklearn.metrics import mean_absolute_error\n",
    "\n",
    "PoissonDeviance = tf.keras.metrics.poisson\n",
    "train['GLM Sectors'] = glm_sectors.predict(Xtrain3)\n",
    "test['GLM Sectors'] = glm_sectors.predict(Xtest3)\n",
    "\n",
    "in_sample_loss = poisson_deviance(train['ClaimNb'], train['GLM Sectors'])\n",
    "out_sample_loss = poisson_deviance(test['ClaimNb'], test['GLM Sectors'])\n",
    "print(f\"Poisson deviance GLM (train): {in_sample_loss :.3f}\" )\n",
    "print(f\"Poisson deviance GLM (test): {out_sample_loss :.3f}\" )\n",
    "\n",
    "train_results['GLM Sectors'] = [in_sample_loss]\n",
    "test_results['GLM Sectors'] = [out_sample_loss]\n",
    "\n",
    "print(f\"Average Observed number of claims in test data = {ytest.mean():.3f}\")\n",
    "print(f\"Average GLM number of claims in test data = {test['GLM Sectors'].mean():.3f}\")\n",
    "\n",
    "print(f\"MAE = {mean_absolute_error(ytest, test['GLM Sectors']):.3f}\")"
   ]
  },
  {
   "cell_type": "markdown",
   "metadata": {
    "id": "Wrp899MWARcy"
   },
   "source": [
    "# Neural Networks"
   ]
  },
  {
   "cell_type": "code",
   "execution_count": null,
   "metadata": {
    "id": "RwqZcUncCkZ1"
   },
   "outputs": [],
   "source": [
    "q0 = Xtrain.shape[1] # number of input features\n",
    "q1 = 100  # number of neurons in hidden layer"
   ]
  },
  {
   "cell_type": "code",
   "execution_count": null,
   "metadata": {
    "colab": {
     "base_uri": "https://localhost:8080/"
    },
    "id": "0m0jYoldGLge",
    "outputId": "c32bb5ff-f127-472a-9fbc-ba8b120bf3c3"
   },
   "outputs": [
    {
     "data": {
      "text/plain": [
       "1.2239298869554172"
      ]
     },
     "execution_count": 47,
     "metadata": {},
     "output_type": "execute_result"
    }
   ],
   "source": [
    "lambda_hom = sum(ytrain)/len(ytrain)\n",
    "lambda_hom"
   ]
  },
  {
   "cell_type": "code",
   "execution_count": null,
   "metadata": {
    "id": "05IKtIOsB3Y0"
   },
   "outputs": [],
   "source": [
    "model = tf.keras.Sequential()\n",
    "model.add(tf.keras.layers.Dense(q1, input_shape=(q0,), activation='tanh'))\n",
    "model.add(tf.keras.layers.Dense(1, activation='linear', kernel_initializer=tf.keras.initializers.Constant(tf.math.log(lambda_hom)), bias_initializer=tf.keras.initializers.Zeros()))\n",
    "model.add(tf.keras.layers.Dense(1, activation='exponential', trainable=True, kernel_initializer=tf.keras.initializers.Ones(),\n",
    "    bias_initializer=tf.keras.initializers.Zeros()))"
   ]
  },
  {
   "cell_type": "code",
   "execution_count": null,
   "metadata": {
    "colab": {
     "base_uri": "https://localhost:8080/"
    },
    "id": "-xSlulxzDyqC",
    "outputId": "c2c20151-4027-4fea-befe-ad974f5eb7d1"
   },
   "outputs": [
    {
     "name": "stdout",
     "output_type": "stream",
     "text": [
      "Model: \"sequential\"\n",
      "_________________________________________________________________\n",
      " Layer (type)                Output Shape              Param #   \n",
      "=================================================================\n",
      " dense (Dense)               (None, 100)               3200      \n",
      "                                                                 \n",
      " dense_1 (Dense)             (None, 1)                 101       \n",
      "                                                                 \n",
      " dense_2 (Dense)             (None, 1)                 2         \n",
      "                                                                 \n",
      "=================================================================\n",
      "Total params: 3,303\n",
      "Trainable params: 3,303\n",
      "Non-trainable params: 0\n",
      "_________________________________________________________________\n"
     ]
    }
   ],
   "source": [
    "model.compile(loss='poisson', optimizer='adam', metrics=['mse'])\n",
    "model.summary()"
   ]
  },
  {
   "cell_type": "code",
   "execution_count": null,
   "metadata": {
    "id": "9vI2jut2FQli"
   },
   "outputs": [],
   "source": [
    "epochs = 300\n",
    "batch_size = 1000\n",
    "validation_split = 0.2  # set to >0 to see train/validation loss in plot(fit)\n",
    "verbose = 1"
   ]
  },
  {
   "cell_type": "code",
   "execution_count": null,
   "metadata": {
    "colab": {
     "base_uri": "https://localhost:8080/"
    },
    "id": "iZ821WV7Ht6e",
    "outputId": "1afde722-7942-4ded-9b6f-0ef36f741c8a"
   },
   "outputs": [
    {
     "name": "stdout",
     "output_type": "stream",
     "text": [
      "Epoch 1/300\n",
      "7/7 [==============================] - 1s 40ms/step - loss: 1.0516 - mse: 0.5090 - val_loss: 1.0064 - val_mse: 0.3953\n",
      "Epoch 2/300\n",
      "7/7 [==============================] - 0s 8ms/step - loss: 0.9991 - mse: 0.3946 - val_loss: 0.9852 - val_mse: 0.3208\n",
      "Epoch 3/300\n",
      "7/7 [==============================] - 0s 9ms/step - loss: 0.9810 - mse: 0.3333 - val_loss: 0.9798 - val_mse: 0.3013\n",
      "Epoch 4/300\n",
      "7/7 [==============================] - 0s 9ms/step - loss: 0.9795 - mse: 0.3270 - val_loss: 0.9790 - val_mse: 0.2993\n",
      "Epoch 5/300\n",
      "7/7 [==============================] - 0s 13ms/step - loss: 0.9770 - mse: 0.3217 - val_loss: 0.9784 - val_mse: 0.2985\n",
      "Epoch 6/300\n",
      "7/7 [==============================] - 0s 10ms/step - loss: 0.9767 - mse: 0.3209 - val_loss: 0.9775 - val_mse: 0.2961\n",
      "Epoch 7/300\n",
      "7/7 [==============================] - 0s 10ms/step - loss: 0.9760 - mse: 0.3191 - val_loss: 0.9773 - val_mse: 0.2956\n",
      "Epoch 8/300\n",
      "7/7 [==============================] - 0s 9ms/step - loss: 0.9766 - mse: 0.3207 - val_loss: 0.9770 - val_mse: 0.2949\n",
      "Epoch 9/300\n",
      "7/7 [==============================] - 0s 10ms/step - loss: 0.9759 - mse: 0.3191 - val_loss: 0.9772 - val_mse: 0.2955\n",
      "Epoch 10/300\n",
      "7/7 [==============================] - 0s 10ms/step - loss: 0.9759 - mse: 0.3191 - val_loss: 0.9767 - val_mse: 0.2941\n",
      "Epoch 11/300\n",
      "7/7 [==============================] - 0s 9ms/step - loss: 0.9760 - mse: 0.3191 - val_loss: 0.9767 - val_mse: 0.2941\n",
      "Epoch 12/300\n",
      "7/7 [==============================] - 0s 13ms/step - loss: 0.9758 - mse: 0.3186 - val_loss: 0.9767 - val_mse: 0.2943\n",
      "Epoch 13/300\n",
      "7/7 [==============================] - 0s 11ms/step - loss: 0.9757 - mse: 0.3186 - val_loss: 0.9767 - val_mse: 0.2941\n",
      "Epoch 14/300\n",
      "7/7 [==============================] - 0s 12ms/step - loss: 0.9759 - mse: 0.3189 - val_loss: 0.9765 - val_mse: 0.2937\n",
      "Epoch 15/300\n",
      "7/7 [==============================] - 0s 9ms/step - loss: 0.9757 - mse: 0.3185 - val_loss: 0.9765 - val_mse: 0.2936\n",
      "Epoch 16/300\n",
      "7/7 [==============================] - 0s 8ms/step - loss: 0.9757 - mse: 0.3185 - val_loss: 0.9764 - val_mse: 0.2935\n",
      "Epoch 17/300\n",
      "7/7 [==============================] - 0s 9ms/step - loss: 0.9757 - mse: 0.3185 - val_loss: 0.9764 - val_mse: 0.2935\n",
      "Epoch 18/300\n",
      "7/7 [==============================] - 0s 7ms/step - loss: 0.9758 - mse: 0.3187 - val_loss: 0.9764 - val_mse: 0.2934\n",
      "Epoch 19/300\n",
      "7/7 [==============================] - 0s 7ms/step - loss: 0.9757 - mse: 0.3185 - val_loss: 0.9763 - val_mse: 0.2932\n",
      "Epoch 20/300\n",
      "7/7 [==============================] - 0s 7ms/step - loss: 0.9759 - mse: 0.3188 - val_loss: 0.9764 - val_mse: 0.2934\n",
      "Epoch 21/300\n",
      "7/7 [==============================] - 0s 8ms/step - loss: 0.9757 - mse: 0.3185 - val_loss: 0.9764 - val_mse: 0.2935\n",
      "Epoch 22/300\n",
      "7/7 [==============================] - 0s 8ms/step - loss: 0.9758 - mse: 0.3186 - val_loss: 0.9763 - val_mse: 0.2932\n",
      "Epoch 23/300\n",
      "7/7 [==============================] - 0s 9ms/step - loss: 0.9758 - mse: 0.3186 - val_loss: 0.9765 - val_mse: 0.2937\n",
      "Epoch 24/300\n",
      "7/7 [==============================] - 0s 8ms/step - loss: 0.9758 - mse: 0.3187 - val_loss: 0.9766 - val_mse: 0.2938\n",
      "Epoch 25/300\n",
      "7/7 [==============================] - 0s 8ms/step - loss: 0.9759 - mse: 0.3189 - val_loss: 0.9764 - val_mse: 0.2935\n",
      "Epoch 26/300\n",
      "7/7 [==============================] - 0s 8ms/step - loss: 0.9757 - mse: 0.3185 - val_loss: 0.9765 - val_mse: 0.2936\n",
      "Epoch 27/300\n",
      "7/7 [==============================] - 0s 7ms/step - loss: 0.9757 - mse: 0.3185 - val_loss: 0.9766 - val_mse: 0.2938\n",
      "Epoch 28/300\n",
      "7/7 [==============================] - 0s 8ms/step - loss: 0.9757 - mse: 0.3185 - val_loss: 0.9766 - val_mse: 0.2939\n",
      "Epoch 29/300\n",
      "7/7 [==============================] - 0s 7ms/step - loss: 0.9759 - mse: 0.3188 - val_loss: 0.9766 - val_mse: 0.2939\n",
      "Epoch 30/300\n",
      "7/7 [==============================] - 0s 7ms/step - loss: 0.9757 - mse: 0.3185 - val_loss: 0.9766 - val_mse: 0.2939\n",
      "Epoch 31/300\n",
      "7/7 [==============================] - 0s 7ms/step - loss: 0.9758 - mse: 0.3187 - val_loss: 0.9766 - val_mse: 0.2939\n",
      "Epoch 32/300\n",
      "7/7 [==============================] - 0s 7ms/step - loss: 0.9760 - mse: 0.3192 - val_loss: 0.9766 - val_mse: 0.2940\n",
      "Epoch 33/300\n",
      "7/7 [==============================] - 0s 10ms/step - loss: 0.9758 - mse: 0.3187 - val_loss: 0.9768 - val_mse: 0.2943\n",
      "Epoch 34/300\n",
      "7/7 [==============================] - 0s 10ms/step - loss: 0.9758 - mse: 0.3187 - val_loss: 0.9768 - val_mse: 0.2943\n",
      "Epoch 35/300\n",
      "7/7 [==============================] - 0s 10ms/step - loss: 0.9758 - mse: 0.3188 - val_loss: 0.9766 - val_mse: 0.2939\n",
      "Epoch 36/300\n",
      "7/7 [==============================] - 0s 9ms/step - loss: 0.9760 - mse: 0.3191 - val_loss: 0.9764 - val_mse: 0.2935\n",
      "Epoch 37/300\n",
      "7/7 [==============================] - 0s 9ms/step - loss: 0.9758 - mse: 0.3186 - val_loss: 0.9764 - val_mse: 0.2933\n",
      "Epoch 38/300\n",
      "7/7 [==============================] - 0s 10ms/step - loss: 0.9759 - mse: 0.3190 - val_loss: 0.9766 - val_mse: 0.2938\n",
      "Epoch 39/300\n",
      "7/7 [==============================] - 0s 9ms/step - loss: 0.9759 - mse: 0.3189 - val_loss: 0.9767 - val_mse: 0.2941\n",
      "Epoch 40/300\n",
      "7/7 [==============================] - 0s 11ms/step - loss: 0.9759 - mse: 0.3189 - val_loss: 0.9764 - val_mse: 0.2934\n",
      "Epoch 41/300\n",
      "7/7 [==============================] - 0s 10ms/step - loss: 0.9757 - mse: 0.3184 - val_loss: 0.9765 - val_mse: 0.2936\n",
      "Epoch 42/300\n",
      "7/7 [==============================] - 0s 9ms/step - loss: 0.9760 - mse: 0.3191 - val_loss: 0.9766 - val_mse: 0.2938\n",
      "Epoch 43/300\n",
      "7/7 [==============================] - 0s 11ms/step - loss: 0.9760 - mse: 0.3191 - val_loss: 0.9766 - val_mse: 0.2939\n",
      "Epoch 44/300\n",
      "7/7 [==============================] - 0s 10ms/step - loss: 0.9760 - mse: 0.3192 - val_loss: 0.9767 - val_mse: 0.2940\n",
      "Epoch 45/300\n",
      "7/7 [==============================] - 0s 9ms/step - loss: 0.9760 - mse: 0.3192 - val_loss: 0.9765 - val_mse: 0.2936\n",
      "Epoch 46/300\n",
      "7/7 [==============================] - 0s 12ms/step - loss: 0.9763 - mse: 0.3199 - val_loss: 0.9766 - val_mse: 0.2939\n",
      "Epoch 47/300\n",
      "7/7 [==============================] - 0s 10ms/step - loss: 0.9765 - mse: 0.3204 - val_loss: 0.9764 - val_mse: 0.2935\n",
      "Epoch 48/300\n",
      "7/7 [==============================] - 0s 9ms/step - loss: 0.9758 - mse: 0.3187 - val_loss: 0.9765 - val_mse: 0.2936\n",
      "Epoch 49/300\n",
      "7/7 [==============================] - 0s 9ms/step - loss: 0.9758 - mse: 0.3186 - val_loss: 0.9765 - val_mse: 0.2937\n",
      "Epoch 50/300\n",
      "7/7 [==============================] - 0s 9ms/step - loss: 0.9758 - mse: 0.3186 - val_loss: 0.9765 - val_mse: 0.2937\n",
      "Epoch 51/300\n",
      "7/7 [==============================] - 0s 10ms/step - loss: 0.9759 - mse: 0.3189 - val_loss: 0.9764 - val_mse: 0.2934\n",
      "Epoch 52/300\n",
      "7/7 [==============================] - 0s 9ms/step - loss: 0.9759 - mse: 0.3189 - val_loss: 0.9763 - val_mse: 0.2933\n",
      "Epoch 53/300\n",
      "7/7 [==============================] - 0s 11ms/step - loss: 0.9759 - mse: 0.3190 - val_loss: 0.9764 - val_mse: 0.2935\n",
      "Epoch 54/300\n",
      "7/7 [==============================] - 0s 10ms/step - loss: 0.9760 - mse: 0.3192 - val_loss: 0.9763 - val_mse: 0.2932\n",
      "Epoch 55/300\n",
      "7/7 [==============================] - 0s 9ms/step - loss: 0.9758 - mse: 0.3186 - val_loss: 0.9764 - val_mse: 0.2935\n",
      "Epoch 56/300\n",
      "7/7 [==============================] - 0s 13ms/step - loss: 0.9758 - mse: 0.3187 - val_loss: 0.9767 - val_mse: 0.2942\n",
      "Epoch 57/300\n",
      "7/7 [==============================] - 0s 9ms/step - loss: 0.9760 - mse: 0.3191 - val_loss: 0.9766 - val_mse: 0.2939\n",
      "Epoch 58/300\n",
      "7/7 [==============================] - 0s 10ms/step - loss: 0.9758 - mse: 0.3188 - val_loss: 0.9764 - val_mse: 0.2935\n",
      "Epoch 59/300\n",
      "7/7 [==============================] - 0s 10ms/step - loss: 0.9758 - mse: 0.3187 - val_loss: 0.9767 - val_mse: 0.2942\n",
      "Epoch 60/300\n",
      "7/7 [==============================] - 0s 10ms/step - loss: 0.9758 - mse: 0.3187 - val_loss: 0.9765 - val_mse: 0.2937\n",
      "Epoch 61/300\n",
      "7/7 [==============================] - 0s 9ms/step - loss: 0.9758 - mse: 0.3186 - val_loss: 0.9766 - val_mse: 0.2940\n",
      "Epoch 62/300\n",
      "7/7 [==============================] - 0s 9ms/step - loss: 0.9762 - mse: 0.3196 - val_loss: 0.9765 - val_mse: 0.2938\n",
      "Epoch 63/300\n",
      "7/7 [==============================] - 0s 9ms/step - loss: 0.9758 - mse: 0.3188 - val_loss: 0.9764 - val_mse: 0.2936\n",
      "Epoch 64/300\n",
      "7/7 [==============================] - 0s 11ms/step - loss: 0.9758 - mse: 0.3186 - val_loss: 0.9764 - val_mse: 0.2935\n",
      "Epoch 65/300\n",
      "7/7 [==============================] - 0s 9ms/step - loss: 0.9758 - mse: 0.3186 - val_loss: 0.9764 - val_mse: 0.2934\n",
      "Epoch 66/300\n",
      "7/7 [==============================] - 0s 10ms/step - loss: 0.9758 - mse: 0.3188 - val_loss: 0.9765 - val_mse: 0.2937\n",
      "Epoch 67/300\n",
      "7/7 [==============================] - 0s 9ms/step - loss: 0.9761 - mse: 0.3193 - val_loss: 0.9767 - val_mse: 0.2941\n",
      "Epoch 68/300\n",
      "7/7 [==============================] - 0s 9ms/step - loss: 0.9762 - mse: 0.3197 - val_loss: 0.9767 - val_mse: 0.2941\n",
      "Epoch 69/300\n",
      "7/7 [==============================] - 0s 10ms/step - loss: 0.9760 - mse: 0.3192 - val_loss: 0.9766 - val_mse: 0.2939\n",
      "Epoch 70/300\n",
      "7/7 [==============================] - 0s 12ms/step - loss: 0.9763 - mse: 0.3199 - val_loss: 0.9765 - val_mse: 0.2938\n",
      "Epoch 71/300\n",
      "7/7 [==============================] - 0s 9ms/step - loss: 0.9762 - mse: 0.3196 - val_loss: 0.9767 - val_mse: 0.2942\n",
      "Epoch 72/300\n",
      "7/7 [==============================] - 0s 10ms/step - loss: 0.9760 - mse: 0.3193 - val_loss: 0.9766 - val_mse: 0.2939\n",
      "Epoch 73/300\n",
      "7/7 [==============================] - 0s 10ms/step - loss: 0.9761 - mse: 0.3194 - val_loss: 0.9765 - val_mse: 0.2938\n",
      "Epoch 74/300\n",
      "7/7 [==============================] - 0s 9ms/step - loss: 0.9760 - mse: 0.3193 - val_loss: 0.9763 - val_mse: 0.2933\n",
      "Epoch 75/300\n",
      "7/7 [==============================] - 0s 9ms/step - loss: 0.9757 - mse: 0.3185 - val_loss: 0.9766 - val_mse: 0.2939\n",
      "Epoch 76/300\n",
      "7/7 [==============================] - 0s 10ms/step - loss: 0.9762 - mse: 0.3196 - val_loss: 0.9765 - val_mse: 0.2937\n",
      "Epoch 77/300\n",
      "7/7 [==============================] - 0s 9ms/step - loss: 0.9769 - mse: 0.3213 - val_loss: 0.9764 - val_mse: 0.2935\n",
      "Epoch 78/300\n",
      "7/7 [==============================] - 0s 9ms/step - loss: 0.9764 - mse: 0.3202 - val_loss: 0.9765 - val_mse: 0.2937\n",
      "Epoch 79/300\n",
      "7/7 [==============================] - 0s 10ms/step - loss: 0.9763 - mse: 0.3198 - val_loss: 0.9766 - val_mse: 0.2939\n",
      "Epoch 80/300\n",
      "7/7 [==============================] - 0s 10ms/step - loss: 0.9758 - mse: 0.3188 - val_loss: 0.9767 - val_mse: 0.2942\n",
      "Epoch 81/300\n",
      "7/7 [==============================] - 0s 9ms/step - loss: 0.9758 - mse: 0.3188 - val_loss: 0.9768 - val_mse: 0.2944\n",
      "Epoch 82/300\n",
      "7/7 [==============================] - 0s 12ms/step - loss: 0.9757 - mse: 0.3185 - val_loss: 0.9765 - val_mse: 0.2937\n",
      "Epoch 83/300\n",
      "7/7 [==============================] - 0s 11ms/step - loss: 0.9759 - mse: 0.3188 - val_loss: 0.9764 - val_mse: 0.2933\n",
      "Epoch 84/300\n",
      "7/7 [==============================] - 0s 9ms/step - loss: 0.9758 - mse: 0.3186 - val_loss: 0.9764 - val_mse: 0.2934\n",
      "Epoch 85/300\n",
      "7/7 [==============================] - 0s 9ms/step - loss: 0.9758 - mse: 0.3186 - val_loss: 0.9766 - val_mse: 0.2940\n",
      "Epoch 86/300\n",
      "7/7 [==============================] - 0s 10ms/step - loss: 0.9758 - mse: 0.3188 - val_loss: 0.9764 - val_mse: 0.2935\n",
      "Epoch 87/300\n",
      "7/7 [==============================] - 0s 9ms/step - loss: 0.9757 - mse: 0.3185 - val_loss: 0.9765 - val_mse: 0.2937\n",
      "Epoch 88/300\n",
      "7/7 [==============================] - 0s 9ms/step - loss: 0.9758 - mse: 0.3187 - val_loss: 0.9766 - val_mse: 0.2940\n",
      "Epoch 89/300\n",
      "7/7 [==============================] - 0s 10ms/step - loss: 0.9759 - mse: 0.3190 - val_loss: 0.9764 - val_mse: 0.2934\n",
      "Epoch 90/300\n",
      "7/7 [==============================] - 0s 10ms/step - loss: 0.9758 - mse: 0.3188 - val_loss: 0.9765 - val_mse: 0.2938\n",
      "Epoch 91/300\n",
      "7/7 [==============================] - 0s 12ms/step - loss: 0.9757 - mse: 0.3186 - val_loss: 0.9766 - val_mse: 0.2939\n",
      "Epoch 92/300\n",
      "7/7 [==============================] - 0s 13ms/step - loss: 0.9757 - mse: 0.3186 - val_loss: 0.9765 - val_mse: 0.2936\n",
      "Epoch 93/300\n",
      "7/7 [==============================] - 0s 10ms/step - loss: 0.9758 - mse: 0.3186 - val_loss: 0.9765 - val_mse: 0.2938\n",
      "Epoch 94/300\n",
      "7/7 [==============================] - 0s 9ms/step - loss: 0.9758 - mse: 0.3187 - val_loss: 0.9763 - val_mse: 0.2933\n",
      "Epoch 95/300\n",
      "7/7 [==============================] - 0s 9ms/step - loss: 0.9757 - mse: 0.3185 - val_loss: 0.9765 - val_mse: 0.2937\n",
      "Epoch 96/300\n",
      "7/7 [==============================] - 0s 10ms/step - loss: 0.9757 - mse: 0.3185 - val_loss: 0.9767 - val_mse: 0.2942\n",
      "Epoch 97/300\n",
      "7/7 [==============================] - 0s 9ms/step - loss: 0.9758 - mse: 0.3188 - val_loss: 0.9766 - val_mse: 0.2939\n",
      "Epoch 98/300\n",
      "7/7 [==============================] - 0s 9ms/step - loss: 0.9760 - mse: 0.3192 - val_loss: 0.9763 - val_mse: 0.2932\n",
      "Epoch 99/300\n",
      "7/7 [==============================] - 0s 11ms/step - loss: 0.9759 - mse: 0.3189 - val_loss: 0.9764 - val_mse: 0.2934\n",
      "Epoch 100/300\n",
      "7/7 [==============================] - 0s 9ms/step - loss: 0.9759 - mse: 0.3189 - val_loss: 0.9767 - val_mse: 0.2941\n",
      "Epoch 101/300\n",
      "7/7 [==============================] - 0s 10ms/step - loss: 0.9758 - mse: 0.3188 - val_loss: 0.9765 - val_mse: 0.2936\n",
      "Epoch 102/300\n",
      "7/7 [==============================] - 0s 9ms/step - loss: 0.9758 - mse: 0.3187 - val_loss: 0.9765 - val_mse: 0.2936\n",
      "Epoch 103/300\n",
      "7/7 [==============================] - 0s 9ms/step - loss: 0.9757 - mse: 0.3183 - val_loss: 0.9766 - val_mse: 0.2939\n",
      "Epoch 104/300\n",
      "7/7 [==============================] - 0s 9ms/step - loss: 0.9756 - mse: 0.3183 - val_loss: 0.9764 - val_mse: 0.2933\n",
      "Epoch 105/300\n",
      "7/7 [==============================] - 0s 9ms/step - loss: 0.9757 - mse: 0.3184 - val_loss: 0.9764 - val_mse: 0.2935\n",
      "Epoch 106/300\n",
      "7/7 [==============================] - 0s 10ms/step - loss: 0.9757 - mse: 0.3185 - val_loss: 0.9764 - val_mse: 0.2935\n",
      "Epoch 107/300\n",
      "7/7 [==============================] - 0s 9ms/step - loss: 0.9757 - mse: 0.3183 - val_loss: 0.9765 - val_mse: 0.2937\n",
      "Epoch 108/300\n",
      "7/7 [==============================] - 0s 9ms/step - loss: 0.9758 - mse: 0.3187 - val_loss: 0.9764 - val_mse: 0.2935\n",
      "Epoch 109/300\n",
      "7/7 [==============================] - 0s 11ms/step - loss: 0.9759 - mse: 0.3188 - val_loss: 0.9766 - val_mse: 0.2939\n",
      "Epoch 110/300\n",
      "7/7 [==============================] - 0s 11ms/step - loss: 0.9759 - mse: 0.3190 - val_loss: 0.9768 - val_mse: 0.2943\n",
      "Epoch 111/300\n",
      "7/7 [==============================] - 0s 9ms/step - loss: 0.9760 - mse: 0.3191 - val_loss: 0.9765 - val_mse: 0.2936\n",
      "Epoch 112/300\n",
      "7/7 [==============================] - 0s 9ms/step - loss: 0.9757 - mse: 0.3185 - val_loss: 0.9765 - val_mse: 0.2937\n",
      "Epoch 113/300\n",
      "7/7 [==============================] - 0s 9ms/step - loss: 0.9758 - mse: 0.3187 - val_loss: 0.9766 - val_mse: 0.2939\n",
      "Epoch 114/300\n",
      "7/7 [==============================] - 0s 9ms/step - loss: 0.9757 - mse: 0.3185 - val_loss: 0.9766 - val_mse: 0.2939\n",
      "Epoch 115/300\n",
      "7/7 [==============================] - 0s 9ms/step - loss: 0.9757 - mse: 0.3185 - val_loss: 0.9766 - val_mse: 0.2939\n",
      "Epoch 116/300\n",
      "7/7 [==============================] - 0s 10ms/step - loss: 0.9756 - mse: 0.3183 - val_loss: 0.9763 - val_mse: 0.2933\n",
      "Epoch 117/300\n",
      "7/7 [==============================] - 0s 9ms/step - loss: 0.9757 - mse: 0.3185 - val_loss: 0.9763 - val_mse: 0.2933\n",
      "Epoch 118/300\n",
      "7/7 [==============================] - 0s 9ms/step - loss: 0.9757 - mse: 0.3185 - val_loss: 0.9765 - val_mse: 0.2938\n",
      "Epoch 119/300\n",
      "7/7 [==============================] - 0s 13ms/step - loss: 0.9757 - mse: 0.3185 - val_loss: 0.9766 - val_mse: 0.2939\n",
      "Epoch 120/300\n",
      "7/7 [==============================] - 0s 12ms/step - loss: 0.9759 - mse: 0.3188 - val_loss: 0.9765 - val_mse: 0.2937\n",
      "Epoch 121/300\n",
      "7/7 [==============================] - 0s 9ms/step - loss: 0.9758 - mse: 0.3186 - val_loss: 0.9766 - val_mse: 0.2938\n",
      "Epoch 122/300\n",
      "7/7 [==============================] - 0s 10ms/step - loss: 0.9757 - mse: 0.3183 - val_loss: 0.9763 - val_mse: 0.2933\n",
      "Epoch 123/300\n",
      "7/7 [==============================] - 0s 12ms/step - loss: 0.9757 - mse: 0.3185 - val_loss: 0.9762 - val_mse: 0.2928\n",
      "Epoch 124/300\n",
      "7/7 [==============================] - 0s 9ms/step - loss: 0.9758 - mse: 0.3187 - val_loss: 0.9764 - val_mse: 0.2933\n",
      "Epoch 125/300\n",
      "7/7 [==============================] - 0s 10ms/step - loss: 0.9758 - mse: 0.3188 - val_loss: 0.9764 - val_mse: 0.2935\n",
      "Epoch 126/300\n",
      "7/7 [==============================] - 0s 9ms/step - loss: 0.9758 - mse: 0.3188 - val_loss: 0.9765 - val_mse: 0.2936\n",
      "Epoch 127/300\n",
      "7/7 [==============================] - 0s 9ms/step - loss: 0.9760 - mse: 0.3191 - val_loss: 0.9767 - val_mse: 0.2940\n",
      "Epoch 128/300\n",
      "7/7 [==============================] - 0s 9ms/step - loss: 0.9758 - mse: 0.3187 - val_loss: 0.9765 - val_mse: 0.2938\n",
      "Epoch 129/300\n",
      "7/7 [==============================] - 0s 9ms/step - loss: 0.9757 - mse: 0.3184 - val_loss: 0.9763 - val_mse: 0.2933\n",
      "Epoch 130/300\n",
      "7/7 [==============================] - 0s 10ms/step - loss: 0.9757 - mse: 0.3185 - val_loss: 0.9765 - val_mse: 0.2936\n",
      "Epoch 131/300\n",
      "7/7 [==============================] - 0s 12ms/step - loss: 0.9758 - mse: 0.3187 - val_loss: 0.9765 - val_mse: 0.2937\n",
      "Epoch 132/300\n",
      "7/7 [==============================] - 0s 9ms/step - loss: 0.9758 - mse: 0.3186 - val_loss: 0.9764 - val_mse: 0.2935\n",
      "Epoch 133/300\n",
      "7/7 [==============================] - 0s 10ms/step - loss: 0.9757 - mse: 0.3184 - val_loss: 0.9765 - val_mse: 0.2937\n",
      "Epoch 134/300\n",
      "7/7 [==============================] - 0s 9ms/step - loss: 0.9758 - mse: 0.3187 - val_loss: 0.9764 - val_mse: 0.2936\n",
      "Epoch 135/300\n",
      "7/7 [==============================] - 0s 9ms/step - loss: 0.9758 - mse: 0.3187 - val_loss: 0.9769 - val_mse: 0.2946\n",
      "Epoch 136/300\n",
      "7/7 [==============================] - 0s 11ms/step - loss: 0.9764 - mse: 0.3201 - val_loss: 0.9769 - val_mse: 0.2946\n",
      "Epoch 137/300\n",
      "7/7 [==============================] - 0s 9ms/step - loss: 0.9759 - mse: 0.3188 - val_loss: 0.9765 - val_mse: 0.2937\n",
      "Epoch 138/300\n",
      "7/7 [==============================] - 0s 10ms/step - loss: 0.9759 - mse: 0.3189 - val_loss: 0.9764 - val_mse: 0.2934\n",
      "Epoch 139/300\n",
      "7/7 [==============================] - 0s 9ms/step - loss: 0.9758 - mse: 0.3187 - val_loss: 0.9763 - val_mse: 0.2932\n",
      "Epoch 140/300\n",
      "7/7 [==============================] - 0s 9ms/step - loss: 0.9757 - mse: 0.3184 - val_loss: 0.9766 - val_mse: 0.2938\n",
      "Epoch 141/300\n",
      "7/7 [==============================] - 0s 13ms/step - loss: 0.9758 - mse: 0.3186 - val_loss: 0.9765 - val_mse: 0.2936\n",
      "Epoch 142/300\n",
      "7/7 [==============================] - 0s 10ms/step - loss: 0.9757 - mse: 0.3186 - val_loss: 0.9765 - val_mse: 0.2938\n",
      "Epoch 143/300\n",
      "7/7 [==============================] - 0s 9ms/step - loss: 0.9758 - mse: 0.3188 - val_loss: 0.9764 - val_mse: 0.2933\n",
      "Epoch 144/300\n",
      "7/7 [==============================] - 0s 9ms/step - loss: 0.9758 - mse: 0.3186 - val_loss: 0.9763 - val_mse: 0.2933\n",
      "Epoch 145/300\n",
      "7/7 [==============================] - 0s 11ms/step - loss: 0.9758 - mse: 0.3186 - val_loss: 0.9765 - val_mse: 0.2936\n",
      "Epoch 146/300\n",
      "7/7 [==============================] - 0s 10ms/step - loss: 0.9759 - mse: 0.3190 - val_loss: 0.9766 - val_mse: 0.2938\n",
      "Epoch 147/300\n",
      "7/7 [==============================] - 0s 10ms/step - loss: 0.9759 - mse: 0.3190 - val_loss: 0.9767 - val_mse: 0.2941\n",
      "Epoch 148/300\n",
      "7/7 [==============================] - 0s 9ms/step - loss: 0.9756 - mse: 0.3183 - val_loss: 0.9765 - val_mse: 0.2938\n",
      "Epoch 149/300\n",
      "7/7 [==============================] - 0s 9ms/step - loss: 0.9757 - mse: 0.3184 - val_loss: 0.9764 - val_mse: 0.2934\n",
      "Epoch 150/300\n",
      "7/7 [==============================] - 0s 10ms/step - loss: 0.9757 - mse: 0.3185 - val_loss: 0.9765 - val_mse: 0.2937\n",
      "Epoch 151/300\n",
      "7/7 [==============================] - 0s 9ms/step - loss: 0.9759 - mse: 0.3190 - val_loss: 0.9766 - val_mse: 0.2939\n",
      "Epoch 152/300\n",
      "7/7 [==============================] - 0s 9ms/step - loss: 0.9756 - mse: 0.3182 - val_loss: 0.9764 - val_mse: 0.2934\n",
      "Epoch 153/300\n",
      "7/7 [==============================] - 0s 8ms/step - loss: 0.9758 - mse: 0.3186 - val_loss: 0.9765 - val_mse: 0.2938\n",
      "Epoch 154/300\n",
      "7/7 [==============================] - 0s 9ms/step - loss: 0.9758 - mse: 0.3187 - val_loss: 0.9766 - val_mse: 0.2938\n",
      "Epoch 155/300\n",
      "7/7 [==============================] - 0s 11ms/step - loss: 0.9757 - mse: 0.3185 - val_loss: 0.9768 - val_mse: 0.2943\n",
      "Epoch 156/300\n",
      "7/7 [==============================] - 0s 9ms/step - loss: 0.9756 - mse: 0.3183 - val_loss: 0.9766 - val_mse: 0.2940\n",
      "Epoch 157/300\n",
      "7/7 [==============================] - 0s 10ms/step - loss: 0.9757 - mse: 0.3183 - val_loss: 0.9766 - val_mse: 0.2939\n",
      "Epoch 158/300\n",
      "7/7 [==============================] - 0s 9ms/step - loss: 0.9757 - mse: 0.3184 - val_loss: 0.9764 - val_mse: 0.2935\n",
      "Epoch 159/300\n",
      "7/7 [==============================] - 0s 9ms/step - loss: 0.9757 - mse: 0.3185 - val_loss: 0.9765 - val_mse: 0.2937\n",
      "Epoch 160/300\n",
      "7/7 [==============================] - 0s 9ms/step - loss: 0.9758 - mse: 0.3187 - val_loss: 0.9762 - val_mse: 0.2931\n",
      "Epoch 161/300\n",
      "7/7 [==============================] - 0s 9ms/step - loss: 0.9756 - mse: 0.3183 - val_loss: 0.9761 - val_mse: 0.2928\n",
      "Epoch 162/300\n",
      "7/7 [==============================] - 0s 9ms/step - loss: 0.9758 - mse: 0.3186 - val_loss: 0.9764 - val_mse: 0.2935\n",
      "Epoch 163/300\n",
      "7/7 [==============================] - 0s 9ms/step - loss: 0.9757 - mse: 0.3184 - val_loss: 0.9764 - val_mse: 0.2933\n",
      "Epoch 164/300\n",
      "7/7 [==============================] - 0s 12ms/step - loss: 0.9757 - mse: 0.3184 - val_loss: 0.9765 - val_mse: 0.2938\n",
      "Epoch 165/300\n",
      "7/7 [==============================] - 0s 9ms/step - loss: 0.9756 - mse: 0.3183 - val_loss: 0.9765 - val_mse: 0.2936\n",
      "Epoch 166/300\n",
      "7/7 [==============================] - 0s 9ms/step - loss: 0.9760 - mse: 0.3191 - val_loss: 0.9763 - val_mse: 0.2933\n",
      "Epoch 167/300\n",
      "7/7 [==============================] - 0s 12ms/step - loss: 0.9758 - mse: 0.3186 - val_loss: 0.9766 - val_mse: 0.2938\n",
      "Epoch 168/300\n",
      "7/7 [==============================] - 0s 11ms/step - loss: 0.9757 - mse: 0.3183 - val_loss: 0.9765 - val_mse: 0.2938\n",
      "Epoch 169/300\n",
      "7/7 [==============================] - 0s 9ms/step - loss: 0.9757 - mse: 0.3185 - val_loss: 0.9766 - val_mse: 0.2939\n",
      "Epoch 170/300\n",
      "7/7 [==============================] - 0s 9ms/step - loss: 0.9756 - mse: 0.3183 - val_loss: 0.9765 - val_mse: 0.2937\n",
      "Epoch 171/300\n",
      "7/7 [==============================] - 0s 9ms/step - loss: 0.9759 - mse: 0.3188 - val_loss: 0.9763 - val_mse: 0.2931\n",
      "Epoch 172/300\n",
      "7/7 [==============================] - 0s 9ms/step - loss: 0.9758 - mse: 0.3186 - val_loss: 0.9763 - val_mse: 0.2933\n",
      "Epoch 173/300\n",
      "7/7 [==============================] - 0s 9ms/step - loss: 0.9757 - mse: 0.3184 - val_loss: 0.9767 - val_mse: 0.2942\n",
      "Epoch 174/300\n",
      "7/7 [==============================] - 0s 10ms/step - loss: 0.9757 - mse: 0.3184 - val_loss: 0.9765 - val_mse: 0.2936\n",
      "Epoch 175/300\n",
      "7/7 [==============================] - 0s 9ms/step - loss: 0.9758 - mse: 0.3188 - val_loss: 0.9764 - val_mse: 0.2935\n",
      "Epoch 176/300\n",
      "7/7 [==============================] - 0s 9ms/step - loss: 0.9757 - mse: 0.3184 - val_loss: 0.9767 - val_mse: 0.2943\n",
      "Epoch 177/300\n",
      "7/7 [==============================] - 0s 12ms/step - loss: 0.9759 - mse: 0.3190 - val_loss: 0.9765 - val_mse: 0.2936\n",
      "Epoch 178/300\n",
      "7/7 [==============================] - 0s 9ms/step - loss: 0.9759 - mse: 0.3190 - val_loss: 0.9764 - val_mse: 0.2935\n",
      "Epoch 179/300\n",
      "7/7 [==============================] - 0s 9ms/step - loss: 0.9759 - mse: 0.3189 - val_loss: 0.9765 - val_mse: 0.2938\n",
      "Epoch 180/300\n",
      "7/7 [==============================] - 0s 9ms/step - loss: 0.9760 - mse: 0.3192 - val_loss: 0.9765 - val_mse: 0.2938\n",
      "Epoch 181/300\n",
      "7/7 [==============================] - 0s 12ms/step - loss: 0.9758 - mse: 0.3188 - val_loss: 0.9765 - val_mse: 0.2937\n",
      "Epoch 182/300\n",
      "7/7 [==============================] - 0s 10ms/step - loss: 0.9760 - mse: 0.3192 - val_loss: 0.9764 - val_mse: 0.2934\n",
      "Epoch 183/300\n",
      "7/7 [==============================] - 0s 9ms/step - loss: 0.9758 - mse: 0.3186 - val_loss: 0.9764 - val_mse: 0.2935\n",
      "Epoch 184/300\n",
      "7/7 [==============================] - 0s 11ms/step - loss: 0.9758 - mse: 0.3188 - val_loss: 0.9767 - val_mse: 0.2941\n",
      "Epoch 185/300\n",
      "7/7 [==============================] - 0s 9ms/step - loss: 0.9759 - mse: 0.3189 - val_loss: 0.9765 - val_mse: 0.2937\n",
      "Epoch 186/300\n",
      "7/7 [==============================] - 0s 10ms/step - loss: 0.9757 - mse: 0.3185 - val_loss: 0.9762 - val_mse: 0.2930\n",
      "Epoch 187/300\n",
      "7/7 [==============================] - 0s 11ms/step - loss: 0.9756 - mse: 0.3181 - val_loss: 0.9763 - val_mse: 0.2931\n",
      "Epoch 188/300\n",
      "7/7 [==============================] - 0s 9ms/step - loss: 0.9757 - mse: 0.3185 - val_loss: 0.9764 - val_mse: 0.2934\n",
      "Epoch 189/300\n",
      "7/7 [==============================] - 0s 9ms/step - loss: 0.9757 - mse: 0.3185 - val_loss: 0.9767 - val_mse: 0.2942\n",
      "Epoch 190/300\n",
      "7/7 [==============================] - 0s 12ms/step - loss: 0.9756 - mse: 0.3182 - val_loss: 0.9766 - val_mse: 0.2939\n",
      "Epoch 191/300\n",
      "7/7 [==============================] - 0s 9ms/step - loss: 0.9756 - mse: 0.3181 - val_loss: 0.9765 - val_mse: 0.2936\n",
      "Epoch 192/300\n",
      "7/7 [==============================] - 0s 9ms/step - loss: 0.9757 - mse: 0.3184 - val_loss: 0.9764 - val_mse: 0.2935\n",
      "Epoch 193/300\n",
      "7/7 [==============================] - 0s 10ms/step - loss: 0.9759 - mse: 0.3189 - val_loss: 0.9764 - val_mse: 0.2935\n",
      "Epoch 194/300\n",
      "7/7 [==============================] - 0s 10ms/step - loss: 0.9758 - mse: 0.3187 - val_loss: 0.9766 - val_mse: 0.2938\n",
      "Epoch 195/300\n",
      "7/7 [==============================] - 0s 10ms/step - loss: 0.9760 - mse: 0.3192 - val_loss: 0.9767 - val_mse: 0.2942\n",
      "Epoch 196/300\n",
      "7/7 [==============================] - 0s 9ms/step - loss: 0.9766 - mse: 0.3206 - val_loss: 0.9766 - val_mse: 0.2940\n",
      "Epoch 197/300\n",
      "7/7 [==============================] - 0s 10ms/step - loss: 0.9758 - mse: 0.3188 - val_loss: 0.9765 - val_mse: 0.2938\n",
      "Epoch 198/300\n",
      "7/7 [==============================] - 0s 9ms/step - loss: 0.9757 - mse: 0.3185 - val_loss: 0.9764 - val_mse: 0.2934\n",
      "Epoch 199/300\n",
      "7/7 [==============================] - 0s 9ms/step - loss: 0.9757 - mse: 0.3185 - val_loss: 0.9765 - val_mse: 0.2937\n",
      "Epoch 200/300\n",
      "7/7 [==============================] - 0s 10ms/step - loss: 0.9756 - mse: 0.3182 - val_loss: 0.9766 - val_mse: 0.2939\n",
      "Epoch 201/300\n",
      "7/7 [==============================] - 0s 10ms/step - loss: 0.9755 - mse: 0.3181 - val_loss: 0.9765 - val_mse: 0.2937\n",
      "Epoch 202/300\n",
      "7/7 [==============================] - 0s 9ms/step - loss: 0.9756 - mse: 0.3183 - val_loss: 0.9764 - val_mse: 0.2935\n",
      "Epoch 203/300\n",
      "7/7 [==============================] - 0s 10ms/step - loss: 0.9756 - mse: 0.3181 - val_loss: 0.9764 - val_mse: 0.2933\n",
      "Epoch 204/300\n",
      "7/7 [==============================] - 0s 11ms/step - loss: 0.9757 - mse: 0.3184 - val_loss: 0.9764 - val_mse: 0.2934\n",
      "Epoch 205/300\n",
      "7/7 [==============================] - 0s 9ms/step - loss: 0.9756 - mse: 0.3183 - val_loss: 0.9767 - val_mse: 0.2943\n",
      "Epoch 206/300\n",
      "7/7 [==============================] - 0s 9ms/step - loss: 0.9757 - mse: 0.3183 - val_loss: 0.9765 - val_mse: 0.2938\n",
      "Epoch 207/300\n",
      "7/7 [==============================] - 0s 10ms/step - loss: 0.9756 - mse: 0.3181 - val_loss: 0.9766 - val_mse: 0.2939\n",
      "Epoch 208/300\n",
      "7/7 [==============================] - 0s 11ms/step - loss: 0.9757 - mse: 0.3184 - val_loss: 0.9764 - val_mse: 0.2935\n",
      "Epoch 209/300\n",
      "7/7 [==============================] - 0s 9ms/step - loss: 0.9757 - mse: 0.3183 - val_loss: 0.9767 - val_mse: 0.2941\n",
      "Epoch 210/300\n",
      "7/7 [==============================] - 0s 9ms/step - loss: 0.9758 - mse: 0.3186 - val_loss: 0.9765 - val_mse: 0.2937\n",
      "Epoch 211/300\n",
      "7/7 [==============================] - 0s 11ms/step - loss: 0.9755 - mse: 0.3180 - val_loss: 0.9763 - val_mse: 0.2933\n",
      "Epoch 212/300\n",
      "7/7 [==============================] - 0s 9ms/step - loss: 0.9759 - mse: 0.3190 - val_loss: 0.9762 - val_mse: 0.2930\n",
      "Epoch 213/300\n",
      "7/7 [==============================] - 0s 9ms/step - loss: 0.9758 - mse: 0.3188 - val_loss: 0.9763 - val_mse: 0.2933\n",
      "Epoch 214/300\n",
      "7/7 [==============================] - 0s 12ms/step - loss: 0.9758 - mse: 0.3187 - val_loss: 0.9767 - val_mse: 0.2941\n",
      "Epoch 215/300\n",
      "7/7 [==============================] - 0s 9ms/step - loss: 0.9757 - mse: 0.3184 - val_loss: 0.9765 - val_mse: 0.2938\n",
      "Epoch 216/300\n",
      "7/7 [==============================] - 0s 10ms/step - loss: 0.9757 - mse: 0.3185 - val_loss: 0.9766 - val_mse: 0.2940\n",
      "Epoch 217/300\n",
      "7/7 [==============================] - 0s 12ms/step - loss: 0.9760 - mse: 0.3190 - val_loss: 0.9769 - val_mse: 0.2947\n",
      "Epoch 218/300\n",
      "7/7 [==============================] - 0s 9ms/step - loss: 0.9760 - mse: 0.3192 - val_loss: 0.9768 - val_mse: 0.2945\n",
      "Epoch 219/300\n",
      "7/7 [==============================] - 0s 10ms/step - loss: 0.9760 - mse: 0.3191 - val_loss: 0.9767 - val_mse: 0.2942\n",
      "Epoch 220/300\n",
      "7/7 [==============================] - 0s 9ms/step - loss: 0.9756 - mse: 0.3183 - val_loss: 0.9767 - val_mse: 0.2941\n",
      "Epoch 221/300\n",
      "7/7 [==============================] - 0s 10ms/step - loss: 0.9758 - mse: 0.3186 - val_loss: 0.9763 - val_mse: 0.2932\n",
      "Epoch 222/300\n",
      "7/7 [==============================] - 0s 10ms/step - loss: 0.9756 - mse: 0.3182 - val_loss: 0.9764 - val_mse: 0.2934\n",
      "Epoch 223/300\n",
      "7/7 [==============================] - 0s 10ms/step - loss: 0.9756 - mse: 0.3181 - val_loss: 0.9764 - val_mse: 0.2935\n",
      "Epoch 224/300\n",
      "7/7 [==============================] - 0s 9ms/step - loss: 0.9756 - mse: 0.3182 - val_loss: 0.9768 - val_mse: 0.2944\n",
      "Epoch 225/300\n",
      "7/7 [==============================] - 0s 11ms/step - loss: 0.9757 - mse: 0.3185 - val_loss: 0.9766 - val_mse: 0.2939\n",
      "Epoch 226/300\n",
      "7/7 [==============================] - 0s 9ms/step - loss: 0.9756 - mse: 0.3183 - val_loss: 0.9764 - val_mse: 0.2936\n",
      "Epoch 227/300\n",
      "7/7 [==============================] - 0s 12ms/step - loss: 0.9757 - mse: 0.3185 - val_loss: 0.9766 - val_mse: 0.2939\n",
      "Epoch 228/300\n",
      "7/7 [==============================] - 0s 10ms/step - loss: 0.9759 - mse: 0.3190 - val_loss: 0.9766 - val_mse: 0.2940\n",
      "Epoch 229/300\n",
      "7/7 [==============================] - 0s 9ms/step - loss: 0.9758 - mse: 0.3187 - val_loss: 0.9767 - val_mse: 0.2943\n",
      "Epoch 230/300\n",
      "7/7 [==============================] - 0s 11ms/step - loss: 0.9759 - mse: 0.3189 - val_loss: 0.9770 - val_mse: 0.2949\n",
      "Epoch 231/300\n",
      "7/7 [==============================] - 0s 9ms/step - loss: 0.9759 - mse: 0.3189 - val_loss: 0.9768 - val_mse: 0.2944\n",
      "Epoch 232/300\n",
      "7/7 [==============================] - 0s 10ms/step - loss: 0.9757 - mse: 0.3184 - val_loss: 0.9763 - val_mse: 0.2932\n",
      "Epoch 233/300\n",
      "7/7 [==============================] - 0s 10ms/step - loss: 0.9757 - mse: 0.3185 - val_loss: 0.9768 - val_mse: 0.2944\n",
      "Epoch 234/300\n",
      "7/7 [==============================] - 0s 9ms/step - loss: 0.9757 - mse: 0.3184 - val_loss: 0.9769 - val_mse: 0.2946\n",
      "Epoch 235/300\n",
      "7/7 [==============================] - 0s 9ms/step - loss: 0.9758 - mse: 0.3186 - val_loss: 0.9766 - val_mse: 0.2939\n",
      "Epoch 236/300\n",
      "7/7 [==============================] - 0s 9ms/step - loss: 0.9755 - mse: 0.3180 - val_loss: 0.9765 - val_mse: 0.2936\n",
      "Epoch 237/300\n",
      "7/7 [==============================] - 0s 10ms/step - loss: 0.9756 - mse: 0.3183 - val_loss: 0.9765 - val_mse: 0.2936\n",
      "Epoch 238/300\n",
      "7/7 [==============================] - 0s 10ms/step - loss: 0.9760 - mse: 0.3191 - val_loss: 0.9767 - val_mse: 0.2943\n",
      "Epoch 239/300\n",
      "7/7 [==============================] - 0s 10ms/step - loss: 0.9757 - mse: 0.3184 - val_loss: 0.9766 - val_mse: 0.2938\n",
      "Epoch 240/300\n",
      "7/7 [==============================] - 0s 10ms/step - loss: 0.9757 - mse: 0.3184 - val_loss: 0.9765 - val_mse: 0.2938\n",
      "Epoch 241/300\n",
      "7/7 [==============================] - 0s 9ms/step - loss: 0.9758 - mse: 0.3187 - val_loss: 0.9765 - val_mse: 0.2938\n",
      "Epoch 242/300\n",
      "7/7 [==============================] - 0s 9ms/step - loss: 0.9757 - mse: 0.3184 - val_loss: 0.9769 - val_mse: 0.2947\n",
      "Epoch 243/300\n",
      "7/7 [==============================] - 0s 11ms/step - loss: 0.9757 - mse: 0.3184 - val_loss: 0.9768 - val_mse: 0.2944\n",
      "Epoch 244/300\n",
      "7/7 [==============================] - 0s 9ms/step - loss: 0.9759 - mse: 0.3190 - val_loss: 0.9764 - val_mse: 0.2936\n",
      "Epoch 245/300\n",
      "7/7 [==============================] - 0s 10ms/step - loss: 0.9759 - mse: 0.3189 - val_loss: 0.9764 - val_mse: 0.2934\n",
      "Epoch 246/300\n",
      "7/7 [==============================] - 0s 10ms/step - loss: 0.9764 - mse: 0.3202 - val_loss: 0.9768 - val_mse: 0.2944\n",
      "Epoch 247/300\n",
      "7/7 [==============================] - 0s 10ms/step - loss: 0.9758 - mse: 0.3188 - val_loss: 0.9766 - val_mse: 0.2940\n",
      "Epoch 248/300\n",
      "7/7 [==============================] - 0s 9ms/step - loss: 0.9757 - mse: 0.3185 - val_loss: 0.9765 - val_mse: 0.2937\n",
      "Epoch 249/300\n",
      "7/7 [==============================] - 0s 9ms/step - loss: 0.9756 - mse: 0.3182 - val_loss: 0.9764 - val_mse: 0.2934\n",
      "Epoch 250/300\n",
      "7/7 [==============================] - 0s 9ms/step - loss: 0.9756 - mse: 0.3182 - val_loss: 0.9765 - val_mse: 0.2938\n",
      "Epoch 251/300\n",
      "7/7 [==============================] - 0s 9ms/step - loss: 0.9756 - mse: 0.3183 - val_loss: 0.9765 - val_mse: 0.2937\n",
      "Epoch 252/300\n",
      "7/7 [==============================] - 0s 9ms/step - loss: 0.9757 - mse: 0.3184 - val_loss: 0.9766 - val_mse: 0.2938\n",
      "Epoch 253/300\n",
      "7/7 [==============================] - 0s 9ms/step - loss: 0.9757 - mse: 0.3185 - val_loss: 0.9767 - val_mse: 0.2941\n",
      "Epoch 254/300\n",
      "7/7 [==============================] - 0s 11ms/step - loss: 0.9756 - mse: 0.3183 - val_loss: 0.9766 - val_mse: 0.2938\n",
      "Epoch 255/300\n",
      "7/7 [==============================] - 0s 9ms/step - loss: 0.9757 - mse: 0.3184 - val_loss: 0.9765 - val_mse: 0.2936\n",
      "Epoch 256/300\n",
      "7/7 [==============================] - 0s 10ms/step - loss: 0.9756 - mse: 0.3182 - val_loss: 0.9764 - val_mse: 0.2935\n",
      "Epoch 257/300\n",
      "7/7 [==============================] - 0s 10ms/step - loss: 0.9756 - mse: 0.3182 - val_loss: 0.9765 - val_mse: 0.2937\n",
      "Epoch 258/300\n",
      "7/7 [==============================] - 0s 10ms/step - loss: 0.9757 - mse: 0.3185 - val_loss: 0.9766 - val_mse: 0.2938\n",
      "Epoch 259/300\n",
      "7/7 [==============================] - 0s 9ms/step - loss: 0.9757 - mse: 0.3185 - val_loss: 0.9765 - val_mse: 0.2938\n",
      "Epoch 260/300\n",
      "7/7 [==============================] - 0s 9ms/step - loss: 0.9755 - mse: 0.3180 - val_loss: 0.9763 - val_mse: 0.2933\n",
      "Epoch 261/300\n",
      "7/7 [==============================] - 0s 9ms/step - loss: 0.9756 - mse: 0.3183 - val_loss: 0.9764 - val_mse: 0.2935\n",
      "Epoch 262/300\n",
      "7/7 [==============================] - 0s 10ms/step - loss: 0.9756 - mse: 0.3182 - val_loss: 0.9768 - val_mse: 0.2945\n",
      "Epoch 263/300\n",
      "7/7 [==============================] - 0s 9ms/step - loss: 0.9756 - mse: 0.3183 - val_loss: 0.9766 - val_mse: 0.2939\n",
      "Epoch 264/300\n",
      "7/7 [==============================] - 0s 10ms/step - loss: 0.9757 - mse: 0.3184 - val_loss: 0.9765 - val_mse: 0.2938\n",
      "Epoch 265/300\n",
      "7/7 [==============================] - 0s 9ms/step - loss: 0.9757 - mse: 0.3185 - val_loss: 0.9765 - val_mse: 0.2937\n",
      "Epoch 266/300\n",
      "7/7 [==============================] - 0s 10ms/step - loss: 0.9756 - mse: 0.3182 - val_loss: 0.9764 - val_mse: 0.2935\n",
      "Epoch 267/300\n",
      "7/7 [==============================] - 0s 10ms/step - loss: 0.9755 - mse: 0.3181 - val_loss: 0.9765 - val_mse: 0.2936\n",
      "Epoch 268/300\n",
      "7/7 [==============================] - 0s 9ms/step - loss: 0.9756 - mse: 0.3181 - val_loss: 0.9764 - val_mse: 0.2934\n",
      "Epoch 269/300\n",
      "7/7 [==============================] - 0s 9ms/step - loss: 0.9755 - mse: 0.3180 - val_loss: 0.9765 - val_mse: 0.2937\n",
      "Epoch 270/300\n",
      "7/7 [==============================] - 0s 10ms/step - loss: 0.9757 - mse: 0.3184 - val_loss: 0.9764 - val_mse: 0.2934\n",
      "Epoch 271/300\n",
      "7/7 [==============================] - 0s 11ms/step - loss: 0.9756 - mse: 0.3181 - val_loss: 0.9764 - val_mse: 0.2934\n",
      "Epoch 272/300\n",
      "7/7 [==============================] - 0s 9ms/step - loss: 0.9759 - mse: 0.3190 - val_loss: 0.9767 - val_mse: 0.2942\n",
      "Epoch 273/300\n",
      "7/7 [==============================] - 0s 13ms/step - loss: 0.9756 - mse: 0.3183 - val_loss: 0.9763 - val_mse: 0.2933\n",
      "Epoch 274/300\n",
      "7/7 [==============================] - 0s 10ms/step - loss: 0.9755 - mse: 0.3179 - val_loss: 0.9764 - val_mse: 0.2935\n",
      "Epoch 275/300\n",
      "7/7 [==============================] - 0s 9ms/step - loss: 0.9757 - mse: 0.3184 - val_loss: 0.9764 - val_mse: 0.2935\n",
      "Epoch 276/300\n",
      "7/7 [==============================] - 0s 9ms/step - loss: 0.9760 - mse: 0.3191 - val_loss: 0.9765 - val_mse: 0.2938\n",
      "Epoch 277/300\n",
      "7/7 [==============================] - 0s 10ms/step - loss: 0.9756 - mse: 0.3183 - val_loss: 0.9763 - val_mse: 0.2933\n",
      "Epoch 278/300\n",
      "7/7 [==============================] - 0s 11ms/step - loss: 0.9755 - mse: 0.3179 - val_loss: 0.9765 - val_mse: 0.2937\n",
      "Epoch 279/300\n",
      "7/7 [==============================] - 0s 9ms/step - loss: 0.9756 - mse: 0.3182 - val_loss: 0.9765 - val_mse: 0.2938\n",
      "Epoch 280/300\n",
      "7/7 [==============================] - 0s 10ms/step - loss: 0.9755 - mse: 0.3179 - val_loss: 0.9766 - val_mse: 0.2939\n",
      "Epoch 281/300\n",
      "7/7 [==============================] - 0s 9ms/step - loss: 0.9758 - mse: 0.3186 - val_loss: 0.9766 - val_mse: 0.2940\n",
      "Epoch 282/300\n",
      "7/7 [==============================] - 0s 10ms/step - loss: 0.9759 - mse: 0.3189 - val_loss: 0.9765 - val_mse: 0.2937\n",
      "Epoch 283/300\n",
      "7/7 [==============================] - 0s 12ms/step - loss: 0.9756 - mse: 0.3181 - val_loss: 0.9764 - val_mse: 0.2934\n",
      "Epoch 284/300\n",
      "7/7 [==============================] - 0s 10ms/step - loss: 0.9757 - mse: 0.3185 - val_loss: 0.9764 - val_mse: 0.2935\n",
      "Epoch 285/300\n",
      "7/7 [==============================] - 0s 11ms/step - loss: 0.9756 - mse: 0.3183 - val_loss: 0.9766 - val_mse: 0.2939\n",
      "Epoch 286/300\n",
      "7/7 [==============================] - 0s 9ms/step - loss: 0.9759 - mse: 0.3188 - val_loss: 0.9764 - val_mse: 0.2934\n",
      "Epoch 287/300\n",
      "7/7 [==============================] - 0s 9ms/step - loss: 0.9754 - mse: 0.3178 - val_loss: 0.9764 - val_mse: 0.2935\n",
      "Epoch 288/300\n",
      "7/7 [==============================] - 0s 12ms/step - loss: 0.9756 - mse: 0.3181 - val_loss: 0.9767 - val_mse: 0.2943\n",
      "Epoch 289/300\n",
      "7/7 [==============================] - 0s 11ms/step - loss: 0.9756 - mse: 0.3181 - val_loss: 0.9765 - val_mse: 0.2937\n",
      "Epoch 290/300\n",
      "7/7 [==============================] - 0s 10ms/step - loss: 0.9756 - mse: 0.3182 - val_loss: 0.9765 - val_mse: 0.2936\n",
      "Epoch 291/300\n",
      "7/7 [==============================] - 0s 12ms/step - loss: 0.9756 - mse: 0.3183 - val_loss: 0.9764 - val_mse: 0.2935\n",
      "Epoch 292/300\n",
      "7/7 [==============================] - 0s 10ms/step - loss: 0.9761 - mse: 0.3193 - val_loss: 0.9769 - val_mse: 0.2947\n",
      "Epoch 293/300\n",
      "7/7 [==============================] - 0s 10ms/step - loss: 0.9759 - mse: 0.3190 - val_loss: 0.9766 - val_mse: 0.2939\n",
      "Epoch 294/300\n",
      "7/7 [==============================] - 0s 10ms/step - loss: 0.9761 - mse: 0.3194 - val_loss: 0.9767 - val_mse: 0.2942\n",
      "Epoch 295/300\n",
      "7/7 [==============================] - 0s 11ms/step - loss: 0.9767 - mse: 0.3209 - val_loss: 0.9768 - val_mse: 0.2945\n",
      "Epoch 296/300\n",
      "7/7 [==============================] - 0s 9ms/step - loss: 0.9760 - mse: 0.3191 - val_loss: 0.9766 - val_mse: 0.2939\n",
      "Epoch 297/300\n",
      "7/7 [==============================] - 0s 10ms/step - loss: 0.9757 - mse: 0.3184 - val_loss: 0.9762 - val_mse: 0.2930\n",
      "Epoch 298/300\n",
      "7/7 [==============================] - 0s 9ms/step - loss: 0.9757 - mse: 0.3184 - val_loss: 0.9764 - val_mse: 0.2936\n",
      "Epoch 299/300\n",
      "7/7 [==============================] - 0s 10ms/step - loss: 0.9755 - mse: 0.3180 - val_loss: 0.9763 - val_mse: 0.2932\n",
      "Epoch 300/300\n",
      "7/7 [==============================] - 0s 9ms/step - loss: 0.9756 - mse: 0.3181 - val_loss: 0.9763 - val_mse: 0.2932\n"
     ]
    }
   ],
   "source": [
    "history = model.fit(Xtrain, ytrain, epochs=epochs, batch_size=batch_size, validation_split=validation_split, verbose=verbose)"
   ]
  },
  {
   "cell_type": "code",
   "execution_count": null,
   "metadata": {
    "colab": {
     "base_uri": "https://localhost:8080/",
     "height": 334
    },
    "id": "3BMbE3o6ILsI",
    "outputId": "48d79375-c325-453f-9cd8-647910963b01"
   },
   "outputs": [
    {
     "data": {
      "image/png": "[encoded data removed]",
      "text/plain": [
       "<Figure size 720x360 with 1 Axes>"
      ]
     },
     "metadata": {
      "needs_background": "light"
     },
     "output_type": "display_data"
    }
   ],
   "source": [
    "import matplotlib.pyplot as plt\n",
    "def plot_training(history):\n",
    "  plt.figure(figsize=(10,5))\n",
    "  plt.plot(history.history['loss'] ,label='Training')\n",
    "  plt.plot(history.history['val_loss'], label='Validation')\n",
    "  plt.xlabel('Epochs')\n",
    "  plt.ylabel('Loss')\n",
    "  plt.grid()\n",
    "  plt.legend();\n",
    "\n",
    "plot_training(history)"
   ]
  },
  {
   "cell_type": "code",
   "execution_count": null,
   "metadata": {
    "colab": {
     "base_uri": "https://localhost:8080/"
    },
    "id": "p_snj-yJInKS",
    "outputId": "d36d230a-9f76-46dc-d0bc-758cf0de8181"
   },
   "outputs": [
    {
     "name": "stdout",
     "output_type": "stream",
     "text": [
      "Poisson deviance shallow network (train): 0.188\n",
      "Poisson deviance shallow network (test): 0.192\n"
     ]
    }
   ],
   "source": [
    "PoissonDeviance = tf.keras.metrics.poisson\n",
    "\n",
    "train['shNN'] = model.predict(Xtrain)\n",
    "test['shNN'] = model.predict(Xtest)\n",
    "\n",
    "in_sample_loss = poisson_deviance(train['ClaimNb'], train['shNN'])\n",
    "out_sample_loss = poisson_deviance(test['ClaimNb'], test['shNN'])\n",
    "print(f\"Poisson deviance shallow network (train): {in_sample_loss :.3f}\" )\n",
    "print(f\"Poisson deviance shallow network (test): {out_sample_loss :.3f}\" )\n",
    "\n",
    "train_results['shNN'] = [in_sample_loss]\n",
    "test_results['shNN'] = [out_sample_loss]"
   ]
  },
  {
   "cell_type": "code",
   "execution_count": null,
   "metadata": {
    "colab": {
     "base_uri": "https://localhost:8080/"
    },
    "id": "thWyL7V-KY3f",
    "outputId": "3920eb4e-02b5-465e-e616-33d814db1766"
   },
   "outputs": [
    {
     "name": "stdout",
     "output_type": "stream",
     "text": [
      "Average frequency (test):  1.229\n"
     ]
    }
   ],
   "source": [
    "shNN_frequency = sum(test['shNN']) / len(test)\n",
    "print(f\"Average frequency (test): {shNN_frequency: .3f}\" )"
   ]
  },
  {
   "cell_type": "code",
   "execution_count": null,
   "metadata": {
    "colab": {
     "base_uri": "https://localhost:8080/",
     "height": 279
    },
    "id": "zUAlHxIyRZSN",
    "outputId": "313cea36-dcbc-429d-8796-bcba922c8d53"
   },
   "outputs": [
    {
     "data": {
      "image/png": "[encoded data removed]",
      "text/plain": [
       "<Figure size 432x288 with 1 Axes>"
      ]
     },
     "metadata": {
      "needs_background": "light"
     },
     "output_type": "display_data"
    }
   ],
   "source": [
    "plot_df = Xtest.copy()\n",
    "plot_df['ClaimNb'] = test['ClaimNb']\n",
    "plot_df['shNN'] = test['shNN']\n",
    "\n",
    "grouped_data = plot_df.groupby(by=['ADR Flag']).mean()\n",
    "ax = grouped_data.plot(y='ClaimNb', marker='o')\n",
    "grouped_data.plot(y='shNN', marker='x', ax=ax);\n",
    "\n",
    "#grouped_data = plot_df.groupby(by=['R2','R3']).mean()\n",
    "#ax2 = grouped_data.plot(y='ClaimNb', marker='o')\n",
    "#grouped_data.plot(y='shNN', marker='x', ax=ax2);"
   ]
  },
  {
   "cell_type": "markdown",
   "metadata": {
    "id": "y0OPO7e8lQu6"
   },
   "source": [
    "# Deep vanillha neural network"
   ]
  },
  {
   "cell_type": "code",
   "execution_count": null,
   "metadata": {
    "colab": {
     "base_uri": "https://localhost:8080/"
    },
    "id": "HanG5xdATkOO",
    "outputId": "6d7114f6-3f4a-4193-d085-777a984d9d45"
   },
   "outputs": [
    {
     "name": "stdout",
     "output_type": "stream",
     "text": [
      "Neural network with K=3 hidden layer\n"
     ]
    }
   ],
   "source": [
    "# define network\n",
    "q0 = Xtrain.shape[1]   # dimension of features\n",
    "q1 = 20                 # number of neurons in first hidden layer\n",
    "q2 = 15                 # number of neurons in second hidden layer\n",
    "q3 = 10                 # number of neurons in second hidden layer\n",
    "\n",
    "print(\"Neural network with K=3 hidden layer\")"
   ]
  },
  {
   "cell_type": "code",
   "execution_count": null,
   "metadata": {
    "id": "81zq2sfkl36D"
   },
   "outputs": [],
   "source": [
    "model2 = tf.keras.Sequential()\n",
    "model2.add(tf.keras.layers.Dense(q1, input_shape=(q0,), activation='tanh'))\n",
    "model2.add(tf.keras.layers.Dense(q2, activation='tanh'))\n",
    "model2.add(tf.keras.layers.Dense(q3, activation='tanh'))\n",
    "model2.add(tf.keras.layers.Dense(1, activation='linear', kernel_initializer=tf.keras.initializers.Constant(tf.math.log(lambda_hom)), bias_initializer=tf.keras.initializers.Zeros()))\n",
    "model2.add(tf.keras.layers.Dense(1, activation='exponential', trainable=False, kernel_initializer=tf.keras.initializers.Ones(),\n",
    "    bias_initializer=tf.keras.initializers.Zeros()))"
   ]
  },
  {
   "cell_type": "code",
   "execution_count": null,
   "metadata": {
    "colab": {
     "base_uri": "https://localhost:8080/"
    },
    "id": "afQ9sdRRl36D",
    "outputId": "7c7b1855-03f5-473b-d523-92f62e904e67"
   },
   "outputs": [
    {
     "name": "stdout",
     "output_type": "stream",
     "text": [
      "Model: \"sequential_1\"\n",
      "_________________________________________________________________\n",
      " Layer (type)                Output Shape              Param #   \n",
      "=================================================================\n",
      " dense_3 (Dense)             (None, 20)                640       \n",
      "                                                                 \n",
      " dense_4 (Dense)             (None, 15)                315       \n",
      "                                                                 \n",
      " dense_5 (Dense)             (None, 10)                160       \n",
      "                                                                 \n",
      " dense_6 (Dense)             (None, 1)                 11        \n",
      "                                                                 \n",
      " dense_7 (Dense)             (None, 1)                 2         \n",
      "                                                                 \n",
      "=================================================================\n",
      "Total params: 1,128\n",
      "Trainable params: 1,126\n",
      "Non-trainable params: 2\n",
      "_________________________________________________________________\n"
     ]
    }
   ],
   "source": [
    "model2.compile(loss='poisson', optimizer='nadam', metrics=['mse'])\n",
    "model2.summary()"
   ]
  },
  {
   "cell_type": "code",
   "execution_count": null,
   "metadata": {
    "id": "Zd4lxFH6l36E"
   },
   "outputs": [],
   "source": [
    "epochs = 30\n",
    "batch_size = 1000\n",
    "validation_split = 0.2  # set to >0 to see train/validation loss in plot(fit)\n",
    "verbose = 1"
   ]
  },
  {
   "cell_type": "code",
   "execution_count": null,
   "metadata": {
    "colab": {
     "base_uri": "https://localhost:8080/"
    },
    "id": "mAk-Qgv4l36F",
    "outputId": "47aa6d8b-f0f5-4de6-dcce-c90a91993ef7"
   },
   "outputs": [
    {
     "name": "stdout",
     "output_type": "stream",
     "text": [
      "Epoch 1/30\n",
      "7/7 [==============================] - 0s 9ms/step - loss: 0.9756 - mse: 0.3182 - val_loss: 0.9765 - val_mse: 0.2938\n",
      "Epoch 2/30\n",
      "7/7 [==============================] - 0s 10ms/step - loss: 0.9756 - mse: 0.3183 - val_loss: 0.9765 - val_mse: 0.2937\n",
      "Epoch 3/30\n",
      "7/7 [==============================] - 0s 10ms/step - loss: 0.9756 - mse: 0.3181 - val_loss: 0.9766 - val_mse: 0.2939\n",
      "Epoch 4/30\n",
      "7/7 [==============================] - 0s 12ms/step - loss: 0.9756 - mse: 0.3182 - val_loss: 0.9769 - val_mse: 0.2947\n",
      "Epoch 5/30\n",
      "7/7 [==============================] - 0s 12ms/step - loss: 0.9756 - mse: 0.3182 - val_loss: 0.9765 - val_mse: 0.2937\n",
      "Epoch 6/30\n",
      "7/7 [==============================] - 0s 9ms/step - loss: 0.9755 - mse: 0.3181 - val_loss: 0.9765 - val_mse: 0.2937\n",
      "Epoch 7/30\n",
      "7/7 [==============================] - 0s 10ms/step - loss: 0.9756 - mse: 0.3181 - val_loss: 0.9765 - val_mse: 0.2938\n",
      "Epoch 8/30\n",
      "7/7 [==============================] - 0s 10ms/step - loss: 0.9756 - mse: 0.3182 - val_loss: 0.9766 - val_mse: 0.2940\n",
      "Epoch 9/30\n",
      "7/7 [==============================] - 0s 14ms/step - loss: 0.9756 - mse: 0.3181 - val_loss: 0.9766 - val_mse: 0.2938\n",
      "Epoch 10/30\n",
      "7/7 [==============================] - 0s 14ms/step - loss: 0.9756 - mse: 0.3181 - val_loss: 0.9766 - val_mse: 0.2938\n",
      "Epoch 11/30\n",
      "7/7 [==============================] - 0s 9ms/step - loss: 0.9755 - mse: 0.3180 - val_loss: 0.9765 - val_mse: 0.2937\n",
      "Epoch 12/30\n",
      "7/7 [==============================] - 0s 9ms/step - loss: 0.9756 - mse: 0.3181 - val_loss: 0.9766 - val_mse: 0.2940\n",
      "Epoch 13/30\n",
      "7/7 [==============================] - 0s 9ms/step - loss: 0.9755 - mse: 0.3181 - val_loss: 0.9765 - val_mse: 0.2938\n",
      "Epoch 14/30\n",
      "7/7 [==============================] - 0s 10ms/step - loss: 0.9756 - mse: 0.3181 - val_loss: 0.9766 - val_mse: 0.2938\n",
      "Epoch 15/30\n",
      "7/7 [==============================] - 0s 10ms/step - loss: 0.9756 - mse: 0.3183 - val_loss: 0.9768 - val_mse: 0.2945\n",
      "Epoch 16/30\n",
      "7/7 [==============================] - 0s 10ms/step - loss: 0.9758 - mse: 0.3186 - val_loss: 0.9765 - val_mse: 0.2937\n",
      "Epoch 17/30\n",
      "7/7 [==============================] - 0s 10ms/step - loss: 0.9755 - mse: 0.3180 - val_loss: 0.9766 - val_mse: 0.2938\n",
      "Epoch 18/30\n",
      "7/7 [==============================] - 0s 13ms/step - loss: 0.9755 - mse: 0.3179 - val_loss: 0.9765 - val_mse: 0.2937\n",
      "Epoch 19/30\n",
      "7/7 [==============================] - 0s 10ms/step - loss: 0.9755 - mse: 0.3180 - val_loss: 0.9767 - val_mse: 0.2942\n",
      "Epoch 20/30\n",
      "7/7 [==============================] - 0s 13ms/step - loss: 0.9755 - mse: 0.3180 - val_loss: 0.9767 - val_mse: 0.2941\n",
      "Epoch 21/30\n",
      "7/7 [==============================] - 0s 18ms/step - loss: 0.9755 - mse: 0.3181 - val_loss: 0.9767 - val_mse: 0.2942\n",
      "Epoch 22/30\n",
      "7/7 [==============================] - 0s 26ms/step - loss: 0.9755 - mse: 0.3181 - val_loss: 0.9767 - val_mse: 0.2942\n",
      "Epoch 23/30\n",
      "7/7 [==============================] - 0s 22ms/step - loss: 0.9755 - mse: 0.3180 - val_loss: 0.9767 - val_mse: 0.2942\n",
      "Epoch 24/30\n",
      "7/7 [==============================] - 0s 26ms/step - loss: 0.9755 - mse: 0.3179 - val_loss: 0.9766 - val_mse: 0.2939\n",
      "Epoch 25/30\n",
      "7/7 [==============================] - 0s 28ms/step - loss: 0.9755 - mse: 0.3179 - val_loss: 0.9767 - val_mse: 0.2942\n",
      "Epoch 26/30\n",
      "7/7 [==============================] - 0s 23ms/step - loss: 0.9755 - mse: 0.3180 - val_loss: 0.9766 - val_mse: 0.2939\n",
      "Epoch 27/30\n",
      "7/7 [==============================] - 0s 16ms/step - loss: 0.9754 - mse: 0.3178 - val_loss: 0.9766 - val_mse: 0.2940\n",
      "Epoch 28/30\n",
      "7/7 [==============================] - 0s 21ms/step - loss: 0.9754 - mse: 0.3178 - val_loss: 0.9766 - val_mse: 0.2940\n",
      "Epoch 29/30\n",
      "7/7 [==============================] - 0s 7ms/step - loss: 0.9754 - mse: 0.3177 - val_loss: 0.9772 - val_mse: 0.2954\n",
      "Epoch 30/30\n",
      "7/7 [==============================] - 0s 6ms/step - loss: 0.9757 - mse: 0.3183 - val_loss: 0.9765 - val_mse: 0.2936\n"
     ]
    }
   ],
   "source": [
    "history = model2.fit(Xtrain, ytrain, epochs=epochs, batch_size=batch_size, validation_split=validation_split, verbose=verbose)"
   ]
  },
  {
   "cell_type": "code",
   "execution_count": null,
   "metadata": {
    "colab": {
     "base_uri": "https://localhost:8080/",
     "height": 334
    },
    "id": "nw3iBipdl36F",
    "outputId": "7153c30c-a376-442b-c722-35906fba9414"
   },
   "outputs": [
    {
     "data": {
      "image/png": "[encoded data removed]",
      "text/plain": [
       "<Figure size 720x360 with 1 Axes>"
      ]
     },
     "metadata": {
      "needs_background": "light"
     },
     "output_type": "display_data"
    }
   ],
   "source": [
    "plot_training(history)"
   ]
  },
  {
   "cell_type": "code",
   "execution_count": null,
   "metadata": {
    "colab": {
     "base_uri": "https://localhost:8080/"
    },
    "id": "TcawO5Yml36F",
    "outputId": "38f458f5-09e0-47ab-ece2-8443538e8a2d"
   },
   "outputs": [
    {
     "name": "stdout",
     "output_type": "stream",
     "text": [
      "Poisson deviance shallow network (train): 0.188\n",
      "Poisson deviance shallow network (test): 0.192\n"
     ]
    }
   ],
   "source": [
    "PoissonDeviance = tf.keras.metrics.poisson\n",
    "\n",
    "train['dpNN'] = model2.predict(Xtrain)\n",
    "test['dpNN'] = model2.predict(Xtest)\n",
    "\n",
    "in_sample_loss = poisson_deviance(train['ClaimNb'], train['shNN'])\n",
    "out_sample_loss = poisson_deviance(test['ClaimNb'], test['shNN'])\n",
    "print(f\"Poisson deviance shallow network (train): {in_sample_loss :.3f}\" )\n",
    "print(f\"Poisson deviance shallow network (test): {out_sample_loss :.3f}\" )\n",
    "\n",
    "train_results['dpNN'] = [in_sample_loss]\n",
    "test_results['dpNN'] = [out_sample_loss]"
   ]
  },
  {
   "cell_type": "code",
   "execution_count": null,
   "metadata": {
    "colab": {
     "base_uri": "https://localhost:8080/"
    },
    "id": "Q8dq_OG0l36F",
    "outputId": "c641ebfd-abdb-474f-84f6-6c7ee45b9f14"
   },
   "outputs": [
    {
     "name": "stdout",
     "output_type": "stream",
     "text": [
      "Average frequency (test):  1.218\n"
     ]
    }
   ],
   "source": [
    "dpNN_frequency = sum(test['dpNN']) / len(test)\n",
    "print(f\"Average frequency (test): {dpNN_frequency: .3f}\" )"
   ]
  },
  {
   "cell_type": "markdown",
   "metadata": {
    "id": "6Ku5pJkbRrY9"
   },
   "source": [
    " # Deep neural network with dropout layers"
   ]
  },
  {
   "cell_type": "code",
   "execution_count": null,
   "metadata": {
    "id": "NX2Yxsd3n38q"
   },
   "outputs": [],
   "source": [
    "q0 = Xtrain.shape[1]   # dimension of features\n",
    "q1 = 20                 # number of neurons in first hidden layer\n",
    "q2 = 15                 # number of neurons in second hidden layer\n",
    "q3 = 10                 # number of neurons in second hidden layer\n",
    "p0 = 0.05               # dropout rate     "
   ]
  },
  {
   "cell_type": "code",
   "execution_count": null,
   "metadata": {
    "id": "PV90cMAzUDiB"
   },
   "outputs": [],
   "source": [
    "model3 = tf.keras.Sequential()\n",
    "model3.add(tf.keras.layers.Dense(q1, input_shape=(q0,), activation='tanh'))\n",
    "model3.add(tf.keras.layers.Dropout(p0))\n",
    "model3.add(tf.keras.layers.Dense(q2, activation='tanh'))\n",
    "model3.add(tf.keras.layers.Dropout(p0))\n",
    "model3.add(tf.keras.layers.Dense(q3, activation='tanh'))\n",
    "model3.add(tf.keras.layers.Dropout(p0))\n",
    "model3.add(tf.keras.layers.Dense(1, activation='linear', kernel_initializer=tf.keras.initializers.Constant(tf.math.log(lambda_hom)), bias_initializer=tf.keras.initializers.Zeros()))\n",
    "model3.add(tf.keras.layers.Dense(1, activation='exponential', trainable=False, kernel_initializer=tf.keras.initializers.Ones(),\n",
    "    bias_initializer=tf.keras.initializers.Zeros()))"
   ]
  },
  {
   "cell_type": "code",
   "execution_count": null,
   "metadata": {
    "colab": {
     "base_uri": "https://localhost:8080/"
    },
    "id": "ZQaicqgLUDiK",
    "outputId": "964f240c-493f-4cca-95b4-585a505c8864"
   },
   "outputs": [
    {
     "name": "stdout",
     "output_type": "stream",
     "text": [
      "Model: \"sequential_2\"\n",
      "_________________________________________________________________\n",
      " Layer (type)                Output Shape              Param #   \n",
      "=================================================================\n",
      " dense_8 (Dense)             (None, 20)                640       \n",
      "                                                                 \n",
      " dropout (Dropout)           (None, 20)                0         \n",
      "                                                                 \n",
      " dense_9 (Dense)             (None, 15)                315       \n",
      "                                                                 \n",
      " dropout_1 (Dropout)         (None, 15)                0         \n",
      "                                                                 \n",
      " dense_10 (Dense)            (None, 10)                160       \n",
      "                                                                 \n",
      " dropout_2 (Dropout)         (None, 10)                0         \n",
      "                                                                 \n",
      " dense_11 (Dense)            (None, 1)                 11        \n",
      "                                                                 \n",
      " dense_12 (Dense)            (None, 1)                 2         \n",
      "                                                                 \n",
      "=================================================================\n",
      "Total params: 1,128\n",
      "Trainable params: 1,126\n",
      "Non-trainable params: 2\n",
      "_________________________________________________________________\n"
     ]
    }
   ],
   "source": [
    "model3.compile(loss='poisson', optimizer='nadam', metrics=['mse'])\n",
    "model3.summary()"
   ]
  },
  {
   "cell_type": "code",
   "execution_count": null,
   "metadata": {
    "id": "6utKOUvDUDiL"
   },
   "outputs": [],
   "source": [
    "epochs = 30\n",
    "batch_size = 1000\n",
    "validation_split = 0.2  # set to >0 to see train/validation loss in plot(fit)\n",
    "verbose = 1"
   ]
  },
  {
   "cell_type": "code",
   "execution_count": null,
   "metadata": {
    "colab": {
     "base_uri": "https://localhost:8080/"
    },
    "id": "yStJKzXGUDiM",
    "outputId": "cb61b846-742f-45c7-8463-746a1922ac75"
   },
   "outputs": [
    {
     "name": "stdout",
     "output_type": "stream",
     "text": [
      "Epoch 1/30\n",
      "7/7 [==============================] - 2s 54ms/step - loss: 0.9935 - mse: 0.3562 - val_loss: 0.9823 - val_mse: 0.3068\n",
      "Epoch 2/30\n",
      "7/7 [==============================] - 0s 15ms/step - loss: 0.9831 - mse: 0.3353 - val_loss: 0.9786 - val_mse: 0.2985\n",
      "Epoch 3/30\n",
      "7/7 [==============================] - 0s 16ms/step - loss: 0.9808 - mse: 0.3303 - val_loss: 0.9777 - val_mse: 0.2964\n",
      "Epoch 4/30\n",
      "7/7 [==============================] - 0s 21ms/step - loss: 0.9799 - mse: 0.3285 - val_loss: 0.9772 - val_mse: 0.2953\n",
      "Epoch 5/30\n",
      "7/7 [==============================] - 0s 16ms/step - loss: 0.9792 - mse: 0.3269 - val_loss: 0.9769 - val_mse: 0.2946\n",
      "Epoch 6/30\n",
      "7/7 [==============================] - 0s 19ms/step - loss: 0.9798 - mse: 0.3282 - val_loss: 0.9768 - val_mse: 0.2944\n",
      "Epoch 7/30\n",
      "7/7 [==============================] - 0s 13ms/step - loss: 0.9781 - mse: 0.3240 - val_loss: 0.9767 - val_mse: 0.2942\n",
      "Epoch 8/30\n",
      "7/7 [==============================] - 0s 13ms/step - loss: 0.9784 - mse: 0.3247 - val_loss: 0.9767 - val_mse: 0.2941\n",
      "Epoch 9/30\n",
      "7/7 [==============================] - 0s 15ms/step - loss: 0.9779 - mse: 0.3235 - val_loss: 0.9767 - val_mse: 0.2942\n",
      "Epoch 10/30\n",
      "7/7 [==============================] - 0s 17ms/step - loss: 0.9773 - mse: 0.3222 - val_loss: 0.9766 - val_mse: 0.2940\n",
      "Epoch 11/30\n",
      "7/7 [==============================] - 0s 16ms/step - loss: 0.9779 - mse: 0.3237 - val_loss: 0.9766 - val_mse: 0.2940\n",
      "Epoch 12/30\n",
      "7/7 [==============================] - 0s 16ms/step - loss: 0.9778 - mse: 0.3237 - val_loss: 0.9766 - val_mse: 0.2939\n",
      "Epoch 13/30\n",
      "7/7 [==============================] - 0s 16ms/step - loss: 0.9772 - mse: 0.3219 - val_loss: 0.9766 - val_mse: 0.2939\n",
      "Epoch 14/30\n",
      "7/7 [==============================] - 0s 16ms/step - loss: 0.9773 - mse: 0.3223 - val_loss: 0.9766 - val_mse: 0.2939\n",
      "Epoch 15/30\n",
      "7/7 [==============================] - 0s 15ms/step - loss: 0.9771 - mse: 0.3219 - val_loss: 0.9766 - val_mse: 0.2939\n",
      "Epoch 16/30\n",
      "7/7 [==============================] - 0s 17ms/step - loss: 0.9770 - mse: 0.3215 - val_loss: 0.9766 - val_mse: 0.2938\n",
      "Epoch 17/30\n",
      "7/7 [==============================] - 0s 18ms/step - loss: 0.9779 - mse: 0.3237 - val_loss: 0.9765 - val_mse: 0.2937\n",
      "Epoch 18/30\n",
      "7/7 [==============================] - 0s 18ms/step - loss: 0.9773 - mse: 0.3224 - val_loss: 0.9765 - val_mse: 0.2936\n",
      "Epoch 19/30\n",
      "7/7 [==============================] - 0s 16ms/step - loss: 0.9774 - mse: 0.3223 - val_loss: 0.9764 - val_mse: 0.2935\n",
      "Epoch 20/30\n",
      "7/7 [==============================] - 0s 16ms/step - loss: 0.9768 - mse: 0.3211 - val_loss: 0.9764 - val_mse: 0.2934\n",
      "Epoch 21/30\n",
      "7/7 [==============================] - 0s 16ms/step - loss: 0.9769 - mse: 0.3212 - val_loss: 0.9764 - val_mse: 0.2934\n",
      "Epoch 22/30\n",
      "7/7 [==============================] - 0s 10ms/step - loss: 0.9770 - mse: 0.3217 - val_loss: 0.9765 - val_mse: 0.2936\n",
      "Epoch 23/30\n",
      "7/7 [==============================] - 0s 9ms/step - loss: 0.9766 - mse: 0.3205 - val_loss: 0.9765 - val_mse: 0.2937\n",
      "Epoch 24/30\n",
      "7/7 [==============================] - 0s 12ms/step - loss: 0.9766 - mse: 0.3207 - val_loss: 0.9765 - val_mse: 0.2936\n",
      "Epoch 25/30\n",
      "7/7 [==============================] - 0s 9ms/step - loss: 0.9766 - mse: 0.3205 - val_loss: 0.9764 - val_mse: 0.2934\n",
      "Epoch 26/30\n",
      "7/7 [==============================] - 0s 9ms/step - loss: 0.9769 - mse: 0.3212 - val_loss: 0.9764 - val_mse: 0.2935\n",
      "Epoch 27/30\n",
      "7/7 [==============================] - 0s 9ms/step - loss: 0.9771 - mse: 0.3218 - val_loss: 0.9764 - val_mse: 0.2935\n",
      "Epoch 28/30\n",
      "7/7 [==============================] - 0s 11ms/step - loss: 0.9768 - mse: 0.3209 - val_loss: 0.9764 - val_mse: 0.2934\n",
      "Epoch 29/30\n",
      "7/7 [==============================] - 0s 12ms/step - loss: 0.9768 - mse: 0.3212 - val_loss: 0.9764 - val_mse: 0.2934\n",
      "Epoch 30/30\n",
      "7/7 [==============================] - 0s 9ms/step - loss: 0.9768 - mse: 0.3211 - val_loss: 0.9764 - val_mse: 0.2933\n"
     ]
    }
   ],
   "source": [
    "history = model3.fit(Xtrain, ytrain, epochs=epochs, batch_size=batch_size, validation_split=validation_split, verbose=verbose)"
   ]
  },
  {
   "cell_type": "code",
   "execution_count": null,
   "metadata": {
    "colab": {
     "base_uri": "https://localhost:8080/",
     "height": 334
    },
    "id": "3O32MGhrUDiM",
    "outputId": "1b32d477-5ba6-4c33-baf3-cb3cf771fcda"
   },
   "outputs": [
    {
     "data": {
      "image/png": "[encoded data removed]",
      "text/plain": [
       "<Figure size 720x360 with 1 Axes>"
      ]
     },
     "metadata": {
      "needs_background": "light"
     },
     "output_type": "display_data"
    }
   ],
   "source": [
    "plot_training(history)"
   ]
  },
  {
   "cell_type": "code",
   "execution_count": null,
   "metadata": {
    "colab": {
     "base_uri": "https://localhost:8080/",
     "height": 286
    },
    "id": "f6jkDuPOAsut",
    "outputId": "f5ee5f4e-6a61-47d2-cbde-d1d1ec2dfdd8"
   },
   "outputs": [
    {
     "data": {
      "text/plain": [
       "(0.0, 10.0)"
      ]
     },
     "execution_count": 73,
     "metadata": {},
     "output_type": "execute_result"
    },
    {
     "data": {
      "image/png": "[encoded data removed]",
      "text/plain": [
       "<Figure size 432x288 with 1 Axes>"
      ]
     },
     "metadata": {
      "needs_background": "light"
     },
     "output_type": "display_data"
    }
   ],
   "source": [
    "plt.plot(train['ClaimNb'], train['shNN'],'o')\n",
    "plt.xlim([0,10])\n",
    "plt.ylim([0,10])"
   ]
  },
  {
   "cell_type": "code",
   "execution_count": null,
   "metadata": {
    "colab": {
     "base_uri": "https://localhost:8080/"
    },
    "id": "cl0YySyoUDiN",
    "outputId": "ec92c8cc-b33b-4b04-a2b4-b46b7b32f894"
   },
   "outputs": [
    {
     "name": "stdout",
     "output_type": "stream",
     "text": [
      "Poisson deviance shallow network (train): 0.188\n",
      "Poisson deviance shallow network (test): 0.192\n"
     ]
    }
   ],
   "source": [
    "PoissonDeviance = tf.keras.metrics.poisson\n",
    "\n",
    "train['drNN'] = model3.predict(Xtrain)\n",
    "test['drNN'] = model3.predict(Xtest)\n",
    "\n",
    "in_sample_loss = poisson_deviance(train['ClaimNb'], train['shNN'])\n",
    "out_sample_loss = poisson_deviance(test['ClaimNb'], test['shNN'])\n",
    "print(f\"Poisson deviance shallow network (train): {in_sample_loss :.3f}\" )\n",
    "print(f\"Poisson deviance shallow network (test): {out_sample_loss :.3f}\" )\n",
    "\n",
    "train_results['drNN'] = [in_sample_loss]\n",
    "test_results['drNN'] = [out_sample_loss]"
   ]
  },
  {
   "cell_type": "code",
   "execution_count": null,
   "metadata": {
    "colab": {
     "base_uri": "https://localhost:8080/"
    },
    "id": "ut8q9W1_UX9n",
    "outputId": "862afbea-ca10-4191-de12-668c04cfd7f6"
   },
   "outputs": [
    {
     "name": "stdout",
     "output_type": "stream",
     "text": [
      "Average frequency (test):  1.222\n"
     ]
    }
   ],
   "source": [
    "drNN_frequency = sum(test['drNN']) / len(test)\n",
    "print(f\"Average frequency (test): {drNN_frequency: .3f}\" )"
   ]
  },
  {
   "cell_type": "markdown",
   "metadata": {
    "id": "WkwInFdFVl4N"
   },
   "source": [
    "# MOdel comparison\n"
   ]
  },
  {
   "cell_type": "code",
   "execution_count": null,
   "metadata": {
    "colab": {
     "base_uri": "https://localhost:8080/",
     "height": 81
    },
    "id": "bdUo1jvkVuZo",
    "outputId": "802a96eb-6a2e-4be4-a1a9-a53cd3057b90"
   },
   "outputs": [
    {
     "data": {
      "text/html": [
       "\n",
       "  <div id=\"df-d4608be9-dcbf-47f0-95e8-24f9694d9947\">\n",
       "    <div class=\"colab-df-container\">\n",
       "      <div>\n",
       "<style scoped>\n",
       "    .dataframe tbody tr th:only-of-type {\n",
       "        vertical-align: middle;\n",
       "    }\n",
       "\n",
       "    .dataframe tbody tr th {\n",
       "        vertical-align: top;\n",
       "    }\n",
       "\n",
       "    .dataframe thead th {\n",
       "        text-align: right;\n",
       "    }\n",
       "</style>\n",
       "<table border=\"1\" class=\"dataframe\">\n",
       "  <thead>\n",
       "    <tr style=\"text-align: right;\">\n",
       "      <th></th>\n",
       "      <th>GLM</th>\n",
       "      <th>GLM Sectors</th>\n",
       "      <th>shNN</th>\n",
       "      <th>dpNN</th>\n",
       "      <th>drNN</th>\n",
       "    </tr>\n",
       "  </thead>\n",
       "  <tbody>\n",
       "    <tr>\n",
       "      <th>poisson deviance</th>\n",
       "      <td>0.188632</td>\n",
       "      <td>0.189917</td>\n",
       "      <td>0.188318</td>\n",
       "      <td>0.188318</td>\n",
       "      <td>0.188318</td>\n",
       "    </tr>\n",
       "  </tbody>\n",
       "</table>\n",
       "</div>\n",
       "      <button class=\"colab-df-convert\" onclick=\"convertToInteractive('df-d4608be9-dcbf-47f0-95e8-24f9694d9947')\"\n",
       "              title=\"Convert this dataframe to an interactive table.\"\n",
       "              style=\"display:none;\">\n",
       "        \n",
       "  <svg xmlns=\"http://www.w3.org/2000/svg\" height=\"24px\"viewBox=\"0 0 24 24\"\n",
       "       width=\"24px\">\n",
       "    <path d=\"M0 0h24v24H0V0z\" fill=\"none\"/>\n",
       "    <path d=\"M18.56 5.44l.94 2.06.94-2.06 2.06-.94-2.06-.94-.94-2.06-.94 2.06-2.06.94zm-11 1L8.5 8.5l.94-2.06 2.06-.94-2.06-.94L8.5 2.5l-.94 2.06-2.06.94zm10 10l.94 2.06.94-2.06 2.06-.94-2.06-.94-.94-2.06-.94 2.06-2.06.94z\"/><path d=\"M17.41 7.96l-1.37-1.37c-.4-.4-.92-.59-1.43-.59-.52 0-1.04.2-1.43.59L10.3 9.45l-7.72 7.72c-.78.78-.78 2.05 0 2.83L4 21.41c.39.39.9.59 1.41.59.51 0 1.02-.2 1.41-.59l7.78-7.78 2.81-2.81c.8-.78.8-2.07 0-2.86zM5.41 20L4 18.59l7.72-7.72 1.47 1.35L5.41 20z\"/>\n",
       "  </svg>\n",
       "      </button>\n",
       "      \n",
       "  <style>\n",
       "    .colab-df-container {\n",
       "      display:flex;\n",
       "      flex-wrap:wrap;\n",
       "      gap: 12px;\n",
       "    }\n",
       "\n",
       "    .colab-df-convert {\n",
       "      background-color: #E8F0FE;\n",
       "      border: none;\n",
       "      border-radius: 50%;\n",
       "      cursor: pointer;\n",
       "      display: none;\n",
       "      fill: #1967D2;\n",
       "      height: 32px;\n",
       "      padding: 0 0 0 0;\n",
       "      width: 32px;\n",
       "    }\n",
       "\n",
       "    .colab-df-convert:hover {\n",
       "      background-color: #E2EBFA;\n",
       "      box-shadow: 0px 1px 2px rgba(60, 64, 67, 0.3), 0px 1px 3px 1px rgba(60, 64, 67, 0.15);\n",
       "      fill: #174EA6;\n",
       "    }\n",
       "\n",
       "    [theme=dark] .colab-df-convert {\n",
       "      background-color: #3B4455;\n",
       "      fill: #D2E3FC;\n",
       "    }\n",
       "\n",
       "    [theme=dark] .colab-df-convert:hover {\n",
       "      background-color: #434B5C;\n",
       "      box-shadow: 0px 1px 3px 1px rgba(0, 0, 0, 0.15);\n",
       "      filter: drop-shadow(0px 1px 2px rgba(0, 0, 0, 0.3));\n",
       "      fill: #FFFFFF;\n",
       "    }\n",
       "  </style>\n",
       "\n",
       "      <script>\n",
       "        const buttonEl =\n",
       "          document.querySelector('#df-d4608be9-dcbf-47f0-95e8-24f9694d9947 button.colab-df-convert');\n",
       "        buttonEl.style.display =\n",
       "          google.colab.kernel.accessAllowed ? 'block' : 'none';\n",
       "\n",
       "        async function convertToInteractive(key) {\n",
       "          const element = document.querySelector('#df-d4608be9-dcbf-47f0-95e8-24f9694d9947');\n",
       "          const dataTable =\n",
       "            await google.colab.kernel.invokeFunction('convertToInteractive',\n",
       "                                                     [key], {});\n",
       "          if (!dataTable) return;\n",
       "\n",
       "          const docLinkHtml = 'Like what you see? Visit the ' +\n",
       "            '<a target=\"_blank\" href=https://colab.research.google.com/notebooks/data_table.ipynb>data table notebook</a>'\n",
       "            + ' to learn more about interactive tables.';\n",
       "          element.innerHTML = '';\n",
       "          dataTable['output_type'] = 'display_data';\n",
       "          await google.colab.output.renderOutput(dataTable, element);\n",
       "          const docLink = document.createElement('div');\n",
       "          docLink.innerHTML = docLinkHtml;\n",
       "          element.appendChild(docLink);\n",
       "        }\n",
       "      </script>\n",
       "    </div>\n",
       "  </div>\n",
       "  "
      ],
      "text/plain": [
       "                       GLM  GLM Sectors      shNN      dpNN      drNN\n",
       "poisson deviance  0.188632     0.189917  0.188318  0.188318  0.188318"
      ]
     },
     "execution_count": 76,
     "metadata": {},
     "output_type": "execute_result"
    }
   ],
   "source": [
    "# In sample performance\n",
    "pd.DataFrame(train_results)"
   ]
  },
  {
   "cell_type": "code",
   "execution_count": null,
   "metadata": {
    "colab": {
     "base_uri": "https://localhost:8080/",
     "height": 81
    },
    "id": "etJ23HPgVu-4",
    "outputId": "016ef391-84f7-4f7a-edde-0bd0e998ae12"
   },
   "outputs": [
    {
     "data": {
      "text/html": [
       "\n",
       "  <div id=\"df-42c5a944-57f6-4c5a-b203-86a7379f2362\">\n",
       "    <div class=\"colab-df-container\">\n",
       "      <div>\n",
       "<style scoped>\n",
       "    .dataframe tbody tr th:only-of-type {\n",
       "        vertical-align: middle;\n",
       "    }\n",
       "\n",
       "    .dataframe tbody tr th {\n",
       "        vertical-align: top;\n",
       "    }\n",
       "\n",
       "    .dataframe thead th {\n",
       "        text-align: right;\n",
       "    }\n",
       "</style>\n",
       "<table border=\"1\" class=\"dataframe\">\n",
       "  <thead>\n",
       "    <tr style=\"text-align: right;\">\n",
       "      <th></th>\n",
       "      <th>GLM</th>\n",
       "      <th>GLM Sectors</th>\n",
       "      <th>shNN</th>\n",
       "      <th>dpNN</th>\n",
       "      <th>drNN</th>\n",
       "    </tr>\n",
       "  </thead>\n",
       "  <tbody>\n",
       "    <tr>\n",
       "      <th>poisson deviance</th>\n",
       "      <td>0.191473</td>\n",
       "      <td>0.191567</td>\n",
       "      <td>0.19182</td>\n",
       "      <td>0.19182</td>\n",
       "      <td>0.19182</td>\n",
       "    </tr>\n",
       "  </tbody>\n",
       "</table>\n",
       "</div>\n",
       "      <button class=\"colab-df-convert\" onclick=\"convertToInteractive('df-42c5a944-57f6-4c5a-b203-86a7379f2362')\"\n",
       "              title=\"Convert this dataframe to an interactive table.\"\n",
       "              style=\"display:none;\">\n",
       "        \n",
       "  <svg xmlns=\"http://www.w3.org/2000/svg\" height=\"24px\"viewBox=\"0 0 24 24\"\n",
       "       width=\"24px\">\n",
       "    <path d=\"M0 0h24v24H0V0z\" fill=\"none\"/>\n",
       "    <path d=\"M18.56 5.44l.94 2.06.94-2.06 2.06-.94-2.06-.94-.94-2.06-.94 2.06-2.06.94zm-11 1L8.5 8.5l.94-2.06 2.06-.94-2.06-.94L8.5 2.5l-.94 2.06-2.06.94zm10 10l.94 2.06.94-2.06 2.06-.94-2.06-.94-.94-2.06-.94 2.06-2.06.94z\"/><path d=\"M17.41 7.96l-1.37-1.37c-.4-.4-.92-.59-1.43-.59-.52 0-1.04.2-1.43.59L10.3 9.45l-7.72 7.72c-.78.78-.78 2.05 0 2.83L4 21.41c.39.39.9.59 1.41.59.51 0 1.02-.2 1.41-.59l7.78-7.78 2.81-2.81c.8-.78.8-2.07 0-2.86zM5.41 20L4 18.59l7.72-7.72 1.47 1.35L5.41 20z\"/>\n",
       "  </svg>\n",
       "      </button>\n",
       "      \n",
       "  <style>\n",
       "    .colab-df-container {\n",
       "      display:flex;\n",
       "      flex-wrap:wrap;\n",
       "      gap: 12px;\n",
       "    }\n",
       "\n",
       "    .colab-df-convert {\n",
       "      background-color: #E8F0FE;\n",
       "      border: none;\n",
       "      border-radius: 50%;\n",
       "      cursor: pointer;\n",
       "      display: none;\n",
       "      fill: #1967D2;\n",
       "      height: 32px;\n",
       "      padding: 0 0 0 0;\n",
       "      width: 32px;\n",
       "    }\n",
       "\n",
       "    .colab-df-convert:hover {\n",
       "      background-color: #E2EBFA;\n",
       "      box-shadow: 0px 1px 2px rgba(60, 64, 67, 0.3), 0px 1px 3px 1px rgba(60, 64, 67, 0.15);\n",
       "      fill: #174EA6;\n",
       "    }\n",
       "\n",
       "    [theme=dark] .colab-df-convert {\n",
       "      background-color: #3B4455;\n",
       "      fill: #D2E3FC;\n",
       "    }\n",
       "\n",
       "    [theme=dark] .colab-df-convert:hover {\n",
       "      background-color: #434B5C;\n",
       "      box-shadow: 0px 1px 3px 1px rgba(0, 0, 0, 0.15);\n",
       "      filter: drop-shadow(0px 1px 2px rgba(0, 0, 0, 0.3));\n",
       "      fill: #FFFFFF;\n",
       "    }\n",
       "  </style>\n",
       "\n",
       "      <script>\n",
       "        const buttonEl =\n",
       "          document.querySelector('#df-42c5a944-57f6-4c5a-b203-86a7379f2362 button.colab-df-convert');\n",
       "        buttonEl.style.display =\n",
       "          google.colab.kernel.accessAllowed ? 'block' : 'none';\n",
       "\n",
       "        async function convertToInteractive(key) {\n",
       "          const element = document.querySelector('#df-42c5a944-57f6-4c5a-b203-86a7379f2362');\n",
       "          const dataTable =\n",
       "            await google.colab.kernel.invokeFunction('convertToInteractive',\n",
       "                                                     [key], {});\n",
       "          if (!dataTable) return;\n",
       "\n",
       "          const docLinkHtml = 'Like what you see? Visit the ' +\n",
       "            '<a target=\"_blank\" href=https://colab.research.google.com/notebooks/data_table.ipynb>data table notebook</a>'\n",
       "            + ' to learn more about interactive tables.';\n",
       "          element.innerHTML = '';\n",
       "          dataTable['output_type'] = 'display_data';\n",
       "          await google.colab.output.renderOutput(dataTable, element);\n",
       "          const docLink = document.createElement('div');\n",
       "          docLink.innerHTML = docLinkHtml;\n",
       "          element.appendChild(docLink);\n",
       "        }\n",
       "      </script>\n",
       "    </div>\n",
       "  </div>\n",
       "  "
      ],
      "text/plain": [
       "                       GLM  GLM Sectors     shNN     dpNN     drNN\n",
       "poisson deviance  0.191473     0.191567  0.19182  0.19182  0.19182"
      ]
     },
     "execution_count": 77,
     "metadata": {},
     "output_type": "execute_result"
    }
   ],
   "source": [
    "# Out of sample performance\n",
    "pd.DataFrame(test_results)"
   ]
  },
  {
   "cell_type": "code",
   "execution_count": null,
   "metadata": {
    "id": "KZJuUk-SAA-D"
   },
   "outputs": [],
   "source": []
  },
  {
   "cell_type": "code",
   "execution_count": null,
   "metadata": {
    "id": "qv7Un_bwF8xL"
   },
   "outputs": [],
   "source": []
  },
  {
   "cell_type": "code",
   "execution_count": null,
   "metadata": {
    "id": "EkJwTrZWF8u1"
   },
   "outputs": [],
   "source": []
  },
  {
   "cell_type": "code",
   "execution_count": null,
   "metadata": {
    "id": "QmZ7ao2wF8r9"
   },
   "outputs": [],
   "source": []
  },
  {
   "cell_type": "code",
   "execution_count": null,
   "metadata": {
    "colab": {
     "base_uri": "https://localhost:8080/"
    },
    "id": "zMfN664GF8gG",
    "outputId": "26b61ce3-c02c-466b-821f-da113b998028"
   },
   "outputs": [
    {
     "data": {
      "text/plain": [
       "['1,000']"
      ]
     },
     "execution_count": 48,
     "metadata": {},
     "output_type": "execute_result"
    }
   ],
   "source": [
    "import re\n",
    "text = \"On January 4, 2008, Millipore Corporation, Inc. of Billerca, MA (Millipore) has remitted $1,000 on behalf of itself and two of its subsidiaries to settle allegations of violations of the Iranian Transactions Regulations (ITR).  <P> <P>The alleged violations occurred between May and September 2005 and prior to the July 2006 acquisition of the two subsidiaries by Millipore.  <P> <P>The Office of Foreign Assets Control (OFAC) alleged that scientific samples were exported to Iran without an OFAC license.  <P> <P>Millipore voluntarily disclosed this matter to OFAC and has instituted a comprehensive U.S. sanctions compliance program.\"\n",
    "filtered = list(filter(lambda sentence: 'Millipore' in sentence and ('$' in sentence or 'USD' in sentence), text.split('.')))\n",
    "re.findall('[0-9]+\\,[0-9]+', filtered[0])"
   ]
  },
  {
   "cell_type": "code",
   "execution_count": null,
   "metadata": {
    "colab": {
     "base_uri": "https://localhost:8080/",
     "height": 53
    },
    "id": "bOVp0lNdGF-g",
    "outputId": "3828675a-3ef8-45c2-b9a6-2d661a53cfe6"
   },
   "outputs": [
    {
     "data": {
      "application/vnd.google.colaboratory.intrinsic+json": {
       "type": "string"
      },
      "text/plain": [
       "' of Billerca, MA (Millipore) has remitted $1,000 on behalf of itself and two of its subsidiaries to settle allegations of violations of the Iranian Transactions Regulations (ITR)'"
      ]
     },
     "execution_count": 49,
     "metadata": {},
     "output_type": "execute_result"
    }
   ],
   "source": [
    "filtered[0]"
   ]
  },
  {
   "cell_type": "code",
   "execution_count": null,
   "metadata": {
    "id": "ONc19xG9HHwM"
   },
   "outputs": [],
   "source": []
  }
 ],
 "metadata": {
  "colab": {
   "collapsed_sections": [],
   "name": "ANN_code_claims.ipynb",
   "provenance": [],
   "toc_visible": true
  },
  "kernelspec": {
   "display_name": "Python 3 (ipykernel)",
   "language": "python",
   "name": "python3"
  },
  "language_info": {
   "codemirror_mode": {
    "name": "ipython",
    "version": 3
   },
   "file_extension": ".py",
   "mimetype": "text/x-python",
   "name": "python",
   "nbconvert_exporter": "python",
   "pygments_lexer": "ipython3",
   "version": "3.7.13"
  }
 },
 "nbformat": 4,
 "nbformat_minor": 4
}
